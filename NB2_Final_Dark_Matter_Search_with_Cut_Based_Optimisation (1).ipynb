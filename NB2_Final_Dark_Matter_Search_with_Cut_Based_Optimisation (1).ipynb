{
  "nbformat": 4,
  "nbformat_minor": 0,
  "metadata": {
    "colab": {
      "provenance": [],
      "collapsed_sections": [
        "H_2ZD5TBkKX0",
        "piQdkJOKcsVG",
        "-QrXC-OJHFTM"
      ]
    },
    "kernelspec": {
      "name": "python3",
      "display_name": "Python 3"
    },
    "language_info": {
      "name": "python"
    },
    "widgets": {
      "application/vnd.jupyter.widget-state+json": {
        "7ae90a3a23574fc2a62c09475f1c9cc5": {
          "model_module": "@jupyter-widgets/controls",
          "model_name": "HBoxModel",
          "model_module_version": "1.5.0",
          "state": {
            "_dom_classes": [],
            "_model_module": "@jupyter-widgets/controls",
            "_model_module_version": "1.5.0",
            "_model_name": "HBoxModel",
            "_view_count": null,
            "_view_module": "@jupyter-widgets/controls",
            "_view_module_version": "1.5.0",
            "_view_name": "HBoxView",
            "box_style": "",
            "children": [
              "IPY_MODEL_4ad10827757c45b19af28ad96bae1326",
              "IPY_MODEL_79e9be4662234e2e8b804b9c2d23cf8c"
            ],
            "layout": "IPY_MODEL_bc19f3eae81d45bd9c60619d0ee78b93"
          }
        },
        "4ad10827757c45b19af28ad96bae1326": {
          "model_module": "@jupyter-widgets/controls",
          "model_name": "DropdownModel",
          "model_module_version": "1.5.0",
          "state": {
            "_dom_classes": [],
            "_model_module": "@jupyter-widgets/controls",
            "_model_module_version": "1.5.0",
            "_model_name": "DropdownModel",
            "_options_labels": [
              "",
              "Upwards",
              "Downwards",
              "To the right",
              "To the left"
            ],
            "_view_count": null,
            "_view_module": "@jupyter-widgets/controls",
            "_view_module_version": "1.5.0",
            "_view_name": "DropdownView",
            "description": "Answer:",
            "description_tooltip": null,
            "disabled": false,
            "index": 0,
            "layout": "IPY_MODEL_1524dd664a2a4843a08fa042aa2fe5e8",
            "style": "IPY_MODEL_a995820b631d4ca282945d93d080a7dc"
          }
        },
        "79e9be4662234e2e8b804b9c2d23cf8c": {
          "model_module": "@jupyter-widgets/output",
          "model_name": "OutputModel",
          "model_module_version": "1.0.0",
          "state": {
            "_dom_classes": [],
            "_model_module": "@jupyter-widgets/output",
            "_model_module_version": "1.0.0",
            "_model_name": "OutputModel",
            "_view_count": null,
            "_view_module": "@jupyter-widgets/output",
            "_view_module_version": "1.0.0",
            "_view_name": "OutputView",
            "layout": "IPY_MODEL_920ba6f967e64079865848923814c191",
            "msg_id": "",
            "outputs": [
              {
                "output_type": "stream",
                "name": "stdout",
                "text": [
                  "\n"
                ]
              }
            ]
          }
        },
        "bc19f3eae81d45bd9c60619d0ee78b93": {
          "model_module": "@jupyter-widgets/base",
          "model_name": "LayoutModel",
          "model_module_version": "1.2.0",
          "state": {
            "_model_module": "@jupyter-widgets/base",
            "_model_module_version": "1.2.0",
            "_model_name": "LayoutModel",
            "_view_count": null,
            "_view_module": "@jupyter-widgets/base",
            "_view_module_version": "1.2.0",
            "_view_name": "LayoutView",
            "align_content": null,
            "align_items": null,
            "align_self": null,
            "border": null,
            "bottom": null,
            "display": null,
            "flex": null,
            "flex_flow": null,
            "grid_area": null,
            "grid_auto_columns": null,
            "grid_auto_flow": null,
            "grid_auto_rows": null,
            "grid_column": null,
            "grid_gap": null,
            "grid_row": null,
            "grid_template_areas": null,
            "grid_template_columns": null,
            "grid_template_rows": null,
            "height": null,
            "justify_content": null,
            "justify_items": null,
            "left": null,
            "margin": null,
            "max_height": null,
            "max_width": null,
            "min_height": null,
            "min_width": null,
            "object_fit": null,
            "object_position": null,
            "order": null,
            "overflow": null,
            "overflow_x": null,
            "overflow_y": null,
            "padding": null,
            "right": null,
            "top": null,
            "visibility": null,
            "width": null
          }
        },
        "1524dd664a2a4843a08fa042aa2fe5e8": {
          "model_module": "@jupyter-widgets/base",
          "model_name": "LayoutModel",
          "model_module_version": "1.2.0",
          "state": {
            "_model_module": "@jupyter-widgets/base",
            "_model_module_version": "1.2.0",
            "_model_name": "LayoutModel",
            "_view_count": null,
            "_view_module": "@jupyter-widgets/base",
            "_view_module_version": "1.2.0",
            "_view_name": "LayoutView",
            "align_content": null,
            "align_items": null,
            "align_self": null,
            "border": null,
            "bottom": null,
            "display": null,
            "flex": null,
            "flex_flow": null,
            "grid_area": null,
            "grid_auto_columns": null,
            "grid_auto_flow": null,
            "grid_auto_rows": null,
            "grid_column": null,
            "grid_gap": null,
            "grid_row": null,
            "grid_template_areas": null,
            "grid_template_columns": null,
            "grid_template_rows": null,
            "height": null,
            "justify_content": null,
            "justify_items": null,
            "left": null,
            "margin": null,
            "max_height": null,
            "max_width": null,
            "min_height": null,
            "min_width": null,
            "object_fit": null,
            "object_position": null,
            "order": null,
            "overflow": null,
            "overflow_x": null,
            "overflow_y": null,
            "padding": null,
            "right": null,
            "top": null,
            "visibility": null,
            "width": null
          }
        },
        "a995820b631d4ca282945d93d080a7dc": {
          "model_module": "@jupyter-widgets/controls",
          "model_name": "DescriptionStyleModel",
          "model_module_version": "1.5.0",
          "state": {
            "_model_module": "@jupyter-widgets/controls",
            "_model_module_version": "1.5.0",
            "_model_name": "DescriptionStyleModel",
            "_view_count": null,
            "_view_module": "@jupyter-widgets/base",
            "_view_module_version": "1.2.0",
            "_view_name": "StyleView",
            "description_width": ""
          }
        },
        "920ba6f967e64079865848923814c191": {
          "model_module": "@jupyter-widgets/base",
          "model_name": "LayoutModel",
          "model_module_version": "1.2.0",
          "state": {
            "_model_module": "@jupyter-widgets/base",
            "_model_module_version": "1.2.0",
            "_model_name": "LayoutModel",
            "_view_count": null,
            "_view_module": "@jupyter-widgets/base",
            "_view_module_version": "1.2.0",
            "_view_name": "LayoutView",
            "align_content": null,
            "align_items": null,
            "align_self": null,
            "border": null,
            "bottom": null,
            "display": null,
            "flex": null,
            "flex_flow": null,
            "grid_area": null,
            "grid_auto_columns": null,
            "grid_auto_flow": null,
            "grid_auto_rows": null,
            "grid_column": null,
            "grid_gap": null,
            "grid_row": null,
            "grid_template_areas": null,
            "grid_template_columns": null,
            "grid_template_rows": null,
            "height": null,
            "justify_content": null,
            "justify_items": null,
            "left": null,
            "margin": null,
            "max_height": null,
            "max_width": null,
            "min_height": null,
            "min_width": null,
            "object_fit": null,
            "object_position": null,
            "order": null,
            "overflow": null,
            "overflow_x": null,
            "overflow_y": null,
            "padding": null,
            "right": null,
            "top": null,
            "visibility": null,
            "width": null
          }
        },
        "3b9daa8ccab04fecb2bfc1d9da796b4a": {
          "model_module": "@jupyter-widgets/controls",
          "model_name": "HBoxModel",
          "model_module_version": "1.5.0",
          "state": {
            "_dom_classes": [],
            "_model_module": "@jupyter-widgets/controls",
            "_model_module_version": "1.5.0",
            "_model_name": "HBoxModel",
            "_view_count": null,
            "_view_module": "@jupyter-widgets/controls",
            "_view_module_version": "1.5.0",
            "_view_name": "HBoxView",
            "box_style": "",
            "children": [
              "IPY_MODEL_c275f007a064410e81d737af41321c34",
              "IPY_MODEL_9d75a55a78fd4bbe907e1e154456f76f"
            ],
            "layout": "IPY_MODEL_8a13b6ebdd294e7b851f8decc3518ae3"
          }
        },
        "c275f007a064410e81d737af41321c34": {
          "model_module": "@jupyter-widgets/controls",
          "model_name": "DropdownModel",
          "model_module_version": "1.5.0",
          "state": {
            "_dom_classes": [],
            "_model_module": "@jupyter-widgets/controls",
            "_model_module_version": "1.5.0",
            "_model_name": "DropdownModel",
            "_options_labels": [
              "",
              "It is too massive (heavy) to detect.",
              "It only interacts with the weak and gravitational forces.",
              "We are using the wrong wavelength to detect it.",
              "It only interacts with the electromagnetic force."
            ],
            "_view_count": null,
            "_view_module": "@jupyter-widgets/controls",
            "_view_module_version": "1.5.0",
            "_view_name": "DropdownView",
            "description": "Answer:",
            "description_tooltip": null,
            "disabled": false,
            "index": 0,
            "layout": "IPY_MODEL_3d7526e34d464ab6b238fbad68f132f7",
            "style": "IPY_MODEL_dba6ba5c3fb540dc909ca1232f379546"
          }
        },
        "9d75a55a78fd4bbe907e1e154456f76f": {
          "model_module": "@jupyter-widgets/output",
          "model_name": "OutputModel",
          "model_module_version": "1.0.0",
          "state": {
            "_dom_classes": [],
            "_model_module": "@jupyter-widgets/output",
            "_model_module_version": "1.0.0",
            "_model_name": "OutputModel",
            "_view_count": null,
            "_view_module": "@jupyter-widgets/output",
            "_view_module_version": "1.0.0",
            "_view_name": "OutputView",
            "layout": "IPY_MODEL_3b6957f69bbe4ee28994bf628fbd1c89",
            "msg_id": "",
            "outputs": [
              {
                "output_type": "stream",
                "name": "stdout",
                "text": [
                  "\n"
                ]
              }
            ]
          }
        },
        "8a13b6ebdd294e7b851f8decc3518ae3": {
          "model_module": "@jupyter-widgets/base",
          "model_name": "LayoutModel",
          "model_module_version": "1.2.0",
          "state": {
            "_model_module": "@jupyter-widgets/base",
            "_model_module_version": "1.2.0",
            "_model_name": "LayoutModel",
            "_view_count": null,
            "_view_module": "@jupyter-widgets/base",
            "_view_module_version": "1.2.0",
            "_view_name": "LayoutView",
            "align_content": null,
            "align_items": null,
            "align_self": null,
            "border": null,
            "bottom": null,
            "display": null,
            "flex": null,
            "flex_flow": null,
            "grid_area": null,
            "grid_auto_columns": null,
            "grid_auto_flow": null,
            "grid_auto_rows": null,
            "grid_column": null,
            "grid_gap": null,
            "grid_row": null,
            "grid_template_areas": null,
            "grid_template_columns": null,
            "grid_template_rows": null,
            "height": null,
            "justify_content": null,
            "justify_items": null,
            "left": null,
            "margin": null,
            "max_height": null,
            "max_width": null,
            "min_height": null,
            "min_width": null,
            "object_fit": null,
            "object_position": null,
            "order": null,
            "overflow": null,
            "overflow_x": null,
            "overflow_y": null,
            "padding": null,
            "right": null,
            "top": null,
            "visibility": null,
            "width": null
          }
        },
        "3d7526e34d464ab6b238fbad68f132f7": {
          "model_module": "@jupyter-widgets/base",
          "model_name": "LayoutModel",
          "model_module_version": "1.2.0",
          "state": {
            "_model_module": "@jupyter-widgets/base",
            "_model_module_version": "1.2.0",
            "_model_name": "LayoutModel",
            "_view_count": null,
            "_view_module": "@jupyter-widgets/base",
            "_view_module_version": "1.2.0",
            "_view_name": "LayoutView",
            "align_content": null,
            "align_items": null,
            "align_self": null,
            "border": null,
            "bottom": null,
            "display": null,
            "flex": null,
            "flex_flow": null,
            "grid_area": null,
            "grid_auto_columns": null,
            "grid_auto_flow": null,
            "grid_auto_rows": null,
            "grid_column": null,
            "grid_gap": null,
            "grid_row": null,
            "grid_template_areas": null,
            "grid_template_columns": null,
            "grid_template_rows": null,
            "height": null,
            "justify_content": null,
            "justify_items": null,
            "left": null,
            "margin": null,
            "max_height": null,
            "max_width": null,
            "min_height": null,
            "min_width": null,
            "object_fit": null,
            "object_position": null,
            "order": null,
            "overflow": null,
            "overflow_x": null,
            "overflow_y": null,
            "padding": null,
            "right": null,
            "top": null,
            "visibility": null,
            "width": null
          }
        },
        "dba6ba5c3fb540dc909ca1232f379546": {
          "model_module": "@jupyter-widgets/controls",
          "model_name": "DescriptionStyleModel",
          "model_module_version": "1.5.0",
          "state": {
            "_model_module": "@jupyter-widgets/controls",
            "_model_module_version": "1.5.0",
            "_model_name": "DescriptionStyleModel",
            "_view_count": null,
            "_view_module": "@jupyter-widgets/base",
            "_view_module_version": "1.2.0",
            "_view_name": "StyleView",
            "description_width": ""
          }
        },
        "3b6957f69bbe4ee28994bf628fbd1c89": {
          "model_module": "@jupyter-widgets/base",
          "model_name": "LayoutModel",
          "model_module_version": "1.2.0",
          "state": {
            "_model_module": "@jupyter-widgets/base",
            "_model_module_version": "1.2.0",
            "_model_name": "LayoutModel",
            "_view_count": null,
            "_view_module": "@jupyter-widgets/base",
            "_view_module_version": "1.2.0",
            "_view_name": "LayoutView",
            "align_content": null,
            "align_items": null,
            "align_self": null,
            "border": null,
            "bottom": null,
            "display": null,
            "flex": null,
            "flex_flow": null,
            "grid_area": null,
            "grid_auto_columns": null,
            "grid_auto_flow": null,
            "grid_auto_rows": null,
            "grid_column": null,
            "grid_gap": null,
            "grid_row": null,
            "grid_template_areas": null,
            "grid_template_columns": null,
            "grid_template_rows": null,
            "height": null,
            "justify_content": null,
            "justify_items": null,
            "left": null,
            "margin": null,
            "max_height": null,
            "max_width": null,
            "min_height": null,
            "min_width": null,
            "object_fit": null,
            "object_position": null,
            "order": null,
            "overflow": null,
            "overflow_x": null,
            "overflow_y": null,
            "padding": null,
            "right": null,
            "top": null,
            "visibility": null,
            "width": null
          }
        },
        "b57f42f6bda84087a5db6e281ed193a6": {
          "model_module": "@jupyter-widgets/controls",
          "model_name": "HBoxModel",
          "model_module_version": "1.5.0",
          "state": {
            "_dom_classes": [],
            "_model_module": "@jupyter-widgets/controls",
            "_model_module_version": "1.5.0",
            "_model_name": "HBoxModel",
            "_view_count": null,
            "_view_module": "@jupyter-widgets/controls",
            "_view_module_version": "1.5.0",
            "_view_name": "HBoxView",
            "box_style": "",
            "children": [
              "IPY_MODEL_c79992264c164af8a8fa8e68a7ae282a",
              "IPY_MODEL_64322179dd0147d5afa571434b6a8fc3"
            ],
            "layout": "IPY_MODEL_0289e1188edf4b32a36f5bdcc2e54fc1"
          }
        },
        "c79992264c164af8a8fa8e68a7ae282a": {
          "model_module": "@jupyter-widgets/controls",
          "model_name": "DropdownModel",
          "model_module_version": "1.5.0",
          "state": {
            "_dom_classes": [],
            "_model_module": "@jupyter-widgets/controls",
            "_model_module_version": "1.5.0",
            "_model_name": "DropdownModel",
            "_options_labels": [
              "",
              "Dataframes.",
              "Recorded data from ATLAS.",
              "Simulated data from ATLAS."
            ],
            "_view_count": null,
            "_view_module": "@jupyter-widgets/controls",
            "_view_module_version": "1.5.0",
            "_view_name": "DropdownView",
            "description": "Answer:",
            "description_tooltip": null,
            "disabled": false,
            "index": 0,
            "layout": "IPY_MODEL_1bf0ba8588c04ee1bada1ebf2ab86932",
            "style": "IPY_MODEL_eaa7e041fbfc4ceab36bf7ec35ff01b2"
          }
        },
        "64322179dd0147d5afa571434b6a8fc3": {
          "model_module": "@jupyter-widgets/output",
          "model_name": "OutputModel",
          "model_module_version": "1.0.0",
          "state": {
            "_dom_classes": [],
            "_model_module": "@jupyter-widgets/output",
            "_model_module_version": "1.0.0",
            "_model_name": "OutputModel",
            "_view_count": null,
            "_view_module": "@jupyter-widgets/output",
            "_view_module_version": "1.0.0",
            "_view_name": "OutputView",
            "layout": "IPY_MODEL_0984f8f78ba04b2a9f70d805f00d9e10",
            "msg_id": "",
            "outputs": [
              {
                "output_type": "stream",
                "name": "stdout",
                "text": [
                  "\n"
                ]
              }
            ]
          }
        },
        "0289e1188edf4b32a36f5bdcc2e54fc1": {
          "model_module": "@jupyter-widgets/base",
          "model_name": "LayoutModel",
          "model_module_version": "1.2.0",
          "state": {
            "_model_module": "@jupyter-widgets/base",
            "_model_module_version": "1.2.0",
            "_model_name": "LayoutModel",
            "_view_count": null,
            "_view_module": "@jupyter-widgets/base",
            "_view_module_version": "1.2.0",
            "_view_name": "LayoutView",
            "align_content": null,
            "align_items": null,
            "align_self": null,
            "border": null,
            "bottom": null,
            "display": null,
            "flex": null,
            "flex_flow": null,
            "grid_area": null,
            "grid_auto_columns": null,
            "grid_auto_flow": null,
            "grid_auto_rows": null,
            "grid_column": null,
            "grid_gap": null,
            "grid_row": null,
            "grid_template_areas": null,
            "grid_template_columns": null,
            "grid_template_rows": null,
            "height": null,
            "justify_content": null,
            "justify_items": null,
            "left": null,
            "margin": null,
            "max_height": null,
            "max_width": null,
            "min_height": null,
            "min_width": null,
            "object_fit": null,
            "object_position": null,
            "order": null,
            "overflow": null,
            "overflow_x": null,
            "overflow_y": null,
            "padding": null,
            "right": null,
            "top": null,
            "visibility": null,
            "width": null
          }
        },
        "1bf0ba8588c04ee1bada1ebf2ab86932": {
          "model_module": "@jupyter-widgets/base",
          "model_name": "LayoutModel",
          "model_module_version": "1.2.0",
          "state": {
            "_model_module": "@jupyter-widgets/base",
            "_model_module_version": "1.2.0",
            "_model_name": "LayoutModel",
            "_view_count": null,
            "_view_module": "@jupyter-widgets/base",
            "_view_module_version": "1.2.0",
            "_view_name": "LayoutView",
            "align_content": null,
            "align_items": null,
            "align_self": null,
            "border": null,
            "bottom": null,
            "display": null,
            "flex": null,
            "flex_flow": null,
            "grid_area": null,
            "grid_auto_columns": null,
            "grid_auto_flow": null,
            "grid_auto_rows": null,
            "grid_column": null,
            "grid_gap": null,
            "grid_row": null,
            "grid_template_areas": null,
            "grid_template_columns": null,
            "grid_template_rows": null,
            "height": null,
            "justify_content": null,
            "justify_items": null,
            "left": null,
            "margin": null,
            "max_height": null,
            "max_width": null,
            "min_height": null,
            "min_width": null,
            "object_fit": null,
            "object_position": null,
            "order": null,
            "overflow": null,
            "overflow_x": null,
            "overflow_y": null,
            "padding": null,
            "right": null,
            "top": null,
            "visibility": null,
            "width": null
          }
        },
        "eaa7e041fbfc4ceab36bf7ec35ff01b2": {
          "model_module": "@jupyter-widgets/controls",
          "model_name": "DescriptionStyleModel",
          "model_module_version": "1.5.0",
          "state": {
            "_model_module": "@jupyter-widgets/controls",
            "_model_module_version": "1.5.0",
            "_model_name": "DescriptionStyleModel",
            "_view_count": null,
            "_view_module": "@jupyter-widgets/base",
            "_view_module_version": "1.2.0",
            "_view_name": "StyleView",
            "description_width": ""
          }
        },
        "0984f8f78ba04b2a9f70d805f00d9e10": {
          "model_module": "@jupyter-widgets/base",
          "model_name": "LayoutModel",
          "model_module_version": "1.2.0",
          "state": {
            "_model_module": "@jupyter-widgets/base",
            "_model_module_version": "1.2.0",
            "_model_name": "LayoutModel",
            "_view_count": null,
            "_view_module": "@jupyter-widgets/base",
            "_view_module_version": "1.2.0",
            "_view_name": "LayoutView",
            "align_content": null,
            "align_items": null,
            "align_self": null,
            "border": null,
            "bottom": null,
            "display": null,
            "flex": null,
            "flex_flow": null,
            "grid_area": null,
            "grid_auto_columns": null,
            "grid_auto_flow": null,
            "grid_auto_rows": null,
            "grid_column": null,
            "grid_gap": null,
            "grid_row": null,
            "grid_template_areas": null,
            "grid_template_columns": null,
            "grid_template_rows": null,
            "height": null,
            "justify_content": null,
            "justify_items": null,
            "left": null,
            "margin": null,
            "max_height": null,
            "max_width": null,
            "min_height": null,
            "min_width": null,
            "object_fit": null,
            "object_position": null,
            "order": null,
            "overflow": null,
            "overflow_x": null,
            "overflow_y": null,
            "padding": null,
            "right": null,
            "top": null,
            "visibility": null,
            "width": null
          }
        },
        "2759fa20b9c6410aa9ecf08e29f647bd": {
          "model_module": "@jupyter-widgets/controls",
          "model_name": "HBoxModel",
          "model_module_version": "1.5.0",
          "state": {
            "_dom_classes": [],
            "_model_module": "@jupyter-widgets/controls",
            "_model_module_version": "1.5.0",
            "_model_name": "HBoxModel",
            "_view_count": null,
            "_view_module": "@jupyter-widgets/controls",
            "_view_module_version": "1.5.0",
            "_view_name": "HBoxView",
            "box_style": "",
            "children": [
              "IPY_MODEL_9e523fc844e8414989aa03957901c4b5",
              "IPY_MODEL_1c203858dd9841dba8d5f6f8e3201953"
            ],
            "layout": "IPY_MODEL_f833951a411e4006bc25e877d67a1884"
          }
        },
        "9e523fc844e8414989aa03957901c4b5": {
          "model_module": "@jupyter-widgets/controls",
          "model_name": "DropdownModel",
          "model_module_version": "1.5.0",
          "state": {
            "_dom_classes": [],
            "_model_module": "@jupyter-widgets/controls",
            "_model_module_version": "1.5.0",
            "_model_name": "DropdownModel",
            "_options_labels": [
              "",
              "DM+Z-->ll",
              "Non-resonant ll",
              "Z+Jets"
            ],
            "_view_count": null,
            "_view_module": "@jupyter-widgets/controls",
            "_view_module_version": "1.5.0",
            "_view_name": "DropdownView",
            "description": "Answer:",
            "description_tooltip": null,
            "disabled": false,
            "index": 0,
            "layout": "IPY_MODEL_5b039ca782e9473b8ba15ccafa82a773",
            "style": "IPY_MODEL_a38fe9613a4e4440b0f02b5cd6c628d1"
          }
        },
        "1c203858dd9841dba8d5f6f8e3201953": {
          "model_module": "@jupyter-widgets/output",
          "model_name": "OutputModel",
          "model_module_version": "1.0.0",
          "state": {
            "_dom_classes": [],
            "_model_module": "@jupyter-widgets/output",
            "_model_module_version": "1.0.0",
            "_model_name": "OutputModel",
            "_view_count": null,
            "_view_module": "@jupyter-widgets/output",
            "_view_module_version": "1.0.0",
            "_view_name": "OutputView",
            "layout": "IPY_MODEL_c83ffffda48d44e6a903b9cdccf6bca6",
            "msg_id": "",
            "outputs": [
              {
                "output_type": "stream",
                "name": "stdout",
                "text": [
                  "\n"
                ]
              }
            ]
          }
        },
        "f833951a411e4006bc25e877d67a1884": {
          "model_module": "@jupyter-widgets/base",
          "model_name": "LayoutModel",
          "model_module_version": "1.2.0",
          "state": {
            "_model_module": "@jupyter-widgets/base",
            "_model_module_version": "1.2.0",
            "_model_name": "LayoutModel",
            "_view_count": null,
            "_view_module": "@jupyter-widgets/base",
            "_view_module_version": "1.2.0",
            "_view_name": "LayoutView",
            "align_content": null,
            "align_items": null,
            "align_self": null,
            "border": null,
            "bottom": null,
            "display": null,
            "flex": null,
            "flex_flow": null,
            "grid_area": null,
            "grid_auto_columns": null,
            "grid_auto_flow": null,
            "grid_auto_rows": null,
            "grid_column": null,
            "grid_gap": null,
            "grid_row": null,
            "grid_template_areas": null,
            "grid_template_columns": null,
            "grid_template_rows": null,
            "height": null,
            "justify_content": null,
            "justify_items": null,
            "left": null,
            "margin": null,
            "max_height": null,
            "max_width": null,
            "min_height": null,
            "min_width": null,
            "object_fit": null,
            "object_position": null,
            "order": null,
            "overflow": null,
            "overflow_x": null,
            "overflow_y": null,
            "padding": null,
            "right": null,
            "top": null,
            "visibility": null,
            "width": null
          }
        },
        "5b039ca782e9473b8ba15ccafa82a773": {
          "model_module": "@jupyter-widgets/base",
          "model_name": "LayoutModel",
          "model_module_version": "1.2.0",
          "state": {
            "_model_module": "@jupyter-widgets/base",
            "_model_module_version": "1.2.0",
            "_model_name": "LayoutModel",
            "_view_count": null,
            "_view_module": "@jupyter-widgets/base",
            "_view_module_version": "1.2.0",
            "_view_name": "LayoutView",
            "align_content": null,
            "align_items": null,
            "align_self": null,
            "border": null,
            "bottom": null,
            "display": null,
            "flex": null,
            "flex_flow": null,
            "grid_area": null,
            "grid_auto_columns": null,
            "grid_auto_flow": null,
            "grid_auto_rows": null,
            "grid_column": null,
            "grid_gap": null,
            "grid_row": null,
            "grid_template_areas": null,
            "grid_template_columns": null,
            "grid_template_rows": null,
            "height": null,
            "justify_content": null,
            "justify_items": null,
            "left": null,
            "margin": null,
            "max_height": null,
            "max_width": null,
            "min_height": null,
            "min_width": null,
            "object_fit": null,
            "object_position": null,
            "order": null,
            "overflow": null,
            "overflow_x": null,
            "overflow_y": null,
            "padding": null,
            "right": null,
            "top": null,
            "visibility": null,
            "width": null
          }
        },
        "a38fe9613a4e4440b0f02b5cd6c628d1": {
          "model_module": "@jupyter-widgets/controls",
          "model_name": "DescriptionStyleModel",
          "model_module_version": "1.5.0",
          "state": {
            "_model_module": "@jupyter-widgets/controls",
            "_model_module_version": "1.5.0",
            "_model_name": "DescriptionStyleModel",
            "_view_count": null,
            "_view_module": "@jupyter-widgets/base",
            "_view_module_version": "1.2.0",
            "_view_name": "StyleView",
            "description_width": ""
          }
        },
        "c83ffffda48d44e6a903b9cdccf6bca6": {
          "model_module": "@jupyter-widgets/base",
          "model_name": "LayoutModel",
          "model_module_version": "1.2.0",
          "state": {
            "_model_module": "@jupyter-widgets/base",
            "_model_module_version": "1.2.0",
            "_model_name": "LayoutModel",
            "_view_count": null,
            "_view_module": "@jupyter-widgets/base",
            "_view_module_version": "1.2.0",
            "_view_name": "LayoutView",
            "align_content": null,
            "align_items": null,
            "align_self": null,
            "border": null,
            "bottom": null,
            "display": null,
            "flex": null,
            "flex_flow": null,
            "grid_area": null,
            "grid_auto_columns": null,
            "grid_auto_flow": null,
            "grid_auto_rows": null,
            "grid_column": null,
            "grid_gap": null,
            "grid_row": null,
            "grid_template_areas": null,
            "grid_template_columns": null,
            "grid_template_rows": null,
            "height": null,
            "justify_content": null,
            "justify_items": null,
            "left": null,
            "margin": null,
            "max_height": null,
            "max_width": null,
            "min_height": null,
            "min_width": null,
            "object_fit": null,
            "object_position": null,
            "order": null,
            "overflow": null,
            "overflow_x": null,
            "overflow_y": null,
            "padding": null,
            "right": null,
            "top": null,
            "visibility": null,
            "width": null
          }
        },
        "de35b755ace940d5b10c13aa24c27ffe": {
          "model_module": "@jupyter-widgets/controls",
          "model_name": "HBoxModel",
          "model_module_version": "1.5.0",
          "state": {
            "_dom_classes": [],
            "_model_module": "@jupyter-widgets/controls",
            "_model_module_version": "1.5.0",
            "_model_name": "HBoxModel",
            "_view_count": null,
            "_view_module": "@jupyter-widgets/controls",
            "_view_module_version": "1.5.0",
            "_view_name": "HBoxView",
            "box_style": "",
            "children": [
              "IPY_MODEL_434f2958926741669fa2d468b656d667",
              "IPY_MODEL_30e3d17bc66148ac8e748fc0d462c280"
            ],
            "layout": "IPY_MODEL_765ea7623c28451b9eb87db6645de250"
          }
        },
        "434f2958926741669fa2d468b656d667": {
          "model_module": "@jupyter-widgets/controls",
          "model_name": "DropdownModel",
          "model_module_version": "1.5.0",
          "state": {
            "_dom_classes": [],
            "_model_module": "@jupyter-widgets/controls",
            "_model_module_version": "1.5.0",
            "_model_name": "DropdownModel",
            "_options_labels": [
              "",
              "They're not, they're boring",
              "They help us visualise our data and see patterns in it",
              "They show us unrecorded data",
              "They show us if our data was recorded correctly"
            ],
            "_view_count": null,
            "_view_module": "@jupyter-widgets/controls",
            "_view_module_version": "1.5.0",
            "_view_name": "DropdownView",
            "description": "Answer:",
            "description_tooltip": null,
            "disabled": false,
            "index": 0,
            "layout": "IPY_MODEL_775025c3f4ba46ea9921b87fcfae6dcb",
            "style": "IPY_MODEL_b190439b744f46208d97d5e2d42f2a5c"
          }
        },
        "30e3d17bc66148ac8e748fc0d462c280": {
          "model_module": "@jupyter-widgets/output",
          "model_name": "OutputModel",
          "model_module_version": "1.0.0",
          "state": {
            "_dom_classes": [],
            "_model_module": "@jupyter-widgets/output",
            "_model_module_version": "1.0.0",
            "_model_name": "OutputModel",
            "_view_count": null,
            "_view_module": "@jupyter-widgets/output",
            "_view_module_version": "1.0.0",
            "_view_name": "OutputView",
            "layout": "IPY_MODEL_f4c6a98b3dde44d3a5d03989d5d67f92",
            "msg_id": "",
            "outputs": [
              {
                "output_type": "stream",
                "name": "stdout",
                "text": [
                  "Choose your answer\n"
                ]
              }
            ]
          }
        },
        "765ea7623c28451b9eb87db6645de250": {
          "model_module": "@jupyter-widgets/base",
          "model_name": "LayoutModel",
          "model_module_version": "1.2.0",
          "state": {
            "_model_module": "@jupyter-widgets/base",
            "_model_module_version": "1.2.0",
            "_model_name": "LayoutModel",
            "_view_count": null,
            "_view_module": "@jupyter-widgets/base",
            "_view_module_version": "1.2.0",
            "_view_name": "LayoutView",
            "align_content": null,
            "align_items": null,
            "align_self": null,
            "border": null,
            "bottom": null,
            "display": null,
            "flex": null,
            "flex_flow": null,
            "grid_area": null,
            "grid_auto_columns": null,
            "grid_auto_flow": null,
            "grid_auto_rows": null,
            "grid_column": null,
            "grid_gap": null,
            "grid_row": null,
            "grid_template_areas": null,
            "grid_template_columns": null,
            "grid_template_rows": null,
            "height": null,
            "justify_content": null,
            "justify_items": null,
            "left": null,
            "margin": null,
            "max_height": null,
            "max_width": null,
            "min_height": null,
            "min_width": null,
            "object_fit": null,
            "object_position": null,
            "order": null,
            "overflow": null,
            "overflow_x": null,
            "overflow_y": null,
            "padding": null,
            "right": null,
            "top": null,
            "visibility": null,
            "width": null
          }
        },
        "775025c3f4ba46ea9921b87fcfae6dcb": {
          "model_module": "@jupyter-widgets/base",
          "model_name": "LayoutModel",
          "model_module_version": "1.2.0",
          "state": {
            "_model_module": "@jupyter-widgets/base",
            "_model_module_version": "1.2.0",
            "_model_name": "LayoutModel",
            "_view_count": null,
            "_view_module": "@jupyter-widgets/base",
            "_view_module_version": "1.2.0",
            "_view_name": "LayoutView",
            "align_content": null,
            "align_items": null,
            "align_self": null,
            "border": null,
            "bottom": null,
            "display": null,
            "flex": null,
            "flex_flow": null,
            "grid_area": null,
            "grid_auto_columns": null,
            "grid_auto_flow": null,
            "grid_auto_rows": null,
            "grid_column": null,
            "grid_gap": null,
            "grid_row": null,
            "grid_template_areas": null,
            "grid_template_columns": null,
            "grid_template_rows": null,
            "height": null,
            "justify_content": null,
            "justify_items": null,
            "left": null,
            "margin": null,
            "max_height": null,
            "max_width": null,
            "min_height": null,
            "min_width": null,
            "object_fit": null,
            "object_position": null,
            "order": null,
            "overflow": null,
            "overflow_x": null,
            "overflow_y": null,
            "padding": null,
            "right": null,
            "top": null,
            "visibility": null,
            "width": null
          }
        },
        "b190439b744f46208d97d5e2d42f2a5c": {
          "model_module": "@jupyter-widgets/controls",
          "model_name": "DescriptionStyleModel",
          "model_module_version": "1.5.0",
          "state": {
            "_model_module": "@jupyter-widgets/controls",
            "_model_module_version": "1.5.0",
            "_model_name": "DescriptionStyleModel",
            "_view_count": null,
            "_view_module": "@jupyter-widgets/base",
            "_view_module_version": "1.2.0",
            "_view_name": "StyleView",
            "description_width": ""
          }
        },
        "f4c6a98b3dde44d3a5d03989d5d67f92": {
          "model_module": "@jupyter-widgets/base",
          "model_name": "LayoutModel",
          "model_module_version": "1.2.0",
          "state": {
            "_model_module": "@jupyter-widgets/base",
            "_model_module_version": "1.2.0",
            "_model_name": "LayoutModel",
            "_view_count": null,
            "_view_module": "@jupyter-widgets/base",
            "_view_module_version": "1.2.0",
            "_view_name": "LayoutView",
            "align_content": null,
            "align_items": null,
            "align_self": null,
            "border": null,
            "bottom": null,
            "display": null,
            "flex": null,
            "flex_flow": null,
            "grid_area": null,
            "grid_auto_columns": null,
            "grid_auto_flow": null,
            "grid_auto_rows": null,
            "grid_column": null,
            "grid_gap": null,
            "grid_row": null,
            "grid_template_areas": null,
            "grid_template_columns": null,
            "grid_template_rows": null,
            "height": null,
            "justify_content": null,
            "justify_items": null,
            "left": null,
            "margin": null,
            "max_height": null,
            "max_width": null,
            "min_height": null,
            "min_width": null,
            "object_fit": null,
            "object_position": null,
            "order": null,
            "overflow": null,
            "overflow_x": null,
            "overflow_y": null,
            "padding": null,
            "right": null,
            "top": null,
            "visibility": null,
            "width": null
          }
        },
        "70bd6d0efa5c45c5924f9a445fd8109f": {
          "model_module": "@jupyter-widgets/controls",
          "model_name": "HBoxModel",
          "model_module_version": "1.5.0",
          "state": {
            "_dom_classes": [],
            "_model_module": "@jupyter-widgets/controls",
            "_model_module_version": "1.5.0",
            "_model_name": "HBoxModel",
            "_view_count": null,
            "_view_module": "@jupyter-widgets/controls",
            "_view_module_version": "1.5.0",
            "_view_name": "HBoxView",
            "box_style": "",
            "children": [
              "IPY_MODEL_c0e401a079444b8e945f00434fde0083",
              "IPY_MODEL_1e8529ffe2d04f6c848356b7b69ca629"
            ],
            "layout": "IPY_MODEL_def4c330162b4a609fa1570e4cba6c51"
          }
        },
        "c0e401a079444b8e945f00434fde0083": {
          "model_module": "@jupyter-widgets/controls",
          "model_name": "DropdownModel",
          "model_module_version": "1.5.0",
          "state": {
            "_dom_classes": [],
            "_model_module": "@jupyter-widgets/controls",
            "_model_module_version": "1.5.0",
            "_model_name": "DropdownModel",
            "_options_labels": [
              "",
              "A high significance means we have more important results",
              "A large significance means we have lots of signal",
              "A high significance means it is unlikely that our theory is a fluke"
            ],
            "_view_count": null,
            "_view_module": "@jupyter-widgets/controls",
            "_view_module_version": "1.5.0",
            "_view_name": "DropdownView",
            "description": "Answer:",
            "description_tooltip": null,
            "disabled": false,
            "index": 0,
            "layout": "IPY_MODEL_115f5a63a737463686d44019c288822e",
            "style": "IPY_MODEL_0b07b443a55d4837b189049b0c43c9dd"
          }
        },
        "1e8529ffe2d04f6c848356b7b69ca629": {
          "model_module": "@jupyter-widgets/output",
          "model_name": "OutputModel",
          "model_module_version": "1.0.0",
          "state": {
            "_dom_classes": [],
            "_model_module": "@jupyter-widgets/output",
            "_model_module_version": "1.0.0",
            "_model_name": "OutputModel",
            "_view_count": null,
            "_view_module": "@jupyter-widgets/output",
            "_view_module_version": "1.0.0",
            "_view_name": "OutputView",
            "layout": "IPY_MODEL_10e67c4521d34f8d82769544c7cb7fd9",
            "msg_id": "",
            "outputs": [
              {
                "output_type": "stream",
                "name": "stdout",
                "text": [
                  "\n"
                ]
              }
            ]
          }
        },
        "def4c330162b4a609fa1570e4cba6c51": {
          "model_module": "@jupyter-widgets/base",
          "model_name": "LayoutModel",
          "model_module_version": "1.2.0",
          "state": {
            "_model_module": "@jupyter-widgets/base",
            "_model_module_version": "1.2.0",
            "_model_name": "LayoutModel",
            "_view_count": null,
            "_view_module": "@jupyter-widgets/base",
            "_view_module_version": "1.2.0",
            "_view_name": "LayoutView",
            "align_content": null,
            "align_items": null,
            "align_self": null,
            "border": null,
            "bottom": null,
            "display": null,
            "flex": null,
            "flex_flow": null,
            "grid_area": null,
            "grid_auto_columns": null,
            "grid_auto_flow": null,
            "grid_auto_rows": null,
            "grid_column": null,
            "grid_gap": null,
            "grid_row": null,
            "grid_template_areas": null,
            "grid_template_columns": null,
            "grid_template_rows": null,
            "height": null,
            "justify_content": null,
            "justify_items": null,
            "left": null,
            "margin": null,
            "max_height": null,
            "max_width": null,
            "min_height": null,
            "min_width": null,
            "object_fit": null,
            "object_position": null,
            "order": null,
            "overflow": null,
            "overflow_x": null,
            "overflow_y": null,
            "padding": null,
            "right": null,
            "top": null,
            "visibility": null,
            "width": null
          }
        },
        "115f5a63a737463686d44019c288822e": {
          "model_module": "@jupyter-widgets/base",
          "model_name": "LayoutModel",
          "model_module_version": "1.2.0",
          "state": {
            "_model_module": "@jupyter-widgets/base",
            "_model_module_version": "1.2.0",
            "_model_name": "LayoutModel",
            "_view_count": null,
            "_view_module": "@jupyter-widgets/base",
            "_view_module_version": "1.2.0",
            "_view_name": "LayoutView",
            "align_content": null,
            "align_items": null,
            "align_self": null,
            "border": null,
            "bottom": null,
            "display": null,
            "flex": null,
            "flex_flow": null,
            "grid_area": null,
            "grid_auto_columns": null,
            "grid_auto_flow": null,
            "grid_auto_rows": null,
            "grid_column": null,
            "grid_gap": null,
            "grid_row": null,
            "grid_template_areas": null,
            "grid_template_columns": null,
            "grid_template_rows": null,
            "height": null,
            "justify_content": null,
            "justify_items": null,
            "left": null,
            "margin": null,
            "max_height": null,
            "max_width": null,
            "min_height": null,
            "min_width": null,
            "object_fit": null,
            "object_position": null,
            "order": null,
            "overflow": null,
            "overflow_x": null,
            "overflow_y": null,
            "padding": null,
            "right": null,
            "top": null,
            "visibility": null,
            "width": null
          }
        },
        "0b07b443a55d4837b189049b0c43c9dd": {
          "model_module": "@jupyter-widgets/controls",
          "model_name": "DescriptionStyleModel",
          "model_module_version": "1.5.0",
          "state": {
            "_model_module": "@jupyter-widgets/controls",
            "_model_module_version": "1.5.0",
            "_model_name": "DescriptionStyleModel",
            "_view_count": null,
            "_view_module": "@jupyter-widgets/base",
            "_view_module_version": "1.2.0",
            "_view_name": "StyleView",
            "description_width": ""
          }
        },
        "10e67c4521d34f8d82769544c7cb7fd9": {
          "model_module": "@jupyter-widgets/base",
          "model_name": "LayoutModel",
          "model_module_version": "1.2.0",
          "state": {
            "_model_module": "@jupyter-widgets/base",
            "_model_module_version": "1.2.0",
            "_model_name": "LayoutModel",
            "_view_count": null,
            "_view_module": "@jupyter-widgets/base",
            "_view_module_version": "1.2.0",
            "_view_name": "LayoutView",
            "align_content": null,
            "align_items": null,
            "align_self": null,
            "border": null,
            "bottom": null,
            "display": null,
            "flex": null,
            "flex_flow": null,
            "grid_area": null,
            "grid_auto_columns": null,
            "grid_auto_flow": null,
            "grid_auto_rows": null,
            "grid_column": null,
            "grid_gap": null,
            "grid_row": null,
            "grid_template_areas": null,
            "grid_template_columns": null,
            "grid_template_rows": null,
            "height": null,
            "justify_content": null,
            "justify_items": null,
            "left": null,
            "margin": null,
            "max_height": null,
            "max_width": null,
            "min_height": null,
            "min_width": null,
            "object_fit": null,
            "object_position": null,
            "order": null,
            "overflow": null,
            "overflow_x": null,
            "overflow_y": null,
            "padding": null,
            "right": null,
            "top": null,
            "visibility": null,
            "width": null
          }
        },
        "f8b342284c2d4c8ea22d7a264ac404f9": {
          "model_module": "@jupyter-widgets/controls",
          "model_name": "VBoxModel",
          "model_module_version": "1.5.0",
          "state": {
            "_dom_classes": [
              "widget-interact"
            ],
            "_model_module": "@jupyter-widgets/controls",
            "_model_module_version": "1.5.0",
            "_model_name": "VBoxModel",
            "_view_count": null,
            "_view_module": "@jupyter-widgets/controls",
            "_view_module_version": "1.5.0",
            "_view_name": "VBoxView",
            "box_style": "",
            "children": [
              "IPY_MODEL_43ce3d7a8fe94818932475cf8521419b",
              "IPY_MODEL_b4c4d7c6b14e40c2978a11619663a2d7"
            ],
            "layout": "IPY_MODEL_f1be0d5c027e44b5b910e13dcd0b1ac4"
          }
        },
        "43ce3d7a8fe94818932475cf8521419b": {
          "model_module": "@jupyter-widgets/controls",
          "model_name": "IntRangeSliderModel",
          "model_module_version": "1.5.0",
          "state": {
            "_dom_classes": [],
            "_model_module": "@jupyter-widgets/controls",
            "_model_module_version": "1.5.0",
            "_model_name": "IntRangeSliderModel",
            "_view_count": null,
            "_view_module": "@jupyter-widgets/controls",
            "_view_module_version": "1.5.0",
            "_view_name": "IntRangeSliderView",
            "continuous_update": true,
            "description": "mll Cut:",
            "description_tooltip": null,
            "disabled": false,
            "layout": "IPY_MODEL_03eee457ed4645c7a2b89b000a948c66",
            "max": 130,
            "min": 50,
            "orientation": "horizontal",
            "readout": true,
            "readout_format": "d",
            "step": 2,
            "style": "IPY_MODEL_740e33be57544f14880f463e0ed50cd9",
            "value": [
              84,
              96
            ]
          }
        },
        "b4c4d7c6b14e40c2978a11619663a2d7": {
          "model_module": "@jupyter-widgets/output",
          "model_name": "OutputModel",
          "model_module_version": "1.0.0",
          "state": {
            "_dom_classes": [],
            "_model_module": "@jupyter-widgets/output",
            "_model_module_version": "1.0.0",
            "_model_name": "OutputModel",
            "_view_count": null,
            "_view_module": "@jupyter-widgets/output",
            "_view_module_version": "1.0.0",
            "_view_name": "OutputView",
            "layout": "IPY_MODEL_e072e6a6f56d4af2ab417f8c1448d1cf",
            "msg_id": "",
            "outputs": [
              {
                "output_type": "display_data",
                "data": {
                  "text/plain": "(84, 96)"
                },
                "metadata": {}
              }
            ]
          }
        },
        "f1be0d5c027e44b5b910e13dcd0b1ac4": {
          "model_module": "@jupyter-widgets/base",
          "model_name": "LayoutModel",
          "model_module_version": "1.2.0",
          "state": {
            "_model_module": "@jupyter-widgets/base",
            "_model_module_version": "1.2.0",
            "_model_name": "LayoutModel",
            "_view_count": null,
            "_view_module": "@jupyter-widgets/base",
            "_view_module_version": "1.2.0",
            "_view_name": "LayoutView",
            "align_content": null,
            "align_items": null,
            "align_self": null,
            "border": null,
            "bottom": null,
            "display": null,
            "flex": null,
            "flex_flow": null,
            "grid_area": null,
            "grid_auto_columns": null,
            "grid_auto_flow": null,
            "grid_auto_rows": null,
            "grid_column": null,
            "grid_gap": null,
            "grid_row": null,
            "grid_template_areas": null,
            "grid_template_columns": null,
            "grid_template_rows": null,
            "height": null,
            "justify_content": null,
            "justify_items": null,
            "left": null,
            "margin": null,
            "max_height": null,
            "max_width": null,
            "min_height": null,
            "min_width": null,
            "object_fit": null,
            "object_position": null,
            "order": null,
            "overflow": null,
            "overflow_x": null,
            "overflow_y": null,
            "padding": null,
            "right": null,
            "top": null,
            "visibility": null,
            "width": null
          }
        },
        "03eee457ed4645c7a2b89b000a948c66": {
          "model_module": "@jupyter-widgets/base",
          "model_name": "LayoutModel",
          "model_module_version": "1.2.0",
          "state": {
            "_model_module": "@jupyter-widgets/base",
            "_model_module_version": "1.2.0",
            "_model_name": "LayoutModel",
            "_view_count": null,
            "_view_module": "@jupyter-widgets/base",
            "_view_module_version": "1.2.0",
            "_view_name": "LayoutView",
            "align_content": null,
            "align_items": null,
            "align_self": null,
            "border": null,
            "bottom": null,
            "display": null,
            "flex": null,
            "flex_flow": null,
            "grid_area": null,
            "grid_auto_columns": null,
            "grid_auto_flow": null,
            "grid_auto_rows": null,
            "grid_column": null,
            "grid_gap": null,
            "grid_row": null,
            "grid_template_areas": null,
            "grid_template_columns": null,
            "grid_template_rows": null,
            "height": null,
            "justify_content": null,
            "justify_items": null,
            "left": null,
            "margin": null,
            "max_height": null,
            "max_width": null,
            "min_height": null,
            "min_width": null,
            "object_fit": null,
            "object_position": null,
            "order": null,
            "overflow": null,
            "overflow_x": null,
            "overflow_y": null,
            "padding": null,
            "right": null,
            "top": null,
            "visibility": null,
            "width": null
          }
        },
        "740e33be57544f14880f463e0ed50cd9": {
          "model_module": "@jupyter-widgets/controls",
          "model_name": "SliderStyleModel",
          "model_module_version": "1.5.0",
          "state": {
            "_model_module": "@jupyter-widgets/controls",
            "_model_module_version": "1.5.0",
            "_model_name": "SliderStyleModel",
            "_view_count": null,
            "_view_module": "@jupyter-widgets/base",
            "_view_module_version": "1.2.0",
            "_view_name": "StyleView",
            "description_width": "",
            "handle_color": null
          }
        },
        "e072e6a6f56d4af2ab417f8c1448d1cf": {
          "model_module": "@jupyter-widgets/base",
          "model_name": "LayoutModel",
          "model_module_version": "1.2.0",
          "state": {
            "_model_module": "@jupyter-widgets/base",
            "_model_module_version": "1.2.0",
            "_model_name": "LayoutModel",
            "_view_count": null,
            "_view_module": "@jupyter-widgets/base",
            "_view_module_version": "1.2.0",
            "_view_name": "LayoutView",
            "align_content": null,
            "align_items": null,
            "align_self": null,
            "border": null,
            "bottom": null,
            "display": null,
            "flex": null,
            "flex_flow": null,
            "grid_area": null,
            "grid_auto_columns": null,
            "grid_auto_flow": null,
            "grid_auto_rows": null,
            "grid_column": null,
            "grid_gap": null,
            "grid_row": null,
            "grid_template_areas": null,
            "grid_template_columns": null,
            "grid_template_rows": null,
            "height": null,
            "justify_content": null,
            "justify_items": null,
            "left": null,
            "margin": null,
            "max_height": null,
            "max_width": null,
            "min_height": null,
            "min_width": null,
            "object_fit": null,
            "object_position": null,
            "order": null,
            "overflow": null,
            "overflow_x": null,
            "overflow_y": null,
            "padding": null,
            "right": null,
            "top": null,
            "visibility": null,
            "width": null
          }
        },
        "76ffc99870db44b9aeffabfcf3cddb5c": {
          "model_module": "@jupyter-widgets/controls",
          "model_name": "HBoxModel",
          "model_module_version": "1.5.0",
          "state": {
            "_dom_classes": [],
            "_model_module": "@jupyter-widgets/controls",
            "_model_module_version": "1.5.0",
            "_model_name": "HBoxModel",
            "_view_count": null,
            "_view_module": "@jupyter-widgets/controls",
            "_view_module_version": "1.5.0",
            "_view_name": "HBoxView",
            "box_style": "",
            "children": [
              "IPY_MODEL_d3a5128500f441b3a45faaabab53fc30",
              "IPY_MODEL_5e3dc7e999e24c59a0d8f20d2161050e"
            ],
            "layout": "IPY_MODEL_ba97c6af381f4e7da53f1734cd97f200"
          }
        },
        "d3a5128500f441b3a45faaabab53fc30": {
          "model_module": "@jupyter-widgets/controls",
          "model_name": "DropdownModel",
          "model_module_version": "1.5.0",
          "state": {
            "_dom_classes": [],
            "_model_module": "@jupyter-widgets/controls",
            "_model_module_version": "1.5.0",
            "_model_name": "DropdownModel",
            "_options_labels": [
              "",
              "102",
              "5",
              "2",
              "3"
            ],
            "_view_count": null,
            "_view_module": "@jupyter-widgets/controls",
            "_view_module_version": "1.5.0",
            "_view_name": "DropdownView",
            "description": "Answer:",
            "description_tooltip": null,
            "disabled": false,
            "index": 0,
            "layout": "IPY_MODEL_b0d75bccde1d472295d0367eb172db8f",
            "style": "IPY_MODEL_32de2e53058b4b63b0a7fea45e174e26"
          }
        },
        "5e3dc7e999e24c59a0d8f20d2161050e": {
          "model_module": "@jupyter-widgets/output",
          "model_name": "OutputModel",
          "model_module_version": "1.0.0",
          "state": {
            "_dom_classes": [],
            "_model_module": "@jupyter-widgets/output",
            "_model_module_version": "1.0.0",
            "_model_name": "OutputModel",
            "_view_count": null,
            "_view_module": "@jupyter-widgets/output",
            "_view_module_version": "1.0.0",
            "_view_name": "OutputView",
            "layout": "IPY_MODEL_cd20231d21e74427a32c9cec09078a25",
            "msg_id": "",
            "outputs": [
              {
                "output_type": "stream",
                "name": "stdout",
                "text": [
                  "\n"
                ]
              }
            ]
          }
        },
        "ba97c6af381f4e7da53f1734cd97f200": {
          "model_module": "@jupyter-widgets/base",
          "model_name": "LayoutModel",
          "model_module_version": "1.2.0",
          "state": {
            "_model_module": "@jupyter-widgets/base",
            "_model_module_version": "1.2.0",
            "_model_name": "LayoutModel",
            "_view_count": null,
            "_view_module": "@jupyter-widgets/base",
            "_view_module_version": "1.2.0",
            "_view_name": "LayoutView",
            "align_content": null,
            "align_items": null,
            "align_self": null,
            "border": null,
            "bottom": null,
            "display": null,
            "flex": null,
            "flex_flow": null,
            "grid_area": null,
            "grid_auto_columns": null,
            "grid_auto_flow": null,
            "grid_auto_rows": null,
            "grid_column": null,
            "grid_gap": null,
            "grid_row": null,
            "grid_template_areas": null,
            "grid_template_columns": null,
            "grid_template_rows": null,
            "height": null,
            "justify_content": null,
            "justify_items": null,
            "left": null,
            "margin": null,
            "max_height": null,
            "max_width": null,
            "min_height": null,
            "min_width": null,
            "object_fit": null,
            "object_position": null,
            "order": null,
            "overflow": null,
            "overflow_x": null,
            "overflow_y": null,
            "padding": null,
            "right": null,
            "top": null,
            "visibility": null,
            "width": null
          }
        },
        "b0d75bccde1d472295d0367eb172db8f": {
          "model_module": "@jupyter-widgets/base",
          "model_name": "LayoutModel",
          "model_module_version": "1.2.0",
          "state": {
            "_model_module": "@jupyter-widgets/base",
            "_model_module_version": "1.2.0",
            "_model_name": "LayoutModel",
            "_view_count": null,
            "_view_module": "@jupyter-widgets/base",
            "_view_module_version": "1.2.0",
            "_view_name": "LayoutView",
            "align_content": null,
            "align_items": null,
            "align_self": null,
            "border": null,
            "bottom": null,
            "display": null,
            "flex": null,
            "flex_flow": null,
            "grid_area": null,
            "grid_auto_columns": null,
            "grid_auto_flow": null,
            "grid_auto_rows": null,
            "grid_column": null,
            "grid_gap": null,
            "grid_row": null,
            "grid_template_areas": null,
            "grid_template_columns": null,
            "grid_template_rows": null,
            "height": null,
            "justify_content": null,
            "justify_items": null,
            "left": null,
            "margin": null,
            "max_height": null,
            "max_width": null,
            "min_height": null,
            "min_width": null,
            "object_fit": null,
            "object_position": null,
            "order": null,
            "overflow": null,
            "overflow_x": null,
            "overflow_y": null,
            "padding": null,
            "right": null,
            "top": null,
            "visibility": null,
            "width": null
          }
        },
        "32de2e53058b4b63b0a7fea45e174e26": {
          "model_module": "@jupyter-widgets/controls",
          "model_name": "DescriptionStyleModel",
          "model_module_version": "1.5.0",
          "state": {
            "_model_module": "@jupyter-widgets/controls",
            "_model_module_version": "1.5.0",
            "_model_name": "DescriptionStyleModel",
            "_view_count": null,
            "_view_module": "@jupyter-widgets/base",
            "_view_module_version": "1.2.0",
            "_view_name": "StyleView",
            "description_width": ""
          }
        },
        "cd20231d21e74427a32c9cec09078a25": {
          "model_module": "@jupyter-widgets/base",
          "model_name": "LayoutModel",
          "model_module_version": "1.2.0",
          "state": {
            "_model_module": "@jupyter-widgets/base",
            "_model_module_version": "1.2.0",
            "_model_name": "LayoutModel",
            "_view_count": null,
            "_view_module": "@jupyter-widgets/base",
            "_view_module_version": "1.2.0",
            "_view_name": "LayoutView",
            "align_content": null,
            "align_items": null,
            "align_self": null,
            "border": null,
            "bottom": null,
            "display": null,
            "flex": null,
            "flex_flow": null,
            "grid_area": null,
            "grid_auto_columns": null,
            "grid_auto_flow": null,
            "grid_auto_rows": null,
            "grid_column": null,
            "grid_gap": null,
            "grid_row": null,
            "grid_template_areas": null,
            "grid_template_columns": null,
            "grid_template_rows": null,
            "height": null,
            "justify_content": null,
            "justify_items": null,
            "left": null,
            "margin": null,
            "max_height": null,
            "max_width": null,
            "min_height": null,
            "min_width": null,
            "object_fit": null,
            "object_position": null,
            "order": null,
            "overflow": null,
            "overflow_x": null,
            "overflow_y": null,
            "padding": null,
            "right": null,
            "top": null,
            "visibility": null,
            "width": null
          }
        },
        "38a30165562b4c5c8f2b178362e2f725": {
          "model_module": "@jupyter-widgets/controls",
          "model_name": "VBoxModel",
          "model_module_version": "1.5.0",
          "state": {
            "_dom_classes": [
              "widget-interact"
            ],
            "_model_module": "@jupyter-widgets/controls",
            "_model_module_version": "1.5.0",
            "_model_name": "VBoxModel",
            "_view_count": null,
            "_view_module": "@jupyter-widgets/controls",
            "_view_module_version": "1.5.0",
            "_view_name": "VBoxView",
            "box_style": "",
            "children": [
              "IPY_MODEL_31c3e375d2c04472a2e9e2a9e3c60d42",
              "IPY_MODEL_416c12045fae4742ae6e71e77e465131"
            ],
            "layout": "IPY_MODEL_2a4ad49da6f140c5a5cf6505759d649b"
          }
        },
        "31c3e375d2c04472a2e9e2a9e3c60d42": {
          "model_module": "@jupyter-widgets/controls",
          "model_name": "ToggleButtonsModel",
          "model_module_version": "1.5.0",
          "state": {
            "_dom_classes": [],
            "_model_module": "@jupyter-widgets/controls",
            "_model_module_version": "1.5.0",
            "_model_name": "ToggleButtonsModel",
            "_options_labels": [
              "80 GeV",
              "85 GeV",
              "90 GeV",
              "95 GeV",
              "100 GeV"
            ],
            "_view_count": null,
            "_view_module": "@jupyter-widgets/controls",
            "_view_module_version": "1.5.0",
            "_view_name": "ToggleButtonsView",
            "button_style": "info",
            "description": "Missing Et:",
            "description_tooltip": null,
            "disabled": false,
            "icons": [],
            "index": 2,
            "layout": "IPY_MODEL_a368bff5d16845bf8eecee0d9b63a6ac",
            "style": "IPY_MODEL_dd640d636bdb40948d140f8bfe73a139",
            "tooltips": []
          }
        },
        "416c12045fae4742ae6e71e77e465131": {
          "model_module": "@jupyter-widgets/output",
          "model_name": "OutputModel",
          "model_module_version": "1.0.0",
          "state": {
            "_dom_classes": [],
            "_model_module": "@jupyter-widgets/output",
            "_model_module_version": "1.0.0",
            "_model_name": "OutputModel",
            "_view_count": null,
            "_view_module": "@jupyter-widgets/output",
            "_view_module_version": "1.0.0",
            "_view_name": "OutputView",
            "layout": "IPY_MODEL_2206594556f448dd85aee596fc4466aa",
            "msg_id": "",
            "outputs": []
          }
        },
        "2a4ad49da6f140c5a5cf6505759d649b": {
          "model_module": "@jupyter-widgets/base",
          "model_name": "LayoutModel",
          "model_module_version": "1.2.0",
          "state": {
            "_model_module": "@jupyter-widgets/base",
            "_model_module_version": "1.2.0",
            "_model_name": "LayoutModel",
            "_view_count": null,
            "_view_module": "@jupyter-widgets/base",
            "_view_module_version": "1.2.0",
            "_view_name": "LayoutView",
            "align_content": null,
            "align_items": null,
            "align_self": null,
            "border": null,
            "bottom": null,
            "display": null,
            "flex": null,
            "flex_flow": null,
            "grid_area": null,
            "grid_auto_columns": null,
            "grid_auto_flow": null,
            "grid_auto_rows": null,
            "grid_column": null,
            "grid_gap": null,
            "grid_row": null,
            "grid_template_areas": null,
            "grid_template_columns": null,
            "grid_template_rows": null,
            "height": null,
            "justify_content": null,
            "justify_items": null,
            "left": null,
            "margin": null,
            "max_height": null,
            "max_width": null,
            "min_height": null,
            "min_width": null,
            "object_fit": null,
            "object_position": null,
            "order": null,
            "overflow": null,
            "overflow_x": null,
            "overflow_y": null,
            "padding": null,
            "right": null,
            "top": null,
            "visibility": null,
            "width": null
          }
        },
        "a368bff5d16845bf8eecee0d9b63a6ac": {
          "model_module": "@jupyter-widgets/base",
          "model_name": "LayoutModel",
          "model_module_version": "1.2.0",
          "state": {
            "_model_module": "@jupyter-widgets/base",
            "_model_module_version": "1.2.0",
            "_model_name": "LayoutModel",
            "_view_count": null,
            "_view_module": "@jupyter-widgets/base",
            "_view_module_version": "1.2.0",
            "_view_name": "LayoutView",
            "align_content": null,
            "align_items": null,
            "align_self": null,
            "border": null,
            "bottom": null,
            "display": null,
            "flex": null,
            "flex_flow": null,
            "grid_area": null,
            "grid_auto_columns": null,
            "grid_auto_flow": null,
            "grid_auto_rows": null,
            "grid_column": null,
            "grid_gap": null,
            "grid_row": null,
            "grid_template_areas": null,
            "grid_template_columns": null,
            "grid_template_rows": null,
            "height": null,
            "justify_content": null,
            "justify_items": null,
            "left": null,
            "margin": null,
            "max_height": null,
            "max_width": null,
            "min_height": null,
            "min_width": null,
            "object_fit": null,
            "object_position": null,
            "order": null,
            "overflow": null,
            "overflow_x": null,
            "overflow_y": null,
            "padding": null,
            "right": null,
            "top": null,
            "visibility": null,
            "width": null
          }
        },
        "dd640d636bdb40948d140f8bfe73a139": {
          "model_module": "@jupyter-widgets/controls",
          "model_name": "ToggleButtonsStyleModel",
          "model_module_version": "1.5.0",
          "state": {
            "_model_module": "@jupyter-widgets/controls",
            "_model_module_version": "1.5.0",
            "_model_name": "ToggleButtonsStyleModel",
            "_view_count": null,
            "_view_module": "@jupyter-widgets/base",
            "_view_module_version": "1.2.0",
            "_view_name": "StyleView",
            "button_width": "",
            "description_width": "",
            "font_weight": ""
          }
        },
        "2206594556f448dd85aee596fc4466aa": {
          "model_module": "@jupyter-widgets/base",
          "model_name": "LayoutModel",
          "model_module_version": "1.2.0",
          "state": {
            "_model_module": "@jupyter-widgets/base",
            "_model_module_version": "1.2.0",
            "_model_name": "LayoutModel",
            "_view_count": null,
            "_view_module": "@jupyter-widgets/base",
            "_view_module_version": "1.2.0",
            "_view_name": "LayoutView",
            "align_content": null,
            "align_items": null,
            "align_self": null,
            "border": null,
            "bottom": null,
            "display": null,
            "flex": null,
            "flex_flow": null,
            "grid_area": null,
            "grid_auto_columns": null,
            "grid_auto_flow": null,
            "grid_auto_rows": null,
            "grid_column": null,
            "grid_gap": null,
            "grid_row": null,
            "grid_template_areas": null,
            "grid_template_columns": null,
            "grid_template_rows": null,
            "height": null,
            "justify_content": null,
            "justify_items": null,
            "left": null,
            "margin": null,
            "max_height": null,
            "max_width": null,
            "min_height": null,
            "min_width": null,
            "object_fit": null,
            "object_position": null,
            "order": null,
            "overflow": null,
            "overflow_x": null,
            "overflow_y": null,
            "padding": null,
            "right": null,
            "top": null,
            "visibility": null,
            "width": null
          }
        },
        "5a217e1218a14512a7c5a6b6d3357289": {
          "model_module": "@jupyter-widgets/controls",
          "model_name": "HBoxModel",
          "model_module_version": "1.5.0",
          "state": {
            "_dom_classes": [],
            "_model_module": "@jupyter-widgets/controls",
            "_model_module_version": "1.5.0",
            "_model_name": "HBoxModel",
            "_view_count": null,
            "_view_module": "@jupyter-widgets/controls",
            "_view_module_version": "1.5.0",
            "_view_name": "HBoxView",
            "box_style": "",
            "children": [
              "IPY_MODEL_6c4f52cda4a04281abeaaaeb278f4eb5",
              "IPY_MODEL_52416a3f3e134388b878f3d0831337a6"
            ],
            "layout": "IPY_MODEL_23da8844fc1e4d2da3420c8e38c26e07"
          }
        },
        "6c4f52cda4a04281abeaaaeb278f4eb5": {
          "model_module": "@jupyter-widgets/controls",
          "model_name": "DropdownModel",
          "model_module_version": "1.5.0",
          "state": {
            "_dom_classes": [],
            "_model_module": "@jupyter-widgets/controls",
            "_model_module_version": "1.5.0",
            "_model_name": "DropdownModel",
            "_options_labels": [
              "",
              "They manipulate data to make our statistical significance look bigger than it should be",
              "They cut out less useful parts of our data to increase our statistical significance",
              "They allow us to cut out all the background without getting rid of any signal"
            ],
            "_view_count": null,
            "_view_module": "@jupyter-widgets/controls",
            "_view_module_version": "1.5.0",
            "_view_name": "DropdownView",
            "description": "Answer:",
            "description_tooltip": null,
            "disabled": false,
            "index": 0,
            "layout": "IPY_MODEL_c4a723274d884c7bb53d327454543b62",
            "style": "IPY_MODEL_df509bc2c0484236a7bddc3bca3e74ea"
          }
        },
        "52416a3f3e134388b878f3d0831337a6": {
          "model_module": "@jupyter-widgets/output",
          "model_name": "OutputModel",
          "model_module_version": "1.0.0",
          "state": {
            "_dom_classes": [],
            "_model_module": "@jupyter-widgets/output",
            "_model_module_version": "1.0.0",
            "_model_name": "OutputModel",
            "_view_count": null,
            "_view_module": "@jupyter-widgets/output",
            "_view_module_version": "1.0.0",
            "_view_name": "OutputView",
            "layout": "IPY_MODEL_0fd30b50a2284bdfbc29ff1f3d4cbc27",
            "msg_id": "",
            "outputs": [
              {
                "output_type": "stream",
                "name": "stdout",
                "text": [
                  "\n"
                ]
              }
            ]
          }
        },
        "23da8844fc1e4d2da3420c8e38c26e07": {
          "model_module": "@jupyter-widgets/base",
          "model_name": "LayoutModel",
          "model_module_version": "1.2.0",
          "state": {
            "_model_module": "@jupyter-widgets/base",
            "_model_module_version": "1.2.0",
            "_model_name": "LayoutModel",
            "_view_count": null,
            "_view_module": "@jupyter-widgets/base",
            "_view_module_version": "1.2.0",
            "_view_name": "LayoutView",
            "align_content": null,
            "align_items": null,
            "align_self": null,
            "border": null,
            "bottom": null,
            "display": null,
            "flex": null,
            "flex_flow": null,
            "grid_area": null,
            "grid_auto_columns": null,
            "grid_auto_flow": null,
            "grid_auto_rows": null,
            "grid_column": null,
            "grid_gap": null,
            "grid_row": null,
            "grid_template_areas": null,
            "grid_template_columns": null,
            "grid_template_rows": null,
            "height": null,
            "justify_content": null,
            "justify_items": null,
            "left": null,
            "margin": null,
            "max_height": null,
            "max_width": null,
            "min_height": null,
            "min_width": null,
            "object_fit": null,
            "object_position": null,
            "order": null,
            "overflow": null,
            "overflow_x": null,
            "overflow_y": null,
            "padding": null,
            "right": null,
            "top": null,
            "visibility": null,
            "width": null
          }
        },
        "c4a723274d884c7bb53d327454543b62": {
          "model_module": "@jupyter-widgets/base",
          "model_name": "LayoutModel",
          "model_module_version": "1.2.0",
          "state": {
            "_model_module": "@jupyter-widgets/base",
            "_model_module_version": "1.2.0",
            "_model_name": "LayoutModel",
            "_view_count": null,
            "_view_module": "@jupyter-widgets/base",
            "_view_module_version": "1.2.0",
            "_view_name": "LayoutView",
            "align_content": null,
            "align_items": null,
            "align_self": null,
            "border": null,
            "bottom": null,
            "display": null,
            "flex": null,
            "flex_flow": null,
            "grid_area": null,
            "grid_auto_columns": null,
            "grid_auto_flow": null,
            "grid_auto_rows": null,
            "grid_column": null,
            "grid_gap": null,
            "grid_row": null,
            "grid_template_areas": null,
            "grid_template_columns": null,
            "grid_template_rows": null,
            "height": null,
            "justify_content": null,
            "justify_items": null,
            "left": null,
            "margin": null,
            "max_height": null,
            "max_width": null,
            "min_height": null,
            "min_width": null,
            "object_fit": null,
            "object_position": null,
            "order": null,
            "overflow": null,
            "overflow_x": null,
            "overflow_y": null,
            "padding": null,
            "right": null,
            "top": null,
            "visibility": null,
            "width": null
          }
        },
        "df509bc2c0484236a7bddc3bca3e74ea": {
          "model_module": "@jupyter-widgets/controls",
          "model_name": "DescriptionStyleModel",
          "model_module_version": "1.5.0",
          "state": {
            "_model_module": "@jupyter-widgets/controls",
            "_model_module_version": "1.5.0",
            "_model_name": "DescriptionStyleModel",
            "_view_count": null,
            "_view_module": "@jupyter-widgets/base",
            "_view_module_version": "1.2.0",
            "_view_name": "StyleView",
            "description_width": ""
          }
        },
        "0fd30b50a2284bdfbc29ff1f3d4cbc27": {
          "model_module": "@jupyter-widgets/base",
          "model_name": "LayoutModel",
          "model_module_version": "1.2.0",
          "state": {
            "_model_module": "@jupyter-widgets/base",
            "_model_module_version": "1.2.0",
            "_model_name": "LayoutModel",
            "_view_count": null,
            "_view_module": "@jupyter-widgets/base",
            "_view_module_version": "1.2.0",
            "_view_name": "LayoutView",
            "align_content": null,
            "align_items": null,
            "align_self": null,
            "border": null,
            "bottom": null,
            "display": null,
            "flex": null,
            "flex_flow": null,
            "grid_area": null,
            "grid_auto_columns": null,
            "grid_auto_flow": null,
            "grid_auto_rows": null,
            "grid_column": null,
            "grid_gap": null,
            "grid_row": null,
            "grid_template_areas": null,
            "grid_template_columns": null,
            "grid_template_rows": null,
            "height": null,
            "justify_content": null,
            "justify_items": null,
            "left": null,
            "margin": null,
            "max_height": null,
            "max_width": null,
            "min_height": null,
            "min_width": null,
            "object_fit": null,
            "object_position": null,
            "order": null,
            "overflow": null,
            "overflow_x": null,
            "overflow_y": null,
            "padding": null,
            "right": null,
            "top": null,
            "visibility": null,
            "width": null
          }
        },
        "35468a6e265a4db48ce2e3d780af4c34": {
          "model_module": "@jupyter-widgets/controls",
          "model_name": "HBoxModel",
          "model_module_version": "1.5.0",
          "state": {
            "_dom_classes": [],
            "_model_module": "@jupyter-widgets/controls",
            "_model_module_version": "1.5.0",
            "_model_name": "HBoxModel",
            "_view_count": null,
            "_view_module": "@jupyter-widgets/controls",
            "_view_module_version": "1.5.0",
            "_view_name": "HBoxView",
            "box_style": "",
            "children": [
              "IPY_MODEL_2e8b371bcac64eb389bfac4d5852fee6",
              "IPY_MODEL_f06b814ba01d4f9c986b5c9ce24f53c7"
            ],
            "layout": "IPY_MODEL_272dfe07df92459c8589b4f12ce24997"
          }
        },
        "2e8b371bcac64eb389bfac4d5852fee6": {
          "model_module": "@jupyter-widgets/controls",
          "model_name": "DropdownModel",
          "model_module_version": "1.5.0",
          "state": {
            "_dom_classes": [],
            "_model_module": "@jupyter-widgets/controls",
            "_model_module_version": "1.5.0",
            "_model_name": "DropdownModel",
            "_options_labels": [
              "",
              "Yes - hopefully one of the cuts will get rid of all our background",
              "No, it removes too much signal",
              "Yes, different bits of the background can be cut out by different types of cut"
            ],
            "_view_count": null,
            "_view_module": "@jupyter-widgets/controls",
            "_view_module_version": "1.5.0",
            "_view_name": "DropdownView",
            "description": "Answer:",
            "description_tooltip": null,
            "disabled": false,
            "index": 0,
            "layout": "IPY_MODEL_286fc32f4321418cb7a732fd64dc0daa",
            "style": "IPY_MODEL_bd99ff89fc41480daba61d171611a1d5"
          }
        },
        "f06b814ba01d4f9c986b5c9ce24f53c7": {
          "model_module": "@jupyter-widgets/output",
          "model_name": "OutputModel",
          "model_module_version": "1.0.0",
          "state": {
            "_dom_classes": [],
            "_model_module": "@jupyter-widgets/output",
            "_model_module_version": "1.0.0",
            "_model_name": "OutputModel",
            "_view_count": null,
            "_view_module": "@jupyter-widgets/output",
            "_view_module_version": "1.0.0",
            "_view_name": "OutputView",
            "layout": "IPY_MODEL_6ef3f3e14b984349a558ccfde0ee37ee",
            "msg_id": "",
            "outputs": [
              {
                "output_type": "stream",
                "name": "stdout",
                "text": [
                  "\n"
                ]
              }
            ]
          }
        },
        "272dfe07df92459c8589b4f12ce24997": {
          "model_module": "@jupyter-widgets/base",
          "model_name": "LayoutModel",
          "model_module_version": "1.2.0",
          "state": {
            "_model_module": "@jupyter-widgets/base",
            "_model_module_version": "1.2.0",
            "_model_name": "LayoutModel",
            "_view_count": null,
            "_view_module": "@jupyter-widgets/base",
            "_view_module_version": "1.2.0",
            "_view_name": "LayoutView",
            "align_content": null,
            "align_items": null,
            "align_self": null,
            "border": null,
            "bottom": null,
            "display": null,
            "flex": null,
            "flex_flow": null,
            "grid_area": null,
            "grid_auto_columns": null,
            "grid_auto_flow": null,
            "grid_auto_rows": null,
            "grid_column": null,
            "grid_gap": null,
            "grid_row": null,
            "grid_template_areas": null,
            "grid_template_columns": null,
            "grid_template_rows": null,
            "height": null,
            "justify_content": null,
            "justify_items": null,
            "left": null,
            "margin": null,
            "max_height": null,
            "max_width": null,
            "min_height": null,
            "min_width": null,
            "object_fit": null,
            "object_position": null,
            "order": null,
            "overflow": null,
            "overflow_x": null,
            "overflow_y": null,
            "padding": null,
            "right": null,
            "top": null,
            "visibility": null,
            "width": null
          }
        },
        "286fc32f4321418cb7a732fd64dc0daa": {
          "model_module": "@jupyter-widgets/base",
          "model_name": "LayoutModel",
          "model_module_version": "1.2.0",
          "state": {
            "_model_module": "@jupyter-widgets/base",
            "_model_module_version": "1.2.0",
            "_model_name": "LayoutModel",
            "_view_count": null,
            "_view_module": "@jupyter-widgets/base",
            "_view_module_version": "1.2.0",
            "_view_name": "LayoutView",
            "align_content": null,
            "align_items": null,
            "align_self": null,
            "border": null,
            "bottom": null,
            "display": null,
            "flex": null,
            "flex_flow": null,
            "grid_area": null,
            "grid_auto_columns": null,
            "grid_auto_flow": null,
            "grid_auto_rows": null,
            "grid_column": null,
            "grid_gap": null,
            "grid_row": null,
            "grid_template_areas": null,
            "grid_template_columns": null,
            "grid_template_rows": null,
            "height": null,
            "justify_content": null,
            "justify_items": null,
            "left": null,
            "margin": null,
            "max_height": null,
            "max_width": null,
            "min_height": null,
            "min_width": null,
            "object_fit": null,
            "object_position": null,
            "order": null,
            "overflow": null,
            "overflow_x": null,
            "overflow_y": null,
            "padding": null,
            "right": null,
            "top": null,
            "visibility": null,
            "width": null
          }
        },
        "bd99ff89fc41480daba61d171611a1d5": {
          "model_module": "@jupyter-widgets/controls",
          "model_name": "DescriptionStyleModel",
          "model_module_version": "1.5.0",
          "state": {
            "_model_module": "@jupyter-widgets/controls",
            "_model_module_version": "1.5.0",
            "_model_name": "DescriptionStyleModel",
            "_view_count": null,
            "_view_module": "@jupyter-widgets/base",
            "_view_module_version": "1.2.0",
            "_view_name": "StyleView",
            "description_width": ""
          }
        },
        "6ef3f3e14b984349a558ccfde0ee37ee": {
          "model_module": "@jupyter-widgets/base",
          "model_name": "LayoutModel",
          "model_module_version": "1.2.0",
          "state": {
            "_model_module": "@jupyter-widgets/base",
            "_model_module_version": "1.2.0",
            "_model_name": "LayoutModel",
            "_view_count": null,
            "_view_module": "@jupyter-widgets/base",
            "_view_module_version": "1.2.0",
            "_view_name": "LayoutView",
            "align_content": null,
            "align_items": null,
            "align_self": null,
            "border": null,
            "bottom": null,
            "display": null,
            "flex": null,
            "flex_flow": null,
            "grid_area": null,
            "grid_auto_columns": null,
            "grid_auto_flow": null,
            "grid_auto_rows": null,
            "grid_column": null,
            "grid_gap": null,
            "grid_row": null,
            "grid_template_areas": null,
            "grid_template_columns": null,
            "grid_template_rows": null,
            "height": null,
            "justify_content": null,
            "justify_items": null,
            "left": null,
            "margin": null,
            "max_height": null,
            "max_width": null,
            "min_height": null,
            "min_width": null,
            "object_fit": null,
            "object_position": null,
            "order": null,
            "overflow": null,
            "overflow_x": null,
            "overflow_y": null,
            "padding": null,
            "right": null,
            "top": null,
            "visibility": null,
            "width": null
          }
        },
        "f696f1d5a43349358ec24160ffc410d8": {
          "model_module": "@jupyter-widgets/controls",
          "model_name": "HBoxModel",
          "model_module_version": "1.5.0",
          "state": {
            "_dom_classes": [],
            "_model_module": "@jupyter-widgets/controls",
            "_model_module_version": "1.5.0",
            "_model_name": "HBoxModel",
            "_view_count": null,
            "_view_module": "@jupyter-widgets/controls",
            "_view_module_version": "1.5.0",
            "_view_name": "HBoxView",
            "box_style": "",
            "children": [
              "IPY_MODEL_1dfe5955d05b4c27845d860d02848805",
              "IPY_MODEL_4aee718a95a840f5a7115fc06e96e987"
            ],
            "layout": "IPY_MODEL_17c503e772534cf4baa12ccba38793b6"
          }
        },
        "1dfe5955d05b4c27845d860d02848805": {
          "model_module": "@jupyter-widgets/controls",
          "model_name": "DropdownModel",
          "model_module_version": "1.5.0",
          "state": {
            "_dom_classes": [],
            "_model_module": "@jupyter-widgets/controls",
            "_model_module_version": "1.5.0",
            "_model_name": "DropdownModel",
            "_options_labels": [
              "",
              "Because they only remove background events so that the proportion of background to signal increases",
              "Because they cut out much more background than signal so that the proportion of signal to background increases",
              "Because they analyse the data for us so that we can identify all the signal events"
            ],
            "_view_count": null,
            "_view_module": "@jupyter-widgets/controls",
            "_view_module_version": "1.5.0",
            "_view_name": "DropdownView",
            "description": "Answer:",
            "description_tooltip": null,
            "disabled": false,
            "index": 0,
            "layout": "IPY_MODEL_032a8b146aee464bb8e7ac44e39fe8f6",
            "style": "IPY_MODEL_882d5b647d7e47f3bc972af4e6d77c01"
          }
        },
        "4aee718a95a840f5a7115fc06e96e987": {
          "model_module": "@jupyter-widgets/output",
          "model_name": "OutputModel",
          "model_module_version": "1.0.0",
          "state": {
            "_dom_classes": [],
            "_model_module": "@jupyter-widgets/output",
            "_model_module_version": "1.0.0",
            "_model_name": "OutputModel",
            "_view_count": null,
            "_view_module": "@jupyter-widgets/output",
            "_view_module_version": "1.0.0",
            "_view_name": "OutputView",
            "layout": "IPY_MODEL_5efd4e2414354293b2a3296347d6f2c0",
            "msg_id": "",
            "outputs": [
              {
                "output_type": "stream",
                "name": "stdout",
                "text": [
                  "\n"
                ]
              }
            ]
          }
        },
        "17c503e772534cf4baa12ccba38793b6": {
          "model_module": "@jupyter-widgets/base",
          "model_name": "LayoutModel",
          "model_module_version": "1.2.0",
          "state": {
            "_model_module": "@jupyter-widgets/base",
            "_model_module_version": "1.2.0",
            "_model_name": "LayoutModel",
            "_view_count": null,
            "_view_module": "@jupyter-widgets/base",
            "_view_module_version": "1.2.0",
            "_view_name": "LayoutView",
            "align_content": null,
            "align_items": null,
            "align_self": null,
            "border": null,
            "bottom": null,
            "display": null,
            "flex": null,
            "flex_flow": null,
            "grid_area": null,
            "grid_auto_columns": null,
            "grid_auto_flow": null,
            "grid_auto_rows": null,
            "grid_column": null,
            "grid_gap": null,
            "grid_row": null,
            "grid_template_areas": null,
            "grid_template_columns": null,
            "grid_template_rows": null,
            "height": null,
            "justify_content": null,
            "justify_items": null,
            "left": null,
            "margin": null,
            "max_height": null,
            "max_width": null,
            "min_height": null,
            "min_width": null,
            "object_fit": null,
            "object_position": null,
            "order": null,
            "overflow": null,
            "overflow_x": null,
            "overflow_y": null,
            "padding": null,
            "right": null,
            "top": null,
            "visibility": null,
            "width": null
          }
        },
        "032a8b146aee464bb8e7ac44e39fe8f6": {
          "model_module": "@jupyter-widgets/base",
          "model_name": "LayoutModel",
          "model_module_version": "1.2.0",
          "state": {
            "_model_module": "@jupyter-widgets/base",
            "_model_module_version": "1.2.0",
            "_model_name": "LayoutModel",
            "_view_count": null,
            "_view_module": "@jupyter-widgets/base",
            "_view_module_version": "1.2.0",
            "_view_name": "LayoutView",
            "align_content": null,
            "align_items": null,
            "align_self": null,
            "border": null,
            "bottom": null,
            "display": null,
            "flex": null,
            "flex_flow": null,
            "grid_area": null,
            "grid_auto_columns": null,
            "grid_auto_flow": null,
            "grid_auto_rows": null,
            "grid_column": null,
            "grid_gap": null,
            "grid_row": null,
            "grid_template_areas": null,
            "grid_template_columns": null,
            "grid_template_rows": null,
            "height": null,
            "justify_content": null,
            "justify_items": null,
            "left": null,
            "margin": null,
            "max_height": null,
            "max_width": null,
            "min_height": null,
            "min_width": null,
            "object_fit": null,
            "object_position": null,
            "order": null,
            "overflow": null,
            "overflow_x": null,
            "overflow_y": null,
            "padding": null,
            "right": null,
            "top": null,
            "visibility": null,
            "width": null
          }
        },
        "882d5b647d7e47f3bc972af4e6d77c01": {
          "model_module": "@jupyter-widgets/controls",
          "model_name": "DescriptionStyleModel",
          "model_module_version": "1.5.0",
          "state": {
            "_model_module": "@jupyter-widgets/controls",
            "_model_module_version": "1.5.0",
            "_model_name": "DescriptionStyleModel",
            "_view_count": null,
            "_view_module": "@jupyter-widgets/base",
            "_view_module_version": "1.2.0",
            "_view_name": "StyleView",
            "description_width": ""
          }
        },
        "5efd4e2414354293b2a3296347d6f2c0": {
          "model_module": "@jupyter-widgets/base",
          "model_name": "LayoutModel",
          "model_module_version": "1.2.0",
          "state": {
            "_model_module": "@jupyter-widgets/base",
            "_model_module_version": "1.2.0",
            "_model_name": "LayoutModel",
            "_view_count": null,
            "_view_module": "@jupyter-widgets/base",
            "_view_module_version": "1.2.0",
            "_view_name": "LayoutView",
            "align_content": null,
            "align_items": null,
            "align_self": null,
            "border": null,
            "bottom": null,
            "display": null,
            "flex": null,
            "flex_flow": null,
            "grid_area": null,
            "grid_auto_columns": null,
            "grid_auto_flow": null,
            "grid_auto_rows": null,
            "grid_column": null,
            "grid_gap": null,
            "grid_row": null,
            "grid_template_areas": null,
            "grid_template_columns": null,
            "grid_template_rows": null,
            "height": null,
            "justify_content": null,
            "justify_items": null,
            "left": null,
            "margin": null,
            "max_height": null,
            "max_width": null,
            "min_height": null,
            "min_width": null,
            "object_fit": null,
            "object_position": null,
            "order": null,
            "overflow": null,
            "overflow_x": null,
            "overflow_y": null,
            "padding": null,
            "right": null,
            "top": null,
            "visibility": null,
            "width": null
          }
        },
        "0ac372a72c4a4b00826baf96df6e18ad": {
          "model_module": "@jupyter-widgets/controls",
          "model_name": "VBoxModel",
          "model_module_version": "1.5.0",
          "state": {
            "_dom_classes": [
              "widget-interact"
            ],
            "_model_module": "@jupyter-widgets/controls",
            "_model_module_version": "1.5.0",
            "_model_name": "VBoxModel",
            "_view_count": null,
            "_view_module": "@jupyter-widgets/controls",
            "_view_module_version": "1.5.0",
            "_view_name": "VBoxView",
            "box_style": "",
            "children": [
              "IPY_MODEL_01db31dcfb084571aac8104e70bcd18d",
              "IPY_MODEL_ddc2b03772f145bca98f662ef8e30fcc"
            ],
            "layout": "IPY_MODEL_de6a6bce38ba43dc8495912e1512ffc9"
          }
        },
        "01db31dcfb084571aac8104e70bcd18d": {
          "model_module": "@jupyter-widgets/controls",
          "model_name": "FloatLogSliderModel",
          "model_module_version": "1.5.0",
          "state": {
            "_dom_classes": [],
            "_model_module": "@jupyter-widgets/controls",
            "_model_module_version": "1.5.0",
            "_model_name": "FloatLogSliderModel",
            "_view_count": null,
            "_view_module": "@jupyter-widgets/controls",
            "_view_module_version": "1.5.0",
            "_view_name": "FloatLogSliderView",
            "base": 10,
            "continuous_update": true,
            "description": "Answer (m)",
            "description_tooltip": null,
            "disabled": false,
            "layout": "IPY_MODEL_608e3f17a43841ea87cd18a636dca053",
            "max": 2.5,
            "min": -1.5,
            "orientation": "horizontal",
            "readout": true,
            "readout_format": ".3g",
            "step": 0.001,
            "style": "IPY_MODEL_c5de5eedabe94a1890d72b4fa3c4527f",
            "value": 10
          }
        },
        "ddc2b03772f145bca98f662ef8e30fcc": {
          "model_module": "@jupyter-widgets/output",
          "model_name": "OutputModel",
          "model_module_version": "1.0.0",
          "state": {
            "_dom_classes": [],
            "_model_module": "@jupyter-widgets/output",
            "_model_module_version": "1.0.0",
            "_model_name": "OutputModel",
            "_view_count": null,
            "_view_module": "@jupyter-widgets/output",
            "_view_module_version": "1.0.0",
            "_view_name": "OutputView",
            "layout": "IPY_MODEL_dd66ba4b69064801b1beeb20a645e269",
            "msg_id": "",
            "outputs": [
              {
                "output_type": "stream",
                "name": "stdout",
                "text": [
                  "Your answer is 36.0m away\n"
                ]
              }
            ]
          }
        },
        "de6a6bce38ba43dc8495912e1512ffc9": {
          "model_module": "@jupyter-widgets/base",
          "model_name": "LayoutModel",
          "model_module_version": "1.2.0",
          "state": {
            "_model_module": "@jupyter-widgets/base",
            "_model_module_version": "1.2.0",
            "_model_name": "LayoutModel",
            "_view_count": null,
            "_view_module": "@jupyter-widgets/base",
            "_view_module_version": "1.2.0",
            "_view_name": "LayoutView",
            "align_content": null,
            "align_items": null,
            "align_self": null,
            "border": null,
            "bottom": null,
            "display": null,
            "flex": null,
            "flex_flow": null,
            "grid_area": null,
            "grid_auto_columns": null,
            "grid_auto_flow": null,
            "grid_auto_rows": null,
            "grid_column": null,
            "grid_gap": null,
            "grid_row": null,
            "grid_template_areas": null,
            "grid_template_columns": null,
            "grid_template_rows": null,
            "height": null,
            "justify_content": null,
            "justify_items": null,
            "left": null,
            "margin": null,
            "max_height": null,
            "max_width": null,
            "min_height": null,
            "min_width": null,
            "object_fit": null,
            "object_position": null,
            "order": null,
            "overflow": null,
            "overflow_x": null,
            "overflow_y": null,
            "padding": null,
            "right": null,
            "top": null,
            "visibility": null,
            "width": null
          }
        },
        "608e3f17a43841ea87cd18a636dca053": {
          "model_module": "@jupyter-widgets/base",
          "model_name": "LayoutModel",
          "model_module_version": "1.2.0",
          "state": {
            "_model_module": "@jupyter-widgets/base",
            "_model_module_version": "1.2.0",
            "_model_name": "LayoutModel",
            "_view_count": null,
            "_view_module": "@jupyter-widgets/base",
            "_view_module_version": "1.2.0",
            "_view_name": "LayoutView",
            "align_content": null,
            "align_items": null,
            "align_self": null,
            "border": null,
            "bottom": null,
            "display": null,
            "flex": null,
            "flex_flow": null,
            "grid_area": null,
            "grid_auto_columns": null,
            "grid_auto_flow": null,
            "grid_auto_rows": null,
            "grid_column": null,
            "grid_gap": null,
            "grid_row": null,
            "grid_template_areas": null,
            "grid_template_columns": null,
            "grid_template_rows": null,
            "height": null,
            "justify_content": null,
            "justify_items": null,
            "left": null,
            "margin": null,
            "max_height": null,
            "max_width": null,
            "min_height": null,
            "min_width": null,
            "object_fit": null,
            "object_position": null,
            "order": null,
            "overflow": null,
            "overflow_x": null,
            "overflow_y": null,
            "padding": null,
            "right": null,
            "top": null,
            "visibility": null,
            "width": null
          }
        },
        "c5de5eedabe94a1890d72b4fa3c4527f": {
          "model_module": "@jupyter-widgets/controls",
          "model_name": "SliderStyleModel",
          "model_module_version": "1.5.0",
          "state": {
            "_model_module": "@jupyter-widgets/controls",
            "_model_module_version": "1.5.0",
            "_model_name": "SliderStyleModel",
            "_view_count": null,
            "_view_module": "@jupyter-widgets/base",
            "_view_module_version": "1.2.0",
            "_view_name": "StyleView",
            "description_width": "",
            "handle_color": null
          }
        },
        "dd66ba4b69064801b1beeb20a645e269": {
          "model_module": "@jupyter-widgets/base",
          "model_name": "LayoutModel",
          "model_module_version": "1.2.0",
          "state": {
            "_model_module": "@jupyter-widgets/base",
            "_model_module_version": "1.2.0",
            "_model_name": "LayoutModel",
            "_view_count": null,
            "_view_module": "@jupyter-widgets/base",
            "_view_module_version": "1.2.0",
            "_view_name": "LayoutView",
            "align_content": null,
            "align_items": null,
            "align_self": null,
            "border": null,
            "bottom": null,
            "display": null,
            "flex": null,
            "flex_flow": null,
            "grid_area": null,
            "grid_auto_columns": null,
            "grid_auto_flow": null,
            "grid_auto_rows": null,
            "grid_column": null,
            "grid_gap": null,
            "grid_row": null,
            "grid_template_areas": null,
            "grid_template_columns": null,
            "grid_template_rows": null,
            "height": null,
            "justify_content": null,
            "justify_items": null,
            "left": null,
            "margin": null,
            "max_height": null,
            "max_width": null,
            "min_height": null,
            "min_width": null,
            "object_fit": null,
            "object_position": null,
            "order": null,
            "overflow": null,
            "overflow_x": null,
            "overflow_y": null,
            "padding": null,
            "right": null,
            "top": null,
            "visibility": null,
            "width": null
          }
        }
      }
    }
  },
  "cells": [
    {
      "cell_type": "markdown",
      "source": [
        "\n",
        "<table>\n",
        "  <tr>\n",
        "    <td bgcolor=\"FFFFFF\">\n",
        "      <img src=\"https://drive.google.com/uc?export=view&id=1FUSWDRDDflxrUrYBFPKHE50KrelBYO6N\" width = \"800\" >\n",
        "      </td>\n",
        "      <td>\n",
        "      <img  src=\"https://upload.wikimedia.org/wikipedia/commons/thumb/3/34/University_of_Sussex_Logo.svg/1024px-University_of_Sussex_Logo.svg.png\" width = \"300\"\n",
        "      </td>\n",
        "    </tr>\n",
        "<table>  \n",
        "\n",
        "<!---weird that to put it in the middle I have to align it to the right-->"
      ],
      "metadata": {
        "id": "41-G6rL1rMBg"
      }
    },
    {
      "cell_type": "markdown",
      "source": [
        "# Dark matter: Searching for the invisible"
      ],
      "metadata": {
        "id": "sKLY_TSYXmcO"
      }
    },
    {
      "cell_type": "markdown",
      "source": [
        "### What will we do in this notebook?\n",
        "In this notebook, we will use simulated [ATLAS detector](https://en.wikipedia.org/wiki/ATLAS_experiment) data to search for evidence of [dark matter](https://home.cern/science/physics/dark-matter).\n",
        "This notebook can stand on its own, but it is part of a series of three. The analysis you will see later was done by the ATLAS experiment group and published in a paper here: https://arxiv.org/pdf/1708.09624.pdf\n",
        "\n",
        "The ATLAS detector <!--(https://www.cern/resources/video/experiments/overview-atlas) can we insert the video in the document?--> is the largest particle detector in the world, and is integrated with the <!--maybe i should say Large Hadron Collider-->[LHC](https://home.cern/science/accelerators/large-hadron-collider), the largest [particle accelerator](https://en.wikipedia.org/wiki/Particle_accelerator) in the world. These are both part of [CERN](https://home.cern/), [near Geneva in Switzerland](https://maps.app.goo.gl/KBDhJaFiy8rwoQDG8). Dark Matter is the invisible material that appears to make up a [large portion of our universe's mass](https://youtu.be/h2MlS09KJP4).\n",
        "\n",
        "The LHC accelerates two beams of protons to near lightspeed, and they collide inside the ATLAS detector. [When proton collisions occur inside ATLAS, there is a chance for dark matter to be produced](https://youtu.be/h2MlS09KJP4). This experiment is dedicated to trying to detect this dark matter. If you want to explore more, or you don't fully understand anything, click on the links!\n",
        "\n",
        "In this notebook there will be quite a few collapsed sections, like the ones just below this. Blue collapsed sections are basic explanations of concepts, to help you understand more difficult sections. Red collapsed sections are more advanced, if you want to explore further or want a challenge. You can click on them to see what they contain, but they shouldn't be essential to this notebook.\n",
        "<br>\n",
        "<br>\n",
        "<details>\n",
        "<summary><font color=\"#0000A1\">This is what a blue collapsed section looks like</font></summary>\n",
        "Blue collapsed sections contain basic explanations of concepts. For instance, we know that dark matter exists because without it, gravity wouldn't be strong enough to hold galaxies together. The stars would drift apart as the galaxy spun.\n",
        "</details> <!--figured a thing out. Great-->\n",
        "<details>\n",
        "<summary><font color=\"#A10000\">This is what a red collapsed section looks like</font></summary>\n",
        "Red collapsed sections contain more advanced explanations. For instance, dark matter is called \"dark\" because it isn't detectable through normal means, since it only interacts with the weak force and with gravity. The electromagnetic force doesn't affect it, so light of any frequency can't be used to detect it. </details>\n",
        "\n",
        "<br><font size=\"3\">\n",
        "This notebook contains sections of code which help us visualise and analyse the simulated data. In order for the code to work, we need to import some specialised modules. To do that, please <b> click the play symbol</b> to the left of the code below. The play symbol runs the code, which will import the modules for us.\n"
      ],
      "metadata": {
        "id": "sL8-HfFpo26N"
      }
    },
    {
      "cell_type": "code",
      "source": [
        "#importing some packages that will get used later on\n",
        "from IPython.display import HTML, display, Image #used to embed videos using HTML\n",
        "import ipywidgets as widgets #used to create interactive elements within the notebook\n",
        "import gspread as gs\n",
        "from oauth2client.service_account import ServiceAccountCredentials"
      ],
      "metadata": {
        "id": "J8SPP7RvD51D"
      },
      "execution_count": null,
      "outputs": []
    },
    {
      "cell_type": "markdown",
      "source": [
        "## 1 - Introduction\n",
        "Before we begin searching for dark matter, let's have a look at some of the background physics knowledge in the video below."
      ],
      "metadata": {
        "id": "hJrWXDOLG-32"
      }
    },
    {
      "cell_type": "markdown",
      "source": [
        "### 1.1 - Overview of particle physics and the Standard Model\n",
        "\n",
        "The visible universe is built from leptons and hadrons. Hadrons are composed of quarks, and make up most of the mass we interact with in our day-to-day lives. Leptons (and Quarks) are fundamental particles, meaning that they have no components: the electron is the most common lepton. Hadrons have much more mass\n",
        "than leptons. Another category is the force-carrying particles, which are very short-lived and, true to their name, carry forces between other particles. These categories are shown on the Standard Model, which contains all the fundamental particles that physicists have discovered so far. Dark matter is not yet understood, and so is not on the Standard Model.\n",
        "\n",
        "<details>\n",
        "<summary><font color=\"#A10000\"> How are the types of particles defined? </font><colourred> </summary>\n",
        "The different types of fundamental particles are defined by the forces that they experience. Hadrons are particles that are influenced by the strong force, of which gluons are the carrier particle. Leptons are particles that are not influenced by the strong force, and have 1/2 \"spin\" (which doesn't mean that they are actually rotating - click [here](https://youtu.be/pWlk1gLkF2Y) to find out more). Dark matter does not have a clear definition yet, but its definition will likely include the fact that it cannot interact with the electromagnetic force. </details>\n",
        "\n"
      ],
      "metadata": {
        "id": "pblcN6QEAavf"
      }
    },
    {
      "cell_type": "code",
      "source": [
        "#@title Video: a more in-depth explanation of the Standard Model and its importance to particle physics:\n",
        "HTML('<iframe width=\"560\" height=\"315\" src=\"https://www.youtube.com/embed/ehHoOYqAT_U\" frameborder=\"0\" allowfullscreen></iframe>')"
      ],
      "metadata": {
        "colab": {
          "base_uri": "https://localhost:8080/",
          "height": 372
        },
        "id": "bPRdzLz9ojOt",
        "outputId": "c6a77042-71b0-4e5b-a95f-0f521821a668"
      },
      "execution_count": null,
      "outputs": [
        {
          "output_type": "stream",
          "name": "stderr",
          "text": [
            "/usr/local/lib/python3.10/dist-packages/IPython/core/display.py:724: UserWarning: Consider using IPython.display.IFrame instead\n",
            "  warnings.warn(\"Consider using IPython.display.IFrame instead\")\n"
          ]
        },
        {
          "output_type": "execute_result",
          "data": {
            "text/plain": [
              "<IPython.core.display.HTML object>"
            ],
            "text/html": [
              "<iframe width=\"560\" height=\"315\" src=\"https://www.youtube.com/embed/ehHoOYqAT_U\" frameborder=\"0\" allowfullscreen></iframe>"
            ]
          },
          "metadata": {},
          "execution_count": 2
        }
      ]
    },
    {
      "cell_type": "markdown",
      "source": [
        "### 1.2 - The ATLAS detector\n",
        "The ATLAS detector is a general-purpose particle detector used to detect the particles that explode out of proton collisions, after they're accelerated to ridiculous speeds by the Large Hadron Collider.<br>\n",
        "<br>\n",
        "The Large Hadron Collider is a particle accelerator that accelerates particle-beams very close to the speed of light, and smashes them together millions of times per second inside detectors like ATLAS. When these beams collide, a shower of particles is produced. There is so much energy in these collisions that extremely unstable particles, not usually seen on Earth, can be produced. These particles can teach us a lot about how the universe works, so we use sophisticated detectors like [ATLAS](https://atlas.cern/Discover/Detector) below to study them.\n",
        "\n",
        "<img src=\"https://drive.google.com/uc?export=view&id=1PSDruPabZjbtq-0rGEVtU2zFjr-hTitj\" width = \"800\" style=\"width:40%;\" align=\"left\">\n",
        "\n",
        "\n",
        "\n"
      ],
      "metadata": {
        "id": "l0KOQ2a-ojwa"
      }
    },
    {
      "cell_type": "code",
      "source": [
        "#@title <font color=\"red\">QUIZ:</font> Can you guess how tall the ATLAS detector is?\n",
        "print(\"Can you guess is how tall is the ATLAS detector in metres? Press the PLAY button below to activate the code so you can play!\\n You can use the slider or click on the value to the right of it and type your answer\")\n",
        "\n",
        "def difference(x=10):\n",
        "      ans = 46.0\n",
        "      diff = float(x)-ans\n",
        "      diff_int = abs(diff)//1\n",
        "      diff_cm = int((abs(diff)%1)*100)\n",
        "      print(\"Your answer is \"+str(int(diff_int))+\".\"+str(diff_cm)+\"m away\")\n",
        "      if diff_int < 5:\n",
        "        print(\"That's pretty much perfect - the real answer is that the ATLAS detector is 46m tall!\")\n",
        "      elif diff_int < 15:\n",
        "        print(\"Getting warm!\")\n",
        "\n",
        "layout = widgets.Layout(width='auto', height='auto') #set width and height\n",
        "\n",
        "widgets.interact(difference, x = widgets.FloatLogSlider(\n",
        "    value=10,\n",
        "    base=10,\n",
        "    min=-1.5, # max exponent of base\n",
        "    max=2.5, # min exponent of base\n",
        "    step=0.001, # exponent step\n",
        "    description='Answer (m)'),)\n",
        "\n",
        "LogSlider = widgets.FloatLogSlider(\n",
        "    value=10,\n",
        "    base=10,\n",
        "    min=-10, # max exponent of base\n",
        "    max=10, # min exponent of base\n",
        "    step=0.01, # exponent step\n",
        "    description='Your answer:'\n",
        ")\n"
      ],
      "metadata": {
        "colab": {
          "base_uri": "https://localhost:8080/",
          "height": 101,
          "referenced_widgets": [
            "0ac372a72c4a4b00826baf96df6e18ad",
            "01db31dcfb084571aac8104e70bcd18d",
            "ddc2b03772f145bca98f662ef8e30fcc",
            "de6a6bce38ba43dc8495912e1512ffc9",
            "608e3f17a43841ea87cd18a636dca053",
            "c5de5eedabe94a1890d72b4fa3c4527f",
            "dd66ba4b69064801b1beeb20a645e269"
          ]
        },
        "id": "dTN6RHT4En5D",
        "outputId": "193f8d30-95b6-4804-f10c-9d903588316e"
      },
      "execution_count": null,
      "outputs": [
        {
          "output_type": "stream",
          "name": "stdout",
          "text": [
            "Can you guess is how tall is the ATLAS detector in metres? Press the PLAY button below to activate the code so you can play!\n",
            " You can use the slider or click on the value to the right of it and type your answer\n"
          ]
        },
        {
          "output_type": "display_data",
          "data": {
            "text/plain": [
              "interactive(children=(FloatLogSlider(value=10.0, description='Answer (m)', max=2.5, min=-1.5, step=0.001), Out…"
            ],
            "application/vnd.jupyter.widget-view+json": {
              "version_major": 2,
              "version_minor": 0,
              "model_id": "0ac372a72c4a4b00826baf96df6e18ad"
            }
          },
          "metadata": {}
        }
      ]
    },
    {
      "cell_type": "markdown",
      "source": [
        "### 1.3 - Dark Matter\n",
        "We saw earlier that the Standard Model does not include dark matter. So what is dark matter?\n",
        "\n",
        "Dark matter is a type of matter which light does not interact with, which makes it impossible to see directly. The reason we cannot see dark matter is because it does not interact with the electromagnetic force. [Light is made of electromagnetic waves](https://www.britannica.com/science/light/Light-as-electromagnetic-radiation), but these do not interact with dark matter, so light simply passes through it. This means that regular observation methods, such as any kind of telescope, simply can't detect it. So, if we cannot see dark matter, how do we know it exists? Below is a video by [FERMILab](https://en.wikipedia.org/wiki/Fermilab) explaining this.\n"
      ],
      "metadata": {
        "id": "oe65cMaj2Y-l"
      }
    },
    {
      "cell_type": "code",
      "source": [
        "#@title Video: more about dark matter (and dark energy).\n",
        "HTML('<iframe width=\"560\" height=\"315\" src=\"https://www.youtube.com/embed/oPNrcKeqbBM\" frameborder=\"0\" allowfullscreen></iframe>')"
      ],
      "metadata": {
        "id": "UR_L5ngVFusv",
        "colab": {
          "base_uri": "https://localhost:8080/",
          "height": 336
        },
        "outputId": "ecdc6f0b-3665-463d-ec88-173dc47d3db4"
      },
      "execution_count": null,
      "outputs": [
        {
          "output_type": "execute_result",
          "data": {
            "text/plain": [
              "<IPython.core.display.HTML object>"
            ],
            "text/html": [
              "<iframe width=\"560\" height=\"315\" src=\"https://www.youtube.com/embed/oPNrcKeqbBM\" frameborder=\"0\" allowfullscreen></iframe>"
            ]
          },
          "metadata": {},
          "execution_count": 7
        }
      ]
    },
    {
      "cell_type": "markdown",
      "source": [
        "### 1.4 - ATLAS and dark matter\n",
        "So, how are we looking for dark matter using ATLAS?\n",
        "<br>\n",
        "First, we need to know exactly what kind of dark matter we are looking for, since we don't know exactly what it is. The theoretical dark matter particle we will be looking for in this notebook is called a [WIMP](https://www.britannica.com/science/weakly-interacting-massive-particle): Weakly Interacting Massive Particle. This is a particle that doesn't interact with the electromagnetic force, but is quite massive and slow. This particle fits most theories on dark matter.\n",
        "\n",
        "There are other possbilities for what dark matter is, but they're less likely, and we won't be looking at them any more in this notebook. Have a look at the advanced collapsed section below if you're curious.\n",
        "\n",
        "<details> The best candidate we have for dark matter are WIMPs. However, there are other ways to explain it, though they are less likely to be true. One possibility are \"primordial black holes\", tiny black holes scattered around galaxies and left over from the big bang, which would act similarly to WIMPs. Another are sterile neutrinos - neutrinos which are much slower and have much more mass than normal. There is also the possibility that our theories of how gravity works are wrong, and dark matter doesn't exist at all: this possibility is known as MOND. However, this is generally considered to be very unlikely.\n",
        "\n",
        "<font size=\"2.5\"> Here's <a href=\"https://youtu.be/fidzLZQyaJE?list=PLsPUh22kYmNDTlPO5fDNHZElYeS6yrikR\">a video </a>which has a lot more advanced information on what exactly WIMPS are; <a href=\"https://youtu.be/0sTBZ2G4vow?t=3\">another one</a> which explains primordial black holes; and <a href= \"https://youtu.be/0sTBZ2G4vow\">another one</a> which explains MOND.</font>\n",
        "<summary><font color=\"#A10000\">Further explanation of WIMPs and other possible dark matter candidates</font><summary/>\n",
        "</details>\n",
        "\n",
        "<details> When physicists say that something is \"massive\", they mean that it has a large mass. For physicists, \"mass\" is the amount of matter that an object is made of, while \"weight\" is how much that object is experiencing the force of gravity. Weight changes depending on the strength of gravity an object is experiencing, but mass doesn't: if you went to the moon, your weight would become much less, but your mass would stay the same. For this reason, mass is a more useful measurement than weight.\n",
        "<summary><font color=\"#0000A1\">What does \"massive\" mean?</font><summary/>\n",
        "</details>\n",
        "<br><font size =\"3\">\n",
        "Since WIMPs don't interact with electromagnetic radiation, they're invisible to the ATLAS sensors. So how will we detect them and study them at ATLAS?\n",
        "<br><br>\n",
        "If dark matter particles are produced by a collision at ATLAS, the ATLAS sensors won't be able to detect them, but we can find the dark matter particles by studying the other particles in the collision. We do this by using the concept of \"conservation of momentum\". The video below explains this concept."
      ],
      "metadata": {
        "id": "3uCo9CVEF6m2"
      }
    },
    {
      "cell_type": "code",
      "source": [
        "#@title Video: an example of conservation of momentum\n",
        "HTML('<iframe width=\"560\" height=\"315\" src=\"https://www.youtube.com/embed/4IYDb6K5UF8\" frameborder=\"0\" allowfullscreen></iframe>')"
      ],
      "metadata": {
        "id": "q7R3BApiRF_i",
        "colab": {
          "base_uri": "https://localhost:8080/",
          "height": 336
        },
        "outputId": "dd4b0739-557c-4eac-cda9-7a04afdeafe2"
      },
      "execution_count": null,
      "outputs": [
        {
          "output_type": "execute_result",
          "data": {
            "text/plain": [
              "<IPython.core.display.HTML object>"
            ],
            "text/html": [
              "<iframe width=\"560\" height=\"315\" src=\"https://www.youtube.com/embed/4IYDb6K5UF8\" frameborder=\"0\" allowfullscreen></iframe>"
            ]
          },
          "metadata": {},
          "execution_count": 8
        }
      ]
    },
    {
      "cell_type": "markdown",
      "source": [
        "So how does this relate to us finding dark matter? Well, imagine that one of the tennis balls is invisible, and then they collide. You’d still see the other tennis ball bounce off of it, so you know that there is something invisible for it to bounce off. Carefully studying the tennis-ball collision could teach you about the invisible ball - we study the collisions between protons to learn about the invisible dark matter. At ATLAS the collisions are a lot more complicated than these two tennis balls, but the basic principle is exactly the same:\n",
        "\n",
        "If our particle collisions produce dark matter which is invisible, it will look like the the momentum of the visible particles is wrong - like we've lost some momentum in the collision. A tennis ball has bounced off something invisible. In fact, the dark matter is carrying this \"lost momentum\". The lost momentum is represented by the green line in the below image.\n",
        "\n",
        "In physics this concept is known as the \"principle of conservation of momentum\".\n",
        "\n",
        "At ATLAS, we only measure transverse momentum - in less technical language, sideways momentum. This means momentum that is perpendicular to the direction of the particle beam. We don't measure momentum that is along the direction of the particle beam, because we don't know exactly what the momentum of our protons were when they collided. Whereas they shouldn't have any sideways momentum, meaning that their transverse momentum is initially equal to zero, and the transverse momentum after the collision will also be zero.\n",
        "\n",
        "The diagram below shows how this works in practice. Imagine that the blue circle is a cross-section of the ATLAS detector. One beam of protons is moving away from you towards the yellow collision point, and one is coming towards you, from the other side of the screen. The protons collide, and some particles explode outwards, towards the bottom of the detector. But we don't see any particles explode upwards - so there is some missing momentum. We couldn't detect them, but some invisible particles must have exploded upwards towards the top of the detector - these might be dark matter particles!\n",
        "<details>\n",
        "You might be wondering where the sideways or transverse momentum comes from, if momentum is always conserved, and the protons have zero sideways momentum before colliding.\n",
        "\n",
        "<font size=\"2\">The secret is that momentum is a vector quantity - it's calculated relative to a particular direction. If we consider momentum upwards to be positive, then downwards momentum would be negative. And what happens when we add positive and negative numbers? They cancel each other out. So if two protons collide, causing some dark matter to shoot upwards and some other particles to shoot downwards, the total sideways momentum could still be zero - despite the fact that the protons had no upwards or downwards momentum before colliding!\n",
        "\n",
        "[This video](https://youtu.be/w2zQJ8JMlBA) has a good explanation of the concept. </font>\n",
        "<summary> <font color = \"#0000A1\">How do we add up momentum? </font>\n",
        "</details>\n",
        "<details>\n",
        "Protons are much more complicated than they're generally presented as. They're normally presented as three quarks, connected by the strong force. They do always contain these three quarks (which are known as the \"valence\" quarks), but they also contain a \"sea\" of other different types of quarks, constantly appearing and disappearing. These other quarks also have momentum, making calculation of the whole proton's momentum very difficult: it's possible to do, but we don't so that the experiment stays relatively simple.  \n",
        "\n",
        "<font size = \"2\">If you want a very comprehensive look at the structure of a proton - [here it is.](https://youtu.be/WZfmG_h5Oyg) Warning: this goes a long way above and beyond this notebook. </font>\n",
        "<summary> <font color = \"#A10000\">Advanced information on proton momentum</font>\n",
        "</details>\n",
        "<br>\n",
        "<img src=\"https://cds.cern.ch/record/2665178/files/Fig_2_Fix.png?subformat=icon-1440\" width=\"600\" style=\"width:20%;\" align=\"left\">\n",
        "<br>\n",
        "<br>\n",
        "for more information on this figure go to 2.3.2 the DM_300 figure."
      ],
      "metadata": {
        "id": "z7fjSAUDRbVh"
      }
    },
    {
      "cell_type": "code",
      "source": [
        "#@title <font color=\"red\">QUIZ:</font> Test your knowledge of conservation of momentum! Press the play button below to start the quiz\n",
        "print(\"           After a particular proton collision in ATLAS, one visible particle and one dark matter particle is created.\")\n",
        "print(\"           ATLAS detects the visible particle shooting off leftwards. Which direction is the dark matter particle going?\")\n",
        "out = widgets.Dropdown(options=[('', 9),('Upwards',0),('Downwards',0),('To the right',1),('To the left',0)],description='Answer:',disabled=False)\n",
        "def drop_check(guess):\n",
        "  if guess==9:\n",
        "    print('')\n",
        "  elif guess==1:\n",
        "    print(\"\\033[1;32;47m Correct!  \\n\")\n",
        "  else:\n",
        "    print(\"\\033[1;31;47m Incorrect.  \\n\") #\n",
        "    print(\"\\033[0;30;107m Remember that the total transverse momentum is zero - if the visible particle is moving leftwards, where is the dark matter going to cancel it out?  \\n\")\n",
        "check = widgets.interactive_output(drop_check,{'guess':out})\n",
        "widgets.HBox([out,check])"
      ],
      "metadata": {
        "id": "3T8v3RBoQGG0",
        "colab": {
          "base_uri": "https://localhost:8080/",
          "height": 85,
          "referenced_widgets": [
            "7ae90a3a23574fc2a62c09475f1c9cc5",
            "4ad10827757c45b19af28ad96bae1326",
            "79e9be4662234e2e8b804b9c2d23cf8c",
            "bc19f3eae81d45bd9c60619d0ee78b93",
            "1524dd664a2a4843a08fa042aa2fe5e8",
            "a995820b631d4ca282945d93d080a7dc",
            "920ba6f967e64079865848923814c191"
          ]
        },
        "outputId": "76aef883-353d-4ae7-8915-92a5d5754a6b",
        "cellView": "form"
      },
      "execution_count": null,
      "outputs": [
        {
          "output_type": "stream",
          "name": "stdout",
          "text": [
            "           After a particular proton collision in ATLAS, one visible particle and one dark matter particle is created.\n",
            "           ATLAS detects the visible particle shooting off leftwards. Which direction is the dark matter particle going?\n"
          ]
        },
        {
          "output_type": "display_data",
          "data": {
            "text/plain": [
              "HBox(children=(Dropdown(description='Answer:', options=(('', 9), ('Upwards', 0), ('Downwards', 0), ('To the ri…"
            ],
            "application/vnd.jupyter.widget-view+json": {
              "version_major": 2,
              "version_minor": 0,
              "model_id": "7ae90a3a23574fc2a62c09475f1c9cc5"
            }
          },
          "metadata": {}
        }
      ]
    },
    {
      "cell_type": "markdown",
      "source": [
        "# 1.5 - The process and the signature\n",
        "<!--Explain the process and the signal, and the fact that many different processes can create a signature that looks like dark matter-->\n",
        "\n",
        "When two protons collide at the LHC, a lot of different things can potentially happen. The two protons have extremely high energy due to how fast they're moving. This high energy allows for a large number of unusual particles to be created when the protons collide. These particles explode outwards from the collision, towards the detectors. Once they've been detected, we calculate their transverse momentum as accurately as possible. If it doesn't sum up to zero overall, there is some lost momentum - which could be carried by a WIMP. So we keep the data on all the collisions with missing momentum, and we ignore everything else.\n",
        "\n",
        "You might think that if there is missing momentum, there must be a WIMP, dark matter. Unfortunately, it's more complicated than that. The collisions are complex, and there are a large number of ways that we could lose a momentum-carrying particle. For instance, one of the particles that can be generated in these collisions is called the [Neutrino](https://youtu.be/J8dRZjOD_ME). Like WIMPS, Neutrinos are also invisible to the ATLAS sensors. In fact, the only difference between Neutrinos and WIMPS is that Neutrinos are much faster and much less massive. So how do we know that we've found dark matter and not a neutrino?\n",
        "\n",
        "There are a number of clues. First of all: we know exactly what <b>process</b>, what kind of collision, might create WIMPs/dark matter. The diagram below represents this collision.\n",
        "\n",
        "<figcaption align = \"center\"> DM+Z->ll Process </figcaption>\n",
        "<img src=\"https://drive.google.com/uc?export=view&id=1kfhhgKvCdDXjv-aS00H8C5ayJhx0dpVV\" width=\"640\" height=\"480\" style=\"margin-left:auto; margin-right:auto\"></img>\n",
        "\n",
        "<font size = \"3\">In this diagram, the circle in the centre is the proton collision. p represents the colliding protons; Z represents a Z-boson; l+ and l- represent leptons; and χ, the Greek letter chi, represents dark matter. <br>\n",
        "This is the <b>DM+Z->ll process</b>, which creates dark matter and two leptons - it is what the experiment is looking for.\n",
        "\n",
        "So the process we're looking for involves a proton releasing a z-boson, which decays into two leptons. The two protons then collide, and two WIMPs - dark matter particles - are created. As mentioned before, we call this process \"DM+Z->ll\". This process's <b>final state</b> is two leptons and two WIMPs. However, the only output of this process that ATLAS can detect is the two leptons. These two leptons, when combined with missing momentum, are known as our <b>\"signature\"</b>. The signature is the visible part of the final state that we want. If ATLAS detects only two leptons, and there's missing energy, there is a possibility that the two leptons are part of the final state from a DM+Z->ll process.\n"
      ],
      "metadata": {
        "id": "1nMYKzI-e35C"
      }
    },
    {
      "cell_type": "markdown",
      "source": [
        "#1.6 - The background and the signal\n",
        "\n",
        "Unfortunately, it's still more complicated. There are a lot of processes where the only detectable output is only two leptons, but very few of them produce dark matter. These processes are known as our <b>\"background\"</b>: collision processses that can imitate our signature, and need to be filtered out. Section 1.7 below this shows many of these \"background\" processes which need to be filtered out.\n",
        "\n",
        "Essentially we're looking for needles in a haystack, but all the hay looks like needles. We have to figure out multiple methods to determine what is a needle, and what is just hay. The first of these methods is to look for missing  momentum. Any collision that doesn't involve missing momentum can't be a DM+Z->ll process.\n",
        "\n",
        "The combination of two leptons and missing energy is our <b>\"Signature\"</b>. If an event has this signature, it could be a DM+Z->ll process. We cut out all the data collected by the ATLAS detector, so that our data only contains events with this signature.\n",
        "\n"
      ],
      "metadata": {
        "id": "vy6F_I0hAHou"
      }
    },
    {
      "cell_type": "markdown",
      "source": [
        "#1.7 - List of processes\n",
        "\n",
        "This is a list of collision processes that can have the same signature as the DM+Z->ll process, so they become part of our data. These are mostly background processes: these processes have the correct signature (two leptons and missing momentum), but are not the process we're looking for (DM+Z->ll) so we need to cut them out. Most of these processes don't always involve missing momentum, but detecting them doesn't always function perfectly - sometimes, part of the process may not be reconstructed properly, or otherwise-detectable particles might escape the detector. This could lead to missing momentum, so that the process imitates our signature: Two leptons and missing momentum. Only the processes that imitate our signature are part of the background.\n",
        "<details>\n",
        "<!--We simulate all these collision events, and store the data on how they would look to ATLAS in files which you will see later. -->\n",
        "The files we use simulate proton-proton collision events and how they would look to the ATLAS detector which all get removed using cuts from our data.\n",
        "</details>\n",
        "\n",
        "<img src=\"https://lh6.googleusercontent.com/gseLzJIfpAduDuxrbdAZvYlOQ4gWQP_xlT6BkWdE1z5m-JfAtMEU4nY6Xqxpla88yyc=w2400\" height=\"300\" width=\"400\"></img>\n",
        "\n",
        "\n",
        "DM_300: This file simulates the decay into a final state of two leptons and two dark matter particles. The two leptons decay from a Z boson. This is the star of the show, our signal: DM+Z->ll, the process everyone's searching for.\n",
        "\n",
        "<img src=\"https://lh5.googleusercontent.com/QMuaduYq-OGqXvxQ1ZFQqpq2-kXvK3nfLkl5NoQ2djmkeRHbGsheX23GflvlnwqvxSU=w2400\" height=\"300\" width=\"300\"></img>\n",
        "<br>\n",
        "<br>\n",
        "Non-resonant_ll: This file simulates the prodution of a top quark and an antitop quark, which then decays into two leptons, two neutrinos and jets. Most of the time the jets will be detected, but if ATLAS misses the jets, then this process matches our signature: only two leptons will be detected, and the neutrinos and jets will contribute to missing momentum. Our signature is two leptons and missing momentum, so this process is part of the background.\n",
        "\n",
        "<img src=\"https://lh5.googleusercontent.com/wt0Xmvg9VmjN2sAGSbpI_5kK68BMOa-SZouT80BDoM6ddHsdMZYQLL2L_YqLhV2G930=w2400\" height=\"300\" width=\"300\"></img>\n",
        "<br>\n",
        "<br>\n",
        "Z+jets: This file simulates the production of a Z boson and jets, where the Z boson decays to two leptons. If ATLAS doesn't detect the jets, the process matches our signature, and so it's part of our background.\n",
        "\n",
        "<img src=\"https://lh6.googleusercontent.com/Qp1YUTVgXcIBm05Ude3HEWI9i6_oUJbuSeF-BSlwLAEa3svwq9iryV_Pj8qqByCRGlg=w2400\" height=\"300\" width=\"300\"></img>\n",
        "<br>\n",
        "<br>\n",
        "WZ: This file simulates a collion generating a Z and W boson, which decay into two leptons and two jets. If the jets aren't detected, the detected particles match our signature.\n",
        "\n",
        "<img src=\"https://lh4.googleusercontent.com/ONRH-e-COArXt-ofkrawS7-iQDb03dtY_4fTGFOk3c-CHWqbl3dQs2J_XF8RITHwVz4=w2400\" height=\"300\" width=\"300\"></img>\n",
        "<br>\n",
        "<br>\n",
        "ZZ: This decay results in two leptons which decay from one Z boson, and two neutrinos (or two jets) which decay from the other Z boson. When the Z boson decays into neutrinos, the detected output of the process exactly matches that of our signal - so this process is always part of the background. When the Z boson decays into jets, the process is not always part of our background, as ATLAS may detect the jets.\n",
        "\n",
        "<img src=\"https://lh5.googleusercontent.com/rGUmWe9R5Uuf0EGRsddKP2U3ST7RprD48k-xy_dVR1DRFXbKUagvRhq0eLuhyl-kGvQ=w2400\" height=\"500\" width=\"500\"></img>\n",
        "<!---thanks so much Meirin!!-->"
      ],
      "metadata": {
        "id": "WK_mLwrKdQJP"
      }
    },
    {
      "cell_type": "markdown",
      "source": [
        "# <html>\n",
        "<details>\n",
        "<summary> <font color=\"#A10000\">1.4.2 - The maths behind the equation - advanced</summary>\n",
        "\n",
        "The equation we use to calculate the missing transverse momentum, or energy, is: <img src=\"https://drive.google.com/uc?export=view&id=1ANd28Eh2lbzx_RR66MUvn9umCCY3HPwb\" width = \"300\" height = \"50\">\n",
        "\n",
        "Below, you can see how we derive this equation from the relativistic equation for mass, Einstein's E=mc^2 and the classical p=mv.\n",
        "\n",
        "If we use the relativistic relation for mass:\n",
        "<br>\n",
        "![image.png](data:image/png;base64,iVBORw0KGgoAAAANSUhEUgAAAG4AAAASCAYAAAC6u+tBAAACV0lEQVRoge2Z623bMBCAvxYdQPUGcTcQ0g3UDdQR6m6QjlC4G7ArKBvII1TdoN4giTdwf5DX0MwdHRWgLCH5AEEET3yd7kFK8MgW6IABqENdFdW7INtEbZpQ78IzPbBmWTT4eR+BP/j1WrioPAt9NdEAHfAQOuySjlv8AmvgJlwxA37xS2GDX096OePZJpRno68uKov19cpzNY+WuVHkLsjHWlGDX7ymxDFXzltSRKk30XzXoQ9RdkxnlC+hL94pddfh/lWRyQB74Gem7X7kPHbAFbAa2S5lzLhb4EPSZg98A+7w6xcdtOgvBsrqaxv6uA93B9xqA6yxrUc6OuIXoiHWNXdadA+I6Y0yTKOvnqeh1fLcfzE/bSAMQV4pMgkLWn6YG9r8U8TaJT9plNKX9JvSGvV06PFdyFmIxOvGkC8N8UqH/aJL6avHv/QU8fAnHvwQLo2GvEelbcckXOl7ys3JOWSj0mWeKaWvXPg9Ai7enKzxlrUzGnwKd20hTWgbJ+At8NnoK2UHvGfazck57vEe98WQl9KXePchM7dV/OLEZS0LE/f89YxJyk5oDAfyk52aFV6Jt4a8lL6eY7wn0UzitRbiqiDT4i745Bwn4VxeWAo1+TBZSl+Sx6yxj8CQnuN22OHmgB2vfwAfw2AH4Dvz8p7/4Ro7zwgl9CWelzP8sdHsRdFh7xZLY3mreLJ7O+18FkUN/L7Q2Na4kv/ORYIXS4Wdn6bAOoBL/dL3D8VoufwXoIHTc2lF9MnrzSVmtAAcPhxZR4EpkH97gvqR+ZVTcseAWfAXlo36whg10UEAAAAASUVORK5CYII=)\n",
        "<br>\n",
        "Then simply by squaring and rearranging gives:\n",
        "<br>\n",
        "![Energy-momentum relation 2.png](data:image/png;base64,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)\n",
        "<br>\n",
        "This is then multpplied by c⁴ to get:\n",
        "<br>\n",
        "![Energy-momentum relation 3.png](data:image/png;base64,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)\n",
        "<br>\n",
        "And finally we know that E=mc² from einsteins famous equation, and p=mv from classical physics so:\n",
        "<br>![Energy-momentum relation 4.png](data:image/png;base64,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)\n",
        "<br>"
      ],
      "metadata": {
        "id": "i0wB0nl8NgGd"
      }
    },
    {
      "cell_type": "code",
      "source": [
        "#@title <font color=\"red\">QUIZ:</font> Hit play below to see what you know about dark matter!\n",
        "print(\"           Why is it difficult to detect dark matter?\")\n",
        "out = widgets.Dropdown(options=[('',9),('It is too massive (heavy) to detect.',0),('It only interacts with the weak and gravitational forces.',1),('We are using the wrong wavelength to detect it.',2),('It only interacts with the electromagnetic force.',3)],description='Answer:',disabled=False)\n",
        "def drop_check(guess):\n",
        "  if guess==9:\n",
        "    print('')\n",
        "  elif guess==1:\n",
        "    print(\"\\033[1;32;47m Correct!  \\n\")\n",
        "  elif guess==0 or guess==2:\n",
        "    print(\"\\033[1;31;47m Incorrect.  \\n\")\n",
        "    print(\"\\033[0;30;107m The answer is to do with the forces that WIMPS interact with. It's in the name... \\n\")\n",
        "  elif guess==3:\n",
        "    print(\"\\033[1;31;47m Incorrect.  \\n\")\n",
        "    print(\"\\033[0;30;107m In fact, our problem is that it doesn't interact with the electromagnetic force at all, making it invisible. \\n\")\n",
        "check = widgets.interactive_output(drop_check,{'guess':out})\n",
        "widgets.HBox([out,check])"
      ],
      "metadata": {
        "id": "RLG49RhgeDbc",
        "cellView": "form",
        "colab": {
          "base_uri": "https://localhost:8080/",
          "height": 67,
          "referenced_widgets": [
            "3b9daa8ccab04fecb2bfc1d9da796b4a",
            "c275f007a064410e81d737af41321c34",
            "9d75a55a78fd4bbe907e1e154456f76f",
            "8a13b6ebdd294e7b851f8decc3518ae3",
            "3d7526e34d464ab6b238fbad68f132f7",
            "dba6ba5c3fb540dc909ca1232f379546",
            "3b6957f69bbe4ee28994bf628fbd1c89"
          ]
        },
        "outputId": "deb32396-5f2b-4285-b006-c7bbda684526"
      },
      "execution_count": null,
      "outputs": [
        {
          "output_type": "stream",
          "name": "stdout",
          "text": [
            "           Why is it difficult to detect dark matter?\n"
          ]
        },
        {
          "output_type": "display_data",
          "data": {
            "text/plain": [
              "HBox(children=(Dropdown(description='Answer:', options=(('', 9), ('It is too massive (heavy) to detect.', 0), …"
            ],
            "application/vnd.jupyter.widget-view+json": {
              "version_major": 2,
              "version_minor": 0,
              "model_id": "3b9daa8ccab04fecb2bfc1d9da796b4a"
            }
          },
          "metadata": {}
        }
      ]
    },
    {
      "cell_type": "markdown",
      "source": [
        "## 2 - Setting up data for analysis\n",
        "Now that we understand what dark matter is, and what we're looking for, we can start to look for it. But before we do any kind of analysis we need to get everything ready. This means we have to prepare the data so that we can analyse it to search for dark matter created at the LHC. We will do this with Python.\n"
      ],
      "metadata": {
        "id": "VJVe7_AiG--j"
      }
    },
    {
      "cell_type": "markdown",
      "source": [
        "### 2.1 - What is Python?\n",
        "[Python](https://opensource.com/resources/python) is a programming language that has a focus on readability and modularity. This is great for scenarios such as collaborations, where multiple people have to be able to read and understand the same code. This entire notebook is a good example of that, and all our code is written in Python.\n",
        "\n",
        "<br>\n",
        "<font color=\"red\">TASK:</font> Complete the cell below to print out some text and do a calculation."
      ],
      "metadata": {
        "id": "TCqjZ-qXt1UD"
      }
    },
    {
      "cell_type": "code",
      "source": [
        "#define the variable \"num\" below this comment, so that the error is fixed and the code outputs the correct answer when you press play\n",
        "\n",
        "print(\"Seven plus two is\",num) #The comma separates the text and the calculation, otherwise Python won't be able to process the code properly\n",
        "#Anything after a '#' is called a comment, and isn't recognised as code by Python. Comments are used to help explain how code works"
      ],
      "metadata": {
        "id": "DZ3aSewMLSmY"
      },
      "execution_count": null,
      "outputs": []
    },
    {
      "cell_type": "markdown",
      "source": [
        "### 2.2 - What are packages?\n",
        "When we want to do something specific in Python, we might not have all the tools we need to do so. But as we noted before, Python is very modular (and popular!) which means we can import packages into our code that give us additional functionality, allowing to us perform more specific tasks.\n",
        "<br>\n",
        "<br>\n",
        "We can think of a package as something that gives us more tools that we can use in our code. You might remember that we imported a couple of modules at the start of the notebook to make some of the interactive parts of this notebook work. We will now import some modules that will be necessary for our data analysis:\n",
        "* [NumPy](https://numpy.org/about/) - NumPy is a module useful for its mathematical functions and the arrays it lets us use. Arrays are a basic but effective way to store data.\n",
        "* [PyPlot](https://matplotlib.org/stable/gallery/index.html) - PyPlot is a module designed for data visualisation, which helps us understand patterns in data easily, and intuitively.\n",
        "* [Pandas](https://pandas.pydata.org/about/) - Pandas is a module designed specifically for data analysis. One key part of its functionality is the dataframe, which can effectively store and distribute complicated sets of data."
      ],
      "metadata": {
        "id": "fvCtykcBMfnv"
      }
    },
    {
      "cell_type": "code",
      "source": [
        "import numpy as np #useful for mathematical functions and arrays\n",
        "import matplotlib.pyplot as plt #useful for data visualisation\n",
        "import pandas as pd #useful for advanced data analysis and dataframes\n",
        "import scipy.stats as st #only used once or twice in this notebook - for analysis of statistical significance"
      ],
      "metadata": {
        "id": "9IzAW9KuLYsj"
      },
      "execution_count": null,
      "outputs": []
    },
    {
      "cell_type": "markdown",
      "source": [
        "### 2.3 - Getting our data ready\n",
        "\n",
        "Now that we have imported the packages we want to use, let's get the files we want into the workbook and ready to use for our analysis. First, we will put the file information into dataframes which we can work with.\n",
        "<br>\n",
        "<br>\n",
        "So what do the files we will use mean?\n",
        "<br>\n",
        "<br>\n",
        "The <font color='magenta'>'DM_300'</font> file is the file that has data on the dark matter we are searching for, so we call this the <font color='magenta'>signal</font> file. The other files (<font color='olive'>'Non-resonant_ll', 'Z+jets', 'WZ', 'ZZ'</font>) refer to other collision processes that appear similar to the process that produces dark matter - we call these the <font color='olive'>background</font> files. Click on the dropdown for section 2.3.1. to learn a bit more about our files.\n",
        "<br>\n",
        "<br>\n",
        "Make sure to <b>run the code below </b>next. This will download our collision data on dark matter and background processes. If you're accessing the data through a Uni of Sussex google drive, then set \"sussex_drive\" to <b> True</b>. If you have a USB drive with the data, then set \"usb_drive\" to <b> True</b> - you'll have to do some of the code yourself. If you're part of a large group of people accessing this notebook right now, then set \"group\" to <b> True </b>. That will prevent this notebook from downloading data from the internet, so that downloading the data isn't too slow."
      ],
      "metadata": {
        "id": "nQ5uLzK0MdLV"
      }
    },
    {
      "cell_type": "markdown",
      "source": [
        "<html>\n",
        "<details>\n",
        "<summary style=\"color:orange; font-weight: bold;\"><font color=\"A10000\">2.3.1 - What exactly is our data?</font></summary>\n",
        "\n",
        "These files contain data recorded from simulations created to look like what would happen during collisions at the detector (specifically simulations of 13TeV proton-proton collisions at the Large Hadron Collider).\n",
        "<br>\n",
        "<br>\n",
        "How do we simulate all the events that occur in particle collisions? First, we create a [mathematical model](https://www.mathsisfun.com/algebra/mathematical-models.html) of particle collisions and then we use this model to produce simulated data. In this process randomly generated data helps to make sure that the simulated data is realistic - this is done using the [Monte Carlo method](https://www.youtube.com/watch?v=7ESK5SaP-bc).\n",
        "<br>\n",
        "<br>\n",
        "Another thing to consider is that the number of Monte Carlo simulated events we have and the number of actual data events may be different. To combat this difference we create weights that go along with our Monte Carlo data. These weights allow us to simulate actual data as closely as possible. Please have a look at the following [sidenote](https://docs.google.com/document/d/1B_bzcKqTnBBZ-0K02aurW9o8FgfWlmEO-PxuP-f4ves/edit) to get further discussion on why this is so important.\n",
        "\n",
        "If we do this all correctly, our simulated data should be identical to data recorded at the actual collider.\n",
        "<br>\n",
        "<br>\n",
        "You will see weights being used in this notebook when you see something that looks like ['<font color=\"red\">totalWeight</font>'] get used. This will apply the weights that we have.  \n",
        "<br>\n",
        "<br>\n",
        "Briefly we'll cover how Monte Carlo (we'll call it simulated data from now on) is used in practice. In CERN analysis simulated data shows us what we expext the data we record to look like. We then record actual data and compare this with the simulated data. If we find differences, our Monte Carlo model must not properly represent the reality of the collisions. This could indicate that we have found new physics - this is [how the Higgs boson was discovered](https://home.cern/science/physics/higgs-boson/how).\n",
        "</details>\n",
        "</html>"
      ],
      "metadata": {
        "id": "UIngmabFb6O8"
      }
    },
    {
      "cell_type": "code",
      "source": [
        "#creating our dataframes\n",
        "sussex_drive = False\n",
        "usb_drive = False\n",
        "group = False\n",
        "\n",
        "\n",
        "DM_300=\"replace\"\n",
        "Z_jets=\"replace\"\n",
        "WZ=\"replace\"\n",
        "ZZ=\"replace\"\n",
        "NR_ll=\"replace\"\n",
        "our_dataframes = [Z_jets, WZ, ZZ, NR_ll, DM_300] #we put our event information in a list, making it easier to look through all of it at once using a loop\n",
        "#\"our_dataframes[4]\" calls the DM_300 dataframe, \"our_dataframes[0]\" calls Z_jets, \"our_dataframes[1]\" calls WZ, etc\n",
        "dataframe_names = ['Z_jets','WZ','ZZ','NR_ll', 'DM_300'] #this list just has the names of the dataframes so we can make labels\n",
        "Data_Collected = False"
      ],
      "metadata": {
        "id": "5-NpCHpbZOjZ"
      },
      "execution_count": null,
      "outputs": []
    },
    {
      "cell_type": "code",
      "source": [
        "# @title This cell contains our methods for accessing the code { form-width: \"1px\", display-mode: \"form\" }\n",
        "def read_data_drivelocal():\n",
        "  if sussex_drive: #checks if the user has a Sussex google drive\n",
        "    try:\n",
        "      our_dataframes[4] = pd.read_csv('/content/drive/MyDrive/Data/DM_300.csv') #converts the data at that link into a Pandas dataframe\n",
        "    except:\n",
        "      pass\n",
        "    else:\n",
        "      our_dataframes[0] = pd.read_csv('/content/drive/MyDrive/Data/Zjets.csv')\n",
        "      our_dataframes[1] = pd.read_csv('/content/drive/MyDrive/Data/WZ.csv')\n",
        "      our_dataframes[2] = pd.read_csv('/content/drive/MyDrive/Data/ZZ.csv')\n",
        "      our_dataframes[3] = pd.read_csv('/content/drive/MyDrive/Data/nonres.csv')\n",
        "      global Data_Collected\n",
        "      Data_Collected = True\n",
        "\n",
        "def read_data_cernsite():\n",
        "  if group == False: #Checks that the user isn't part of a large group, so it's ok to download data from the internet\n",
        "    try: #tests if the code can access the data properly\n",
        "      our_dataframes[4] = pd.read_csv('https://atlas-opendata.web.cern.ch/atlas-opendata/samples/2020/csv/DM_ML_notebook/DM_300.csv')\n",
        "    except:\n",
        "      pass  #if it can't be accessed, the code skips trying to download the rest of the data\n",
        "    else: #if the 'try' statement is successful, we download the rest of the data\n",
        "      our_dataframes[0] = pd.read_csv('https://atlas-opendata.web.cern.ch/atlas-opendata/samples/2020/csv/DM_ML_notebook/Z+jets.csv')\n",
        "      our_dataframes[1] = pd.read_csv('https://atlas-opendata.web.cern.ch/atlas-opendata/samples/2020/csv/DM_ML_notebook/WZ.csv')\n",
        "      our_dataframes[2] = pd.read_csv('https://atlas-opendata.web.cern.ch/atlas-opendata/samples/2020/csv/DM_ML_notebook/ZZ.csv')\n",
        "      our_dataframes[3] = pd.read_csv('https://atlas-opendata.web.cern.ch/atlas-opendata/samples/2020/csv/DM_ML_notebook/Non-resonant_ll.csv')\n",
        "      global Data_Collected\n",
        "      Data_Collected = True\n",
        "\n",
        "def read_data_newsite():\n",
        "  if group == False:\n",
        "    try:\n",
        "      our_dataframes[4] = pd.read_csv('https://atlas-opendata-el9-preview.webtest.cern.ch/atlas-opendata/samples/2020/csv/DM_ML_notebook/DM_300.csv')\n",
        "    except:\n",
        "      pass\n",
        "    else:\n",
        "      our_dataframes[0] = pd.read_csv('https://atlas-opendata-el9-preview.webtest.cern.ch/atlas-opendata/samples/2020/csv/DM_ML_notebook/Z+jets.csv')\n",
        "      our_dataframes[1] = pd.read_csv('https://atlas-opendata-el9-preview.webtest.cern.ch/atlas-opendata/samples/2020/csv/DM_ML_notebook/WZ.csv')\n",
        "      our_dataframes[2] = pd.read_csv('https://atlas-opendata-el9-preview.webtest.cern.ch/atlas-opendata/samples/2020/csv/DM_ML_notebook/ZZ.csv')\n",
        "      our_dataframes[3] = pd.read_csv('https://atlas-opendata-el9-preview.webtest.cern.ch/atlas-opendata/samples/2020/csv/DM_ML_notebook/Non-resonant_ll.csv')\n",
        "      global Data_Collected\n",
        "      Data_Collected = True"
      ],
      "metadata": {
        "id": "bB1NnPETuNJn"
      },
      "execution_count": null,
      "outputs": []
    },
    {
      "cell_type": "code",
      "source": [
        "def read_data_fileslocal():\n",
        "  if usb_drive: #checks if the user has a USB drive\n",
        "    try:\n",
        "      our_dataframes[4] = pd.read_csv('If using a USB, insert file path here!') #doesn't work until edited! The user needs to input their own file path,\n",
        "      our_dataframes[0] = pd.read_csv('If using a USB, insert file path here!') #since there's no way to tell where the datafiles will be if they're inserted using a USB\n",
        "      our_dataframes[1] = pd.read_csv('If using a USB, insert file path here!')\n",
        "      our_dataframes[2] = pd.read_csv('If using a USB, insert file path here!')\n",
        "      our_dataframes[3] = pd.read_csv('If using a USB, insert file path here!')\n",
        "    except:\n",
        "      print(\"There was an error - maybe the file path is incorrect?\")\n",
        "    else:\n",
        "      global Data_Collected\n",
        "      Data_Collected = True\n",
        "\n",
        "for fn in [read_data_fileslocal, read_data_drivelocal, read_data_cernsite, read_data_newsite]:\n",
        "  fn()\n",
        "  if Data_Collected == True:\n",
        "    break\n",
        "  else:\n",
        "    continue\n",
        "\n",
        "DM_300 = our_dataframes[4]\n",
        "Z_jets = our_dataframes[0]\n",
        "WZ = our_dataframes[1]\n",
        "ZZ = our_dataframes[2]\n",
        "NR_ll = our_dataframes[3]"
      ],
      "metadata": {
        "id": "KtQxoJSfwHJ7"
      },
      "execution_count": null,
      "outputs": []
    },
    {
      "cell_type": "markdown",
      "source": [
        "Now that we have our signal and background files in dataframes, let's have a look at them! There are two main ways you can look at a dataframe. Firstly, you can type the name of the dataframe, which will automatically print the first and last few entries:"
      ],
      "metadata": {
        "id": "xxWZ_cNljSOC"
      }
    },
    {
      "cell_type": "code",
      "source": [
        "DM_300 #this is our signal file, containing data on DM_300 collisions, where a z-boson decays into two leptons and a proton collision creates dark matter particles"
      ],
      "metadata": {
        "id": "ttvrgEPnaQ40",
        "colab": {
          "base_uri": "https://localhost:8080/",
          "height": 424
        },
        "outputId": "d3702892-36c7-43c0-8e5b-9892e956520e"
      },
      "execution_count": null,
      "outputs": [
        {
          "output_type": "execute_result",
          "data": {
            "text/plain": [
              "     totalWeight  sum_lep_charge  lead_lep_pt  sublead_lep_pt        mll  \\\n",
              "0       0.041298               0   113.229602       37.342027  91.874195   \n",
              "1       0.042212               0    89.615922       31.122283  87.832052   \n",
              "2       0.061651               0   112.169008       65.336797  87.876299   \n",
              "3       0.067919               0   108.710273       93.620266  89.113704   \n",
              "4       0.085524               0    85.937289       40.265805  88.230021   \n",
              "..           ...             ...          ...             ...        ...   \n",
              "486     0.078610               0    78.753086       29.951379  89.358800   \n",
              "487     0.073187               0    94.828984       45.348254  90.757753   \n",
              "488     0.077624               0   121.088344       37.106082  90.977416   \n",
              "489     0.075400               0   166.182469       79.551945  86.336938   \n",
              "490     0.073081               0    63.209102       50.553152  74.461895   \n",
              "\n",
              "         ETmiss      dRll  dphi_pTll_ETmiss  fractional_pT_difference  \\\n",
              "0    124.311867  1.568130          3.036052                  0.047148   \n",
              "1    105.491891  1.697633          3.083360                  0.032974   \n",
              "2    170.239734  1.030940          3.133160                  0.028335   \n",
              "3    221.266453  0.872517          3.052979                  0.005579   \n",
              "4    132.649672  1.573029          2.554065                  0.040406   \n",
              "..          ...       ...               ...                       ...   \n",
              "486   83.341703  1.647736          3.060483                  0.232954   \n",
              "487  127.364039  1.360179          3.128948                  0.014387   \n",
              "488  162.607063  1.432372          3.068947                  0.195871   \n",
              "489  252.362641  0.740335          3.119813                  0.038813   \n",
              "490   81.179734  1.437425          3.139421                  0.056863   \n",
              "\n",
              "     ETmiss_over_HT  N_bjets  \n",
              "0          0.599380        0  \n",
              "1          0.873724        0  \n",
              "2          0.959066        0  \n",
              "3          0.940918        0  \n",
              "4          0.613755        0  \n",
              "..              ...      ...  \n",
              "486        0.766682        0  \n",
              "487        0.908593        0  \n",
              "488        1.027894        0  \n",
              "489        1.026973        0  \n",
              "490        0.713591        0  \n",
              "\n",
              "[491 rows x 11 columns]"
            ],
            "text/html": [
              "\n",
              "  <div id=\"df-6369a5c1-f49a-423b-a1ee-d867340f32cd\" class=\"colab-df-container\">\n",
              "    <div>\n",
              "<style scoped>\n",
              "    .dataframe tbody tr th:only-of-type {\n",
              "        vertical-align: middle;\n",
              "    }\n",
              "\n",
              "    .dataframe tbody tr th {\n",
              "        vertical-align: top;\n",
              "    }\n",
              "\n",
              "    .dataframe thead th {\n",
              "        text-align: right;\n",
              "    }\n",
              "</style>\n",
              "<table border=\"1\" class=\"dataframe\">\n",
              "  <thead>\n",
              "    <tr style=\"text-align: right;\">\n",
              "      <th></th>\n",
              "      <th>totalWeight</th>\n",
              "      <th>sum_lep_charge</th>\n",
              "      <th>lead_lep_pt</th>\n",
              "      <th>sublead_lep_pt</th>\n",
              "      <th>mll</th>\n",
              "      <th>ETmiss</th>\n",
              "      <th>dRll</th>\n",
              "      <th>dphi_pTll_ETmiss</th>\n",
              "      <th>fractional_pT_difference</th>\n",
              "      <th>ETmiss_over_HT</th>\n",
              "      <th>N_bjets</th>\n",
              "    </tr>\n",
              "  </thead>\n",
              "  <tbody>\n",
              "    <tr>\n",
              "      <th>0</th>\n",
              "      <td>0.041298</td>\n",
              "      <td>0</td>\n",
              "      <td>113.229602</td>\n",
              "      <td>37.342027</td>\n",
              "      <td>91.874195</td>\n",
              "      <td>124.311867</td>\n",
              "      <td>1.568130</td>\n",
              "      <td>3.036052</td>\n",
              "      <td>0.047148</td>\n",
              "      <td>0.599380</td>\n",
              "      <td>0</td>\n",
              "    </tr>\n",
              "    <tr>\n",
              "      <th>1</th>\n",
              "      <td>0.042212</td>\n",
              "      <td>0</td>\n",
              "      <td>89.615922</td>\n",
              "      <td>31.122283</td>\n",
              "      <td>87.832052</td>\n",
              "      <td>105.491891</td>\n",
              "      <td>1.697633</td>\n",
              "      <td>3.083360</td>\n",
              "      <td>0.032974</td>\n",
              "      <td>0.873724</td>\n",
              "      <td>0</td>\n",
              "    </tr>\n",
              "    <tr>\n",
              "      <th>2</th>\n",
              "      <td>0.061651</td>\n",
              "      <td>0</td>\n",
              "      <td>112.169008</td>\n",
              "      <td>65.336797</td>\n",
              "      <td>87.876299</td>\n",
              "      <td>170.239734</td>\n",
              "      <td>1.030940</td>\n",
              "      <td>3.133160</td>\n",
              "      <td>0.028335</td>\n",
              "      <td>0.959066</td>\n",
              "      <td>0</td>\n",
              "    </tr>\n",
              "    <tr>\n",
              "      <th>3</th>\n",
              "      <td>0.067919</td>\n",
              "      <td>0</td>\n",
              "      <td>108.710273</td>\n",
              "      <td>93.620266</td>\n",
              "      <td>89.113704</td>\n",
              "      <td>221.266453</td>\n",
              "      <td>0.872517</td>\n",
              "      <td>3.052979</td>\n",
              "      <td>0.005579</td>\n",
              "      <td>0.940918</td>\n",
              "      <td>0</td>\n",
              "    </tr>\n",
              "    <tr>\n",
              "      <th>4</th>\n",
              "      <td>0.085524</td>\n",
              "      <td>0</td>\n",
              "      <td>85.937289</td>\n",
              "      <td>40.265805</td>\n",
              "      <td>88.230021</td>\n",
              "      <td>132.649672</td>\n",
              "      <td>1.573029</td>\n",
              "      <td>2.554065</td>\n",
              "      <td>0.040406</td>\n",
              "      <td>0.613755</td>\n",
              "      <td>0</td>\n",
              "    </tr>\n",
              "    <tr>\n",
              "      <th>...</th>\n",
              "      <td>...</td>\n",
              "      <td>...</td>\n",
              "      <td>...</td>\n",
              "      <td>...</td>\n",
              "      <td>...</td>\n",
              "      <td>...</td>\n",
              "      <td>...</td>\n",
              "      <td>...</td>\n",
              "      <td>...</td>\n",
              "      <td>...</td>\n",
              "      <td>...</td>\n",
              "    </tr>\n",
              "    <tr>\n",
              "      <th>486</th>\n",
              "      <td>0.078610</td>\n",
              "      <td>0</td>\n",
              "      <td>78.753086</td>\n",
              "      <td>29.951379</td>\n",
              "      <td>89.358800</td>\n",
              "      <td>83.341703</td>\n",
              "      <td>1.647736</td>\n",
              "      <td>3.060483</td>\n",
              "      <td>0.232954</td>\n",
              "      <td>0.766682</td>\n",
              "      <td>0</td>\n",
              "    </tr>\n",
              "    <tr>\n",
              "      <th>487</th>\n",
              "      <td>0.073187</td>\n",
              "      <td>0</td>\n",
              "      <td>94.828984</td>\n",
              "      <td>45.348254</td>\n",
              "      <td>90.757753</td>\n",
              "      <td>127.364039</td>\n",
              "      <td>1.360179</td>\n",
              "      <td>3.128948</td>\n",
              "      <td>0.014387</td>\n",
              "      <td>0.908593</td>\n",
              "      <td>0</td>\n",
              "    </tr>\n",
              "    <tr>\n",
              "      <th>488</th>\n",
              "      <td>0.077624</td>\n",
              "      <td>0</td>\n",
              "      <td>121.088344</td>\n",
              "      <td>37.106082</td>\n",
              "      <td>90.977416</td>\n",
              "      <td>162.607063</td>\n",
              "      <td>1.432372</td>\n",
              "      <td>3.068947</td>\n",
              "      <td>0.195871</td>\n",
              "      <td>1.027894</td>\n",
              "      <td>0</td>\n",
              "    </tr>\n",
              "    <tr>\n",
              "      <th>489</th>\n",
              "      <td>0.075400</td>\n",
              "      <td>0</td>\n",
              "      <td>166.182469</td>\n",
              "      <td>79.551945</td>\n",
              "      <td>86.336938</td>\n",
              "      <td>252.362641</td>\n",
              "      <td>0.740335</td>\n",
              "      <td>3.119813</td>\n",
              "      <td>0.038813</td>\n",
              "      <td>1.026973</td>\n",
              "      <td>0</td>\n",
              "    </tr>\n",
              "    <tr>\n",
              "      <th>490</th>\n",
              "      <td>0.073081</td>\n",
              "      <td>0</td>\n",
              "      <td>63.209102</td>\n",
              "      <td>50.553152</td>\n",
              "      <td>74.461895</td>\n",
              "      <td>81.179734</td>\n",
              "      <td>1.437425</td>\n",
              "      <td>3.139421</td>\n",
              "      <td>0.056863</td>\n",
              "      <td>0.713591</td>\n",
              "      <td>0</td>\n",
              "    </tr>\n",
              "  </tbody>\n",
              "</table>\n",
              "<p>491 rows × 11 columns</p>\n",
              "</div>\n",
              "    <div class=\"colab-df-buttons\">\n",
              "\n",
              "  <div class=\"colab-df-container\">\n",
              "    <button class=\"colab-df-convert\" onclick=\"convertToInteractive('df-6369a5c1-f49a-423b-a1ee-d867340f32cd')\"\n",
              "            title=\"Convert this dataframe to an interactive table.\"\n",
              "            style=\"display:none;\">\n",
              "\n",
              "  <svg xmlns=\"http://www.w3.org/2000/svg\" height=\"24px\" viewBox=\"0 -960 960 960\">\n",
              "    <path d=\"M120-120v-720h720v720H120Zm60-500h600v-160H180v160Zm220 220h160v-160H400v160Zm0 220h160v-160H400v160ZM180-400h160v-160H180v160Zm440 0h160v-160H620v160ZM180-180h160v-160H180v160Zm440 0h160v-160H620v160Z\"/>\n",
              "  </svg>\n",
              "    </button>\n",
              "\n",
              "  <style>\n",
              "    .colab-df-container {\n",
              "      display:flex;\n",
              "      gap: 12px;\n",
              "    }\n",
              "\n",
              "    .colab-df-convert {\n",
              "      background-color: #E8F0FE;\n",
              "      border: none;\n",
              "      border-radius: 50%;\n",
              "      cursor: pointer;\n",
              "      display: none;\n",
              "      fill: #1967D2;\n",
              "      height: 32px;\n",
              "      padding: 0 0 0 0;\n",
              "      width: 32px;\n",
              "    }\n",
              "\n",
              "    .colab-df-convert:hover {\n",
              "      background-color: #E2EBFA;\n",
              "      box-shadow: 0px 1px 2px rgba(60, 64, 67, 0.3), 0px 1px 3px 1px rgba(60, 64, 67, 0.15);\n",
              "      fill: #174EA6;\n",
              "    }\n",
              "\n",
              "    .colab-df-buttons div {\n",
              "      margin-bottom: 4px;\n",
              "    }\n",
              "\n",
              "    [theme=dark] .colab-df-convert {\n",
              "      background-color: #3B4455;\n",
              "      fill: #D2E3FC;\n",
              "    }\n",
              "\n",
              "    [theme=dark] .colab-df-convert:hover {\n",
              "      background-color: #434B5C;\n",
              "      box-shadow: 0px 1px 3px 1px rgba(0, 0, 0, 0.15);\n",
              "      filter: drop-shadow(0px 1px 2px rgba(0, 0, 0, 0.3));\n",
              "      fill: #FFFFFF;\n",
              "    }\n",
              "  </style>\n",
              "\n",
              "    <script>\n",
              "      const buttonEl =\n",
              "        document.querySelector('#df-6369a5c1-f49a-423b-a1ee-d867340f32cd button.colab-df-convert');\n",
              "      buttonEl.style.display =\n",
              "        google.colab.kernel.accessAllowed ? 'block' : 'none';\n",
              "\n",
              "      async function convertToInteractive(key) {\n",
              "        const element = document.querySelector('#df-6369a5c1-f49a-423b-a1ee-d867340f32cd');\n",
              "        const dataTable =\n",
              "          await google.colab.kernel.invokeFunction('convertToInteractive',\n",
              "                                                    [key], {});\n",
              "        if (!dataTable) return;\n",
              "\n",
              "        const docLinkHtml = 'Like what you see? Visit the ' +\n",
              "          '<a target=\"_blank\" href=https://colab.research.google.com/notebooks/data_table.ipynb>data table notebook</a>'\n",
              "          + ' to learn more about interactive tables.';\n",
              "        element.innerHTML = '';\n",
              "        dataTable['output_type'] = 'display_data';\n",
              "        await google.colab.output.renderOutput(dataTable, element);\n",
              "        const docLink = document.createElement('div');\n",
              "        docLink.innerHTML = docLinkHtml;\n",
              "        element.appendChild(docLink);\n",
              "      }\n",
              "    </script>\n",
              "  </div>\n",
              "\n",
              "\n",
              "<div id=\"df-efe01a66-0429-4ea0-a592-40b61a6507df\">\n",
              "  <button class=\"colab-df-quickchart\" onclick=\"quickchart('df-efe01a66-0429-4ea0-a592-40b61a6507df')\"\n",
              "            title=\"Suggest charts\"\n",
              "            style=\"display:none;\">\n",
              "\n",
              "<svg xmlns=\"http://www.w3.org/2000/svg\" height=\"24px\"viewBox=\"0 0 24 24\"\n",
              "     width=\"24px\">\n",
              "    <g>\n",
              "        <path d=\"M19 3H5c-1.1 0-2 .9-2 2v14c0 1.1.9 2 2 2h14c1.1 0 2-.9 2-2V5c0-1.1-.9-2-2-2zM9 17H7v-7h2v7zm4 0h-2V7h2v10zm4 0h-2v-4h2v4z\"/>\n",
              "    </g>\n",
              "</svg>\n",
              "  </button>\n",
              "\n",
              "<style>\n",
              "  .colab-df-quickchart {\n",
              "      --bg-color: #E8F0FE;\n",
              "      --fill-color: #1967D2;\n",
              "      --hover-bg-color: #E2EBFA;\n",
              "      --hover-fill-color: #174EA6;\n",
              "      --disabled-fill-color: #AAA;\n",
              "      --disabled-bg-color: #DDD;\n",
              "  }\n",
              "\n",
              "  [theme=dark] .colab-df-quickchart {\n",
              "      --bg-color: #3B4455;\n",
              "      --fill-color: #D2E3FC;\n",
              "      --hover-bg-color: #434B5C;\n",
              "      --hover-fill-color: #FFFFFF;\n",
              "      --disabled-bg-color: #3B4455;\n",
              "      --disabled-fill-color: #666;\n",
              "  }\n",
              "\n",
              "  .colab-df-quickchart {\n",
              "    background-color: var(--bg-color);\n",
              "    border: none;\n",
              "    border-radius: 50%;\n",
              "    cursor: pointer;\n",
              "    display: none;\n",
              "    fill: var(--fill-color);\n",
              "    height: 32px;\n",
              "    padding: 0;\n",
              "    width: 32px;\n",
              "  }\n",
              "\n",
              "  .colab-df-quickchart:hover {\n",
              "    background-color: var(--hover-bg-color);\n",
              "    box-shadow: 0 1px 2px rgba(60, 64, 67, 0.3), 0 1px 3px 1px rgba(60, 64, 67, 0.15);\n",
              "    fill: var(--button-hover-fill-color);\n",
              "  }\n",
              "\n",
              "  .colab-df-quickchart-complete:disabled,\n",
              "  .colab-df-quickchart-complete:disabled:hover {\n",
              "    background-color: var(--disabled-bg-color);\n",
              "    fill: var(--disabled-fill-color);\n",
              "    box-shadow: none;\n",
              "  }\n",
              "\n",
              "  .colab-df-spinner {\n",
              "    border: 2px solid var(--fill-color);\n",
              "    border-color: transparent;\n",
              "    border-bottom-color: var(--fill-color);\n",
              "    animation:\n",
              "      spin 1s steps(1) infinite;\n",
              "  }\n",
              "\n",
              "  @keyframes spin {\n",
              "    0% {\n",
              "      border-color: transparent;\n",
              "      border-bottom-color: var(--fill-color);\n",
              "      border-left-color: var(--fill-color);\n",
              "    }\n",
              "    20% {\n",
              "      border-color: transparent;\n",
              "      border-left-color: var(--fill-color);\n",
              "      border-top-color: var(--fill-color);\n",
              "    }\n",
              "    30% {\n",
              "      border-color: transparent;\n",
              "      border-left-color: var(--fill-color);\n",
              "      border-top-color: var(--fill-color);\n",
              "      border-right-color: var(--fill-color);\n",
              "    }\n",
              "    40% {\n",
              "      border-color: transparent;\n",
              "      border-right-color: var(--fill-color);\n",
              "      border-top-color: var(--fill-color);\n",
              "    }\n",
              "    60% {\n",
              "      border-color: transparent;\n",
              "      border-right-color: var(--fill-color);\n",
              "    }\n",
              "    80% {\n",
              "      border-color: transparent;\n",
              "      border-right-color: var(--fill-color);\n",
              "      border-bottom-color: var(--fill-color);\n",
              "    }\n",
              "    90% {\n",
              "      border-color: transparent;\n",
              "      border-bottom-color: var(--fill-color);\n",
              "    }\n",
              "  }\n",
              "</style>\n",
              "\n",
              "  <script>\n",
              "    async function quickchart(key) {\n",
              "      const quickchartButtonEl =\n",
              "        document.querySelector('#' + key + ' button');\n",
              "      quickchartButtonEl.disabled = true;  // To prevent multiple clicks.\n",
              "      quickchartButtonEl.classList.add('colab-df-spinner');\n",
              "      try {\n",
              "        const charts = await google.colab.kernel.invokeFunction(\n",
              "            'suggestCharts', [key], {});\n",
              "      } catch (error) {\n",
              "        console.error('Error during call to suggestCharts:', error);\n",
              "      }\n",
              "      quickchartButtonEl.classList.remove('colab-df-spinner');\n",
              "      quickchartButtonEl.classList.add('colab-df-quickchart-complete');\n",
              "    }\n",
              "    (() => {\n",
              "      let quickchartButtonEl =\n",
              "        document.querySelector('#df-efe01a66-0429-4ea0-a592-40b61a6507df button');\n",
              "      quickchartButtonEl.style.display =\n",
              "        google.colab.kernel.accessAllowed ? 'block' : 'none';\n",
              "    })();\n",
              "  </script>\n",
              "</div>\n",
              "    </div>\n",
              "  </div>\n"
            ],
            "application/vnd.google.colaboratory.intrinsic+json": {
              "type": "dataframe",
              "variable_name": "DM_300",
              "summary": "{\n  \"name\": \"DM_300\",\n  \"rows\": 491,\n  \"fields\": [\n    {\n      \"column\": \"totalWeight\",\n      \"properties\": {\n        \"dtype\": \"number\",\n        \"std\": 0.01987972165594343,\n        \"min\": 0.0001688637235506,\n        \"max\": 0.1116376825218555,\n        \"num_unique_values\": 490,\n        \"samples\": [\n          0.0723294609632912,\n          0.0789917830257699,\n          0.0778909702155375\n        ],\n        \"semantic_type\": \"\",\n        \"description\": \"\"\n      }\n    },\n    {\n      \"column\": \"sum_lep_charge\",\n      \"properties\": {\n        \"dtype\": \"number\",\n        \"std\": 0,\n        \"min\": -2,\n        \"max\": 0,\n        \"num_unique_values\": 2,\n        \"samples\": [\n          -2,\n          0\n        ],\n        \"semantic_type\": \"\",\n        \"description\": \"\"\n      }\n    },\n    {\n      \"column\": \"lead_lep_pt\",\n      \"properties\": {\n        \"dtype\": \"number\",\n        \"std\": 72.04212104427455,\n        \"min\": 47.08450390625,\n        \"max\": 579.059625,\n        \"num_unique_values\": 491,\n        \"samples\": [\n          91.2946953125,\n          69.963796875\n        ],\n        \"semantic_type\": \"\",\n        \"description\": \"\"\n      }\n    },\n    {\n      \"column\": \"sublead_lep_pt\",\n      \"properties\": {\n        \"dtype\": \"number\",\n        \"std\": 31.929049604480007,\n        \"min\": 23.83012890625,\n        \"max\": 234.1546875,\n        \"num_unique_values\": 491,\n        \"samples\": [\n          50.64723828125,\n          61.1301328125\n        ],\n        \"semantic_type\": \"\",\n        \"description\": \"\"\n      }\n    },\n    {\n      \"column\": \"mll\",\n      \"properties\": {\n        \"dtype\": \"number\",\n        \"std\": 5.878586452870651,\n        \"min\": 65.6813630707954,\n        \"max\": 115.80716114604508,\n        \"num_unique_values\": 491,\n        \"samples\": [\n          86.69385038944324,\n          88.8630320470754\n        ],\n        \"semantic_type\": \"\",\n        \"description\": \"\"\n      }\n    },\n    {\n      \"column\": \"ETmiss\",\n      \"properties\": {\n        \"dtype\": \"number\",\n        \"std\": 100.83214382451229,\n        \"min\": 80.3195,\n        \"max\": 740.5628125,\n        \"num_unique_values\": 491,\n        \"samples\": [\n          107.091734375,\n          102.2950546875\n        ],\n        \"semantic_type\": \"\",\n        \"description\": \"\"\n      }\n    },\n    {\n      \"column\": \"dRll\",\n      \"properties\": {\n        \"dtype\": \"number\",\n        \"std\": 0.39955753783225917,\n        \"min\": 0.3181450220254964,\n        \"max\": 1.999669367482214,\n        \"num_unique_values\": 491,\n        \"samples\": [\n          1.334038252448438,\n          1.4920073819292257\n        ],\n        \"semantic_type\": \"\",\n        \"description\": \"\"\n      }\n    },\n    {\n      \"column\": \"dphi_pTll_ETmiss\",\n      \"properties\": {\n        \"dtype\": \"number\",\n        \"std\": 0.18986775939437545,\n        \"min\": 2.022000551223755,\n        \"max\": 3.141592566167013,\n        \"num_unique_values\": 491,\n        \"samples\": [\n          3.0983309189425867,\n          2.723646879196167\n        ],\n        \"semantic_type\": \"\",\n        \"description\": \"\"\n      }\n    },\n    {\n      \"column\": \"fractional_pT_difference\",\n      \"properties\": {\n        \"dtype\": \"number\",\n        \"std\": 0.06196794960940915,\n        \"min\": 1.891846755016424e-08,\n        \"max\": 0.2832734424926367,\n        \"num_unique_values\": 491,\n        \"samples\": [\n          0.103223628439993,\n          0.0586187540595262\n        ],\n        \"semantic_type\": \"\",\n        \"description\": \"\"\n      }\n    },\n    {\n      \"column\": \"ETmiss_over_HT\",\n      \"properties\": {\n        \"dtype\": \"number\",\n        \"std\": 0.14092847675177178,\n        \"min\": 0.500067,\n        \"max\": 1.1800617,\n        \"num_unique_values\": 491,\n        \"samples\": [\n          0.75447565,\n          0.78031874\n        ],\n        \"semantic_type\": \"\",\n        \"description\": \"\"\n      }\n    },\n    {\n      \"column\": \"N_bjets\",\n      \"properties\": {\n        \"dtype\": \"number\",\n        \"std\": 0,\n        \"min\": 0,\n        \"max\": 1,\n        \"num_unique_values\": 2,\n        \"samples\": [\n          1,\n          0\n        ],\n        \"semantic_type\": \"\",\n        \"description\": \"\"\n      }\n    }\n  ]\n}"
            }
          },
          "metadata": {},
          "execution_count": 7
        }
      ]
    },
    {
      "cell_type": "markdown",
      "source": [
        "### 2.4 - Explaining our data\n",
        "\n",
        "There's a lot of data above, but so far it hasn't been explained. You don't technically need to understand it fully to complete the notebook, but it will help - and more knowledge is always a good thing.\n",
        "\n",
        "Above, the data that you see will depend on which file you've loaded - either DM_300 (our signal file), or a background file: NR_ll, Z_jets, WZ or ZZ. These represent the data that we expect ATLAS to collect on the different types of process.\n",
        "\n",
        "Each <b>row</b> represents a <b>single event</b>, or proton-proton collision, inside ATLAS.\n",
        "\n",
        "Each <b>column</b> represents a different type of <b> measurement </b> that we can make of the proton-proton collisions.\n",
        "\n",
        "\n",
        "\n",
        "1.   sum_lep_charge represents the total charge for the leptons that ATLAS detects after the collision. Generally, these will have opposite charge, and so they add to zero.\n",
        "2. lead_lep_pt represents the transverse momentum of the fastest lepton that ATLAS detects after the collision.\n",
        "3. sublead_lep_pt represents the transverse momentum of the second-fastest lepton that ATLAS detects after the collision.\n",
        "4. mll represents the \"dilepton invariant mass\": the total mass of the two leptons that are our signature.  \n",
        "5. ETmiss represents the missing transverse momentum - the missing momentum that indicates we may have found dark matter.  \n",
        "6. HT is the scalar sum of all the momentum after the collision; so ETmiss_over_HT is a measurement of how much of the momentum in a collision is missing.\n",
        "\n"
      ],
      "metadata": {
        "id": "NwER_8jOd36x"
      }
    },
    {
      "cell_type": "code",
      "source": [
        "DM_300.head()"
      ],
      "metadata": {
        "id": "X_wWc3c5d8QW",
        "colab": {
          "base_uri": "https://localhost:8080/",
          "height": 226
        },
        "outputId": "927db1f3-9e80-4570-c98e-d326aac87e71"
      },
      "execution_count": null,
      "outputs": [
        {
          "output_type": "execute_result",
          "data": {
            "text/plain": [
              "   totalWeight  sum_lep_charge  lead_lep_pt  sublead_lep_pt        mll  \\\n",
              "0     0.041298               0   113.229602       37.342027  91.874195   \n",
              "1     0.042212               0    89.615922       31.122283  87.832052   \n",
              "2     0.061651               0   112.169008       65.336797  87.876299   \n",
              "3     0.067919               0   108.710273       93.620266  89.113704   \n",
              "4     0.085524               0    85.937289       40.265805  88.230021   \n",
              "\n",
              "       ETmiss      dRll  dphi_pTll_ETmiss  fractional_pT_difference  \\\n",
              "0  124.311867  1.568130          3.036052                  0.047148   \n",
              "1  105.491891  1.697633          3.083360                  0.032974   \n",
              "2  170.239734  1.030940          3.133160                  0.028335   \n",
              "3  221.266453  0.872517          3.052979                  0.005579   \n",
              "4  132.649672  1.573029          2.554065                  0.040406   \n",
              "\n",
              "   ETmiss_over_HT  N_bjets  \n",
              "0        0.599380        0  \n",
              "1        0.873724        0  \n",
              "2        0.959066        0  \n",
              "3        0.940918        0  \n",
              "4        0.613755        0  "
            ],
            "text/html": [
              "\n",
              "  <div id=\"df-75f4c3c4-f2a5-4672-b824-1f0bc7964457\" class=\"colab-df-container\">\n",
              "    <div>\n",
              "<style scoped>\n",
              "    .dataframe tbody tr th:only-of-type {\n",
              "        vertical-align: middle;\n",
              "    }\n",
              "\n",
              "    .dataframe tbody tr th {\n",
              "        vertical-align: top;\n",
              "    }\n",
              "\n",
              "    .dataframe thead th {\n",
              "        text-align: right;\n",
              "    }\n",
              "</style>\n",
              "<table border=\"1\" class=\"dataframe\">\n",
              "  <thead>\n",
              "    <tr style=\"text-align: right;\">\n",
              "      <th></th>\n",
              "      <th>totalWeight</th>\n",
              "      <th>sum_lep_charge</th>\n",
              "      <th>lead_lep_pt</th>\n",
              "      <th>sublead_lep_pt</th>\n",
              "      <th>mll</th>\n",
              "      <th>ETmiss</th>\n",
              "      <th>dRll</th>\n",
              "      <th>dphi_pTll_ETmiss</th>\n",
              "      <th>fractional_pT_difference</th>\n",
              "      <th>ETmiss_over_HT</th>\n",
              "      <th>N_bjets</th>\n",
              "    </tr>\n",
              "  </thead>\n",
              "  <tbody>\n",
              "    <tr>\n",
              "      <th>0</th>\n",
              "      <td>0.041298</td>\n",
              "      <td>0</td>\n",
              "      <td>113.229602</td>\n",
              "      <td>37.342027</td>\n",
              "      <td>91.874195</td>\n",
              "      <td>124.311867</td>\n",
              "      <td>1.568130</td>\n",
              "      <td>3.036052</td>\n",
              "      <td>0.047148</td>\n",
              "      <td>0.599380</td>\n",
              "      <td>0</td>\n",
              "    </tr>\n",
              "    <tr>\n",
              "      <th>1</th>\n",
              "      <td>0.042212</td>\n",
              "      <td>0</td>\n",
              "      <td>89.615922</td>\n",
              "      <td>31.122283</td>\n",
              "      <td>87.832052</td>\n",
              "      <td>105.491891</td>\n",
              "      <td>1.697633</td>\n",
              "      <td>3.083360</td>\n",
              "      <td>0.032974</td>\n",
              "      <td>0.873724</td>\n",
              "      <td>0</td>\n",
              "    </tr>\n",
              "    <tr>\n",
              "      <th>2</th>\n",
              "      <td>0.061651</td>\n",
              "      <td>0</td>\n",
              "      <td>112.169008</td>\n",
              "      <td>65.336797</td>\n",
              "      <td>87.876299</td>\n",
              "      <td>170.239734</td>\n",
              "      <td>1.030940</td>\n",
              "      <td>3.133160</td>\n",
              "      <td>0.028335</td>\n",
              "      <td>0.959066</td>\n",
              "      <td>0</td>\n",
              "    </tr>\n",
              "    <tr>\n",
              "      <th>3</th>\n",
              "      <td>0.067919</td>\n",
              "      <td>0</td>\n",
              "      <td>108.710273</td>\n",
              "      <td>93.620266</td>\n",
              "      <td>89.113704</td>\n",
              "      <td>221.266453</td>\n",
              "      <td>0.872517</td>\n",
              "      <td>3.052979</td>\n",
              "      <td>0.005579</td>\n",
              "      <td>0.940918</td>\n",
              "      <td>0</td>\n",
              "    </tr>\n",
              "    <tr>\n",
              "      <th>4</th>\n",
              "      <td>0.085524</td>\n",
              "      <td>0</td>\n",
              "      <td>85.937289</td>\n",
              "      <td>40.265805</td>\n",
              "      <td>88.230021</td>\n",
              "      <td>132.649672</td>\n",
              "      <td>1.573029</td>\n",
              "      <td>2.554065</td>\n",
              "      <td>0.040406</td>\n",
              "      <td>0.613755</td>\n",
              "      <td>0</td>\n",
              "    </tr>\n",
              "  </tbody>\n",
              "</table>\n",
              "</div>\n",
              "    <div class=\"colab-df-buttons\">\n",
              "\n",
              "  <div class=\"colab-df-container\">\n",
              "    <button class=\"colab-df-convert\" onclick=\"convertToInteractive('df-75f4c3c4-f2a5-4672-b824-1f0bc7964457')\"\n",
              "            title=\"Convert this dataframe to an interactive table.\"\n",
              "            style=\"display:none;\">\n",
              "\n",
              "  <svg xmlns=\"http://www.w3.org/2000/svg\" height=\"24px\" viewBox=\"0 -960 960 960\">\n",
              "    <path d=\"M120-120v-720h720v720H120Zm60-500h600v-160H180v160Zm220 220h160v-160H400v160Zm0 220h160v-160H400v160ZM180-400h160v-160H180v160Zm440 0h160v-160H620v160ZM180-180h160v-160H180v160Zm440 0h160v-160H620v160Z\"/>\n",
              "  </svg>\n",
              "    </button>\n",
              "\n",
              "  <style>\n",
              "    .colab-df-container {\n",
              "      display:flex;\n",
              "      gap: 12px;\n",
              "    }\n",
              "\n",
              "    .colab-df-convert {\n",
              "      background-color: #E8F0FE;\n",
              "      border: none;\n",
              "      border-radius: 50%;\n",
              "      cursor: pointer;\n",
              "      display: none;\n",
              "      fill: #1967D2;\n",
              "      height: 32px;\n",
              "      padding: 0 0 0 0;\n",
              "      width: 32px;\n",
              "    }\n",
              "\n",
              "    .colab-df-convert:hover {\n",
              "      background-color: #E2EBFA;\n",
              "      box-shadow: 0px 1px 2px rgba(60, 64, 67, 0.3), 0px 1px 3px 1px rgba(60, 64, 67, 0.15);\n",
              "      fill: #174EA6;\n",
              "    }\n",
              "\n",
              "    .colab-df-buttons div {\n",
              "      margin-bottom: 4px;\n",
              "    }\n",
              "\n",
              "    [theme=dark] .colab-df-convert {\n",
              "      background-color: #3B4455;\n",
              "      fill: #D2E3FC;\n",
              "    }\n",
              "\n",
              "    [theme=dark] .colab-df-convert:hover {\n",
              "      background-color: #434B5C;\n",
              "      box-shadow: 0px 1px 3px 1px rgba(0, 0, 0, 0.15);\n",
              "      filter: drop-shadow(0px 1px 2px rgba(0, 0, 0, 0.3));\n",
              "      fill: #FFFFFF;\n",
              "    }\n",
              "  </style>\n",
              "\n",
              "    <script>\n",
              "      const buttonEl =\n",
              "        document.querySelector('#df-75f4c3c4-f2a5-4672-b824-1f0bc7964457 button.colab-df-convert');\n",
              "      buttonEl.style.display =\n",
              "        google.colab.kernel.accessAllowed ? 'block' : 'none';\n",
              "\n",
              "      async function convertToInteractive(key) {\n",
              "        const element = document.querySelector('#df-75f4c3c4-f2a5-4672-b824-1f0bc7964457');\n",
              "        const dataTable =\n",
              "          await google.colab.kernel.invokeFunction('convertToInteractive',\n",
              "                                                    [key], {});\n",
              "        if (!dataTable) return;\n",
              "\n",
              "        const docLinkHtml = 'Like what you see? Visit the ' +\n",
              "          '<a target=\"_blank\" href=https://colab.research.google.com/notebooks/data_table.ipynb>data table notebook</a>'\n",
              "          + ' to learn more about interactive tables.';\n",
              "        element.innerHTML = '';\n",
              "        dataTable['output_type'] = 'display_data';\n",
              "        await google.colab.output.renderOutput(dataTable, element);\n",
              "        const docLink = document.createElement('div');\n",
              "        docLink.innerHTML = docLinkHtml;\n",
              "        element.appendChild(docLink);\n",
              "      }\n",
              "    </script>\n",
              "  </div>\n",
              "\n",
              "\n",
              "<div id=\"df-5cf08247-39e2-497d-a32a-1945b5c1a8aa\">\n",
              "  <button class=\"colab-df-quickchart\" onclick=\"quickchart('df-5cf08247-39e2-497d-a32a-1945b5c1a8aa')\"\n",
              "            title=\"Suggest charts\"\n",
              "            style=\"display:none;\">\n",
              "\n",
              "<svg xmlns=\"http://www.w3.org/2000/svg\" height=\"24px\"viewBox=\"0 0 24 24\"\n",
              "     width=\"24px\">\n",
              "    <g>\n",
              "        <path d=\"M19 3H5c-1.1 0-2 .9-2 2v14c0 1.1.9 2 2 2h14c1.1 0 2-.9 2-2V5c0-1.1-.9-2-2-2zM9 17H7v-7h2v7zm4 0h-2V7h2v10zm4 0h-2v-4h2v4z\"/>\n",
              "    </g>\n",
              "</svg>\n",
              "  </button>\n",
              "\n",
              "<style>\n",
              "  .colab-df-quickchart {\n",
              "      --bg-color: #E8F0FE;\n",
              "      --fill-color: #1967D2;\n",
              "      --hover-bg-color: #E2EBFA;\n",
              "      --hover-fill-color: #174EA6;\n",
              "      --disabled-fill-color: #AAA;\n",
              "      --disabled-bg-color: #DDD;\n",
              "  }\n",
              "\n",
              "  [theme=dark] .colab-df-quickchart {\n",
              "      --bg-color: #3B4455;\n",
              "      --fill-color: #D2E3FC;\n",
              "      --hover-bg-color: #434B5C;\n",
              "      --hover-fill-color: #FFFFFF;\n",
              "      --disabled-bg-color: #3B4455;\n",
              "      --disabled-fill-color: #666;\n",
              "  }\n",
              "\n",
              "  .colab-df-quickchart {\n",
              "    background-color: var(--bg-color);\n",
              "    border: none;\n",
              "    border-radius: 50%;\n",
              "    cursor: pointer;\n",
              "    display: none;\n",
              "    fill: var(--fill-color);\n",
              "    height: 32px;\n",
              "    padding: 0;\n",
              "    width: 32px;\n",
              "  }\n",
              "\n",
              "  .colab-df-quickchart:hover {\n",
              "    background-color: var(--hover-bg-color);\n",
              "    box-shadow: 0 1px 2px rgba(60, 64, 67, 0.3), 0 1px 3px 1px rgba(60, 64, 67, 0.15);\n",
              "    fill: var(--button-hover-fill-color);\n",
              "  }\n",
              "\n",
              "  .colab-df-quickchart-complete:disabled,\n",
              "  .colab-df-quickchart-complete:disabled:hover {\n",
              "    background-color: var(--disabled-bg-color);\n",
              "    fill: var(--disabled-fill-color);\n",
              "    box-shadow: none;\n",
              "  }\n",
              "\n",
              "  .colab-df-spinner {\n",
              "    border: 2px solid var(--fill-color);\n",
              "    border-color: transparent;\n",
              "    border-bottom-color: var(--fill-color);\n",
              "    animation:\n",
              "      spin 1s steps(1) infinite;\n",
              "  }\n",
              "\n",
              "  @keyframes spin {\n",
              "    0% {\n",
              "      border-color: transparent;\n",
              "      border-bottom-color: var(--fill-color);\n",
              "      border-left-color: var(--fill-color);\n",
              "    }\n",
              "    20% {\n",
              "      border-color: transparent;\n",
              "      border-left-color: var(--fill-color);\n",
              "      border-top-color: var(--fill-color);\n",
              "    }\n",
              "    30% {\n",
              "      border-color: transparent;\n",
              "      border-left-color: var(--fill-color);\n",
              "      border-top-color: var(--fill-color);\n",
              "      border-right-color: var(--fill-color);\n",
              "    }\n",
              "    40% {\n",
              "      border-color: transparent;\n",
              "      border-right-color: var(--fill-color);\n",
              "      border-top-color: var(--fill-color);\n",
              "    }\n",
              "    60% {\n",
              "      border-color: transparent;\n",
              "      border-right-color: var(--fill-color);\n",
              "    }\n",
              "    80% {\n",
              "      border-color: transparent;\n",
              "      border-right-color: var(--fill-color);\n",
              "      border-bottom-color: var(--fill-color);\n",
              "    }\n",
              "    90% {\n",
              "      border-color: transparent;\n",
              "      border-bottom-color: var(--fill-color);\n",
              "    }\n",
              "  }\n",
              "</style>\n",
              "\n",
              "  <script>\n",
              "    async function quickchart(key) {\n",
              "      const quickchartButtonEl =\n",
              "        document.querySelector('#' + key + ' button');\n",
              "      quickchartButtonEl.disabled = true;  // To prevent multiple clicks.\n",
              "      quickchartButtonEl.classList.add('colab-df-spinner');\n",
              "      try {\n",
              "        const charts = await google.colab.kernel.invokeFunction(\n",
              "            'suggestCharts', [key], {});\n",
              "      } catch (error) {\n",
              "        console.error('Error during call to suggestCharts:', error);\n",
              "      }\n",
              "      quickchartButtonEl.classList.remove('colab-df-spinner');\n",
              "      quickchartButtonEl.classList.add('colab-df-quickchart-complete');\n",
              "    }\n",
              "    (() => {\n",
              "      let quickchartButtonEl =\n",
              "        document.querySelector('#df-5cf08247-39e2-497d-a32a-1945b5c1a8aa button');\n",
              "      quickchartButtonEl.style.display =\n",
              "        google.colab.kernel.accessAllowed ? 'block' : 'none';\n",
              "    })();\n",
              "  </script>\n",
              "</div>\n",
              "    </div>\n",
              "  </div>\n"
            ],
            "application/vnd.google.colaboratory.intrinsic+json": {
              "type": "dataframe",
              "variable_name": "DM_300",
              "summary": "{\n  \"name\": \"DM_300\",\n  \"rows\": 491,\n  \"fields\": [\n    {\n      \"column\": \"totalWeight\",\n      \"properties\": {\n        \"dtype\": \"number\",\n        \"std\": 0.01987972165594343,\n        \"min\": 0.0001688637235506,\n        \"max\": 0.1116376825218555,\n        \"num_unique_values\": 490,\n        \"samples\": [\n          0.0723294609632912,\n          0.0789917830257699,\n          0.0778909702155375\n        ],\n        \"semantic_type\": \"\",\n        \"description\": \"\"\n      }\n    },\n    {\n      \"column\": \"sum_lep_charge\",\n      \"properties\": {\n        \"dtype\": \"number\",\n        \"std\": 0,\n        \"min\": -2,\n        \"max\": 0,\n        \"num_unique_values\": 2,\n        \"samples\": [\n          -2,\n          0\n        ],\n        \"semantic_type\": \"\",\n        \"description\": \"\"\n      }\n    },\n    {\n      \"column\": \"lead_lep_pt\",\n      \"properties\": {\n        \"dtype\": \"number\",\n        \"std\": 72.04212104427455,\n        \"min\": 47.08450390625,\n        \"max\": 579.059625,\n        \"num_unique_values\": 491,\n        \"samples\": [\n          91.2946953125,\n          69.963796875\n        ],\n        \"semantic_type\": \"\",\n        \"description\": \"\"\n      }\n    },\n    {\n      \"column\": \"sublead_lep_pt\",\n      \"properties\": {\n        \"dtype\": \"number\",\n        \"std\": 31.929049604480007,\n        \"min\": 23.83012890625,\n        \"max\": 234.1546875,\n        \"num_unique_values\": 491,\n        \"samples\": [\n          50.64723828125,\n          61.1301328125\n        ],\n        \"semantic_type\": \"\",\n        \"description\": \"\"\n      }\n    },\n    {\n      \"column\": \"mll\",\n      \"properties\": {\n        \"dtype\": \"number\",\n        \"std\": 5.878586452870651,\n        \"min\": 65.6813630707954,\n        \"max\": 115.80716114604508,\n        \"num_unique_values\": 491,\n        \"samples\": [\n          86.69385038944324,\n          88.8630320470754\n        ],\n        \"semantic_type\": \"\",\n        \"description\": \"\"\n      }\n    },\n    {\n      \"column\": \"ETmiss\",\n      \"properties\": {\n        \"dtype\": \"number\",\n        \"std\": 100.83214382451229,\n        \"min\": 80.3195,\n        \"max\": 740.5628125,\n        \"num_unique_values\": 491,\n        \"samples\": [\n          107.091734375,\n          102.2950546875\n        ],\n        \"semantic_type\": \"\",\n        \"description\": \"\"\n      }\n    },\n    {\n      \"column\": \"dRll\",\n      \"properties\": {\n        \"dtype\": \"number\",\n        \"std\": 0.39955753783225917,\n        \"min\": 0.3181450220254964,\n        \"max\": 1.999669367482214,\n        \"num_unique_values\": 491,\n        \"samples\": [\n          1.334038252448438,\n          1.4920073819292257\n        ],\n        \"semantic_type\": \"\",\n        \"description\": \"\"\n      }\n    },\n    {\n      \"column\": \"dphi_pTll_ETmiss\",\n      \"properties\": {\n        \"dtype\": \"number\",\n        \"std\": 0.18986775939437545,\n        \"min\": 2.022000551223755,\n        \"max\": 3.141592566167013,\n        \"num_unique_values\": 491,\n        \"samples\": [\n          3.0983309189425867,\n          2.723646879196167\n        ],\n        \"semantic_type\": \"\",\n        \"description\": \"\"\n      }\n    },\n    {\n      \"column\": \"fractional_pT_difference\",\n      \"properties\": {\n        \"dtype\": \"number\",\n        \"std\": 0.06196794960940915,\n        \"min\": 1.891846755016424e-08,\n        \"max\": 0.2832734424926367,\n        \"num_unique_values\": 491,\n        \"samples\": [\n          0.103223628439993,\n          0.0586187540595262\n        ],\n        \"semantic_type\": \"\",\n        \"description\": \"\"\n      }\n    },\n    {\n      \"column\": \"ETmiss_over_HT\",\n      \"properties\": {\n        \"dtype\": \"number\",\n        \"std\": 0.14092847675177178,\n        \"min\": 0.500067,\n        \"max\": 1.1800617,\n        \"num_unique_values\": 491,\n        \"samples\": [\n          0.75447565,\n          0.78031874\n        ],\n        \"semantic_type\": \"\",\n        \"description\": \"\"\n      }\n    },\n    {\n      \"column\": \"N_bjets\",\n      \"properties\": {\n        \"dtype\": \"number\",\n        \"std\": 0,\n        \"min\": 0,\n        \"max\": 1,\n        \"num_unique_values\": 2,\n        \"samples\": [\n          1,\n          0\n        ],\n        \"semantic_type\": \"\",\n        \"description\": \"\"\n      }\n    }\n  ]\n}"
            }
          },
          "metadata": {},
          "execution_count": 19
        }
      ]
    },
    {
      "cell_type": "markdown",
      "source": [
        "<font color=\"red\">TASK:</font> Let's also look at the dataframe for the WZ process - where a W boson decays into quark jets, and a Z boson decays into two leptons. Try looking at the other dataframes by changing 'WZ' for one of the background names (like ZZ). What differences do you notice? Are there any similarities?"
      ],
      "metadata": {
        "id": "6aWYayygL7UC"
      }
    },
    {
      "cell_type": "code",
      "source": [
        "WZ.head()"
      ],
      "metadata": {
        "id": "7tOmapChMVzg",
        "colab": {
          "base_uri": "https://localhost:8080/",
          "height": 226
        },
        "outputId": "d5fee63a-c76d-44ed-e3c3-7ca363145473"
      },
      "execution_count": null,
      "outputs": [
        {
          "output_type": "execute_result",
          "data": {
            "text/plain": [
              "   totalWeight  sum_lep_charge  lead_lep_pt  sublead_lep_pt         mll  \\\n",
              "0    -0.005618               0   120.092289       32.598385   91.323522   \n",
              "1     0.012215               0    83.036422       46.110559  119.507216   \n",
              "2     0.004976               0    79.327570       50.505535   93.198164   \n",
              "3     0.004881               0    88.992898       37.777434   98.078726   \n",
              "4     0.000984               0   137.498797       35.633254   90.521116   \n",
              "\n",
              "       ETmiss      dRll  dphi_pTll_ETmiss  fractional_pT_difference  \\\n",
              "0  123.409516  1.457642          2.839548                  0.011781   \n",
              "1  130.435344  1.752708          3.114501                  0.053578   \n",
              "2  139.187078  1.366676          2.612179                  0.085608   \n",
              "3  110.936937  1.693950          2.777511                  0.167089   \n",
              "4  163.892562  1.388625          2.948226                  0.041063   \n",
              "\n",
              "   ETmiss_over_HT  N_bjets  \n",
              "0        0.610265        0  \n",
              "1        1.009976        0  \n",
              "2        0.916567        0  \n",
              "3        0.725565        0  \n",
              "4        0.522579        0  "
            ],
            "text/html": [
              "\n",
              "  <div id=\"df-ff98ae0c-f6e0-4033-a655-c657a531b65b\" class=\"colab-df-container\">\n",
              "    <div>\n",
              "<style scoped>\n",
              "    .dataframe tbody tr th:only-of-type {\n",
              "        vertical-align: middle;\n",
              "    }\n",
              "\n",
              "    .dataframe tbody tr th {\n",
              "        vertical-align: top;\n",
              "    }\n",
              "\n",
              "    .dataframe thead th {\n",
              "        text-align: right;\n",
              "    }\n",
              "</style>\n",
              "<table border=\"1\" class=\"dataframe\">\n",
              "  <thead>\n",
              "    <tr style=\"text-align: right;\">\n",
              "      <th></th>\n",
              "      <th>totalWeight</th>\n",
              "      <th>sum_lep_charge</th>\n",
              "      <th>lead_lep_pt</th>\n",
              "      <th>sublead_lep_pt</th>\n",
              "      <th>mll</th>\n",
              "      <th>ETmiss</th>\n",
              "      <th>dRll</th>\n",
              "      <th>dphi_pTll_ETmiss</th>\n",
              "      <th>fractional_pT_difference</th>\n",
              "      <th>ETmiss_over_HT</th>\n",
              "      <th>N_bjets</th>\n",
              "    </tr>\n",
              "  </thead>\n",
              "  <tbody>\n",
              "    <tr>\n",
              "      <th>0</th>\n",
              "      <td>-0.005618</td>\n",
              "      <td>0</td>\n",
              "      <td>120.092289</td>\n",
              "      <td>32.598385</td>\n",
              "      <td>91.323522</td>\n",
              "      <td>123.409516</td>\n",
              "      <td>1.457642</td>\n",
              "      <td>2.839548</td>\n",
              "      <td>0.011781</td>\n",
              "      <td>0.610265</td>\n",
              "      <td>0</td>\n",
              "    </tr>\n",
              "    <tr>\n",
              "      <th>1</th>\n",
              "      <td>0.012215</td>\n",
              "      <td>0</td>\n",
              "      <td>83.036422</td>\n",
              "      <td>46.110559</td>\n",
              "      <td>119.507216</td>\n",
              "      <td>130.435344</td>\n",
              "      <td>1.752708</td>\n",
              "      <td>3.114501</td>\n",
              "      <td>0.053578</td>\n",
              "      <td>1.009976</td>\n",
              "      <td>0</td>\n",
              "    </tr>\n",
              "    <tr>\n",
              "      <th>2</th>\n",
              "      <td>0.004976</td>\n",
              "      <td>0</td>\n",
              "      <td>79.327570</td>\n",
              "      <td>50.505535</td>\n",
              "      <td>93.198164</td>\n",
              "      <td>139.187078</td>\n",
              "      <td>1.366676</td>\n",
              "      <td>2.612179</td>\n",
              "      <td>0.085608</td>\n",
              "      <td>0.916567</td>\n",
              "      <td>0</td>\n",
              "    </tr>\n",
              "    <tr>\n",
              "      <th>3</th>\n",
              "      <td>0.004881</td>\n",
              "      <td>0</td>\n",
              "      <td>88.992898</td>\n",
              "      <td>37.777434</td>\n",
              "      <td>98.078726</td>\n",
              "      <td>110.936937</td>\n",
              "      <td>1.693950</td>\n",
              "      <td>2.777511</td>\n",
              "      <td>0.167089</td>\n",
              "      <td>0.725565</td>\n",
              "      <td>0</td>\n",
              "    </tr>\n",
              "    <tr>\n",
              "      <th>4</th>\n",
              "      <td>0.000984</td>\n",
              "      <td>0</td>\n",
              "      <td>137.498797</td>\n",
              "      <td>35.633254</td>\n",
              "      <td>90.521116</td>\n",
              "      <td>163.892562</td>\n",
              "      <td>1.388625</td>\n",
              "      <td>2.948226</td>\n",
              "      <td>0.041063</td>\n",
              "      <td>0.522579</td>\n",
              "      <td>0</td>\n",
              "    </tr>\n",
              "  </tbody>\n",
              "</table>\n",
              "</div>\n",
              "    <div class=\"colab-df-buttons\">\n",
              "\n",
              "  <div class=\"colab-df-container\">\n",
              "    <button class=\"colab-df-convert\" onclick=\"convertToInteractive('df-ff98ae0c-f6e0-4033-a655-c657a531b65b')\"\n",
              "            title=\"Convert this dataframe to an interactive table.\"\n",
              "            style=\"display:none;\">\n",
              "\n",
              "  <svg xmlns=\"http://www.w3.org/2000/svg\" height=\"24px\" viewBox=\"0 -960 960 960\">\n",
              "    <path d=\"M120-120v-720h720v720H120Zm60-500h600v-160H180v160Zm220 220h160v-160H400v160Zm0 220h160v-160H400v160ZM180-400h160v-160H180v160Zm440 0h160v-160H620v160ZM180-180h160v-160H180v160Zm440 0h160v-160H620v160Z\"/>\n",
              "  </svg>\n",
              "    </button>\n",
              "\n",
              "  <style>\n",
              "    .colab-df-container {\n",
              "      display:flex;\n",
              "      gap: 12px;\n",
              "    }\n",
              "\n",
              "    .colab-df-convert {\n",
              "      background-color: #E8F0FE;\n",
              "      border: none;\n",
              "      border-radius: 50%;\n",
              "      cursor: pointer;\n",
              "      display: none;\n",
              "      fill: #1967D2;\n",
              "      height: 32px;\n",
              "      padding: 0 0 0 0;\n",
              "      width: 32px;\n",
              "    }\n",
              "\n",
              "    .colab-df-convert:hover {\n",
              "      background-color: #E2EBFA;\n",
              "      box-shadow: 0px 1px 2px rgba(60, 64, 67, 0.3), 0px 1px 3px 1px rgba(60, 64, 67, 0.15);\n",
              "      fill: #174EA6;\n",
              "    }\n",
              "\n",
              "    .colab-df-buttons div {\n",
              "      margin-bottom: 4px;\n",
              "    }\n",
              "\n",
              "    [theme=dark] .colab-df-convert {\n",
              "      background-color: #3B4455;\n",
              "      fill: #D2E3FC;\n",
              "    }\n",
              "\n",
              "    [theme=dark] .colab-df-convert:hover {\n",
              "      background-color: #434B5C;\n",
              "      box-shadow: 0px 1px 3px 1px rgba(0, 0, 0, 0.15);\n",
              "      filter: drop-shadow(0px 1px 2px rgba(0, 0, 0, 0.3));\n",
              "      fill: #FFFFFF;\n",
              "    }\n",
              "  </style>\n",
              "\n",
              "    <script>\n",
              "      const buttonEl =\n",
              "        document.querySelector('#df-ff98ae0c-f6e0-4033-a655-c657a531b65b button.colab-df-convert');\n",
              "      buttonEl.style.display =\n",
              "        google.colab.kernel.accessAllowed ? 'block' : 'none';\n",
              "\n",
              "      async function convertToInteractive(key) {\n",
              "        const element = document.querySelector('#df-ff98ae0c-f6e0-4033-a655-c657a531b65b');\n",
              "        const dataTable =\n",
              "          await google.colab.kernel.invokeFunction('convertToInteractive',\n",
              "                                                    [key], {});\n",
              "        if (!dataTable) return;\n",
              "\n",
              "        const docLinkHtml = 'Like what you see? Visit the ' +\n",
              "          '<a target=\"_blank\" href=https://colab.research.google.com/notebooks/data_table.ipynb>data table notebook</a>'\n",
              "          + ' to learn more about interactive tables.';\n",
              "        element.innerHTML = '';\n",
              "        dataTable['output_type'] = 'display_data';\n",
              "        await google.colab.output.renderOutput(dataTable, element);\n",
              "        const docLink = document.createElement('div');\n",
              "        docLink.innerHTML = docLinkHtml;\n",
              "        element.appendChild(docLink);\n",
              "      }\n",
              "    </script>\n",
              "  </div>\n",
              "\n",
              "\n",
              "<div id=\"df-6cb296a6-335a-4439-89b2-716b5e6f56ef\">\n",
              "  <button class=\"colab-df-quickchart\" onclick=\"quickchart('df-6cb296a6-335a-4439-89b2-716b5e6f56ef')\"\n",
              "            title=\"Suggest charts\"\n",
              "            style=\"display:none;\">\n",
              "\n",
              "<svg xmlns=\"http://www.w3.org/2000/svg\" height=\"24px\"viewBox=\"0 0 24 24\"\n",
              "     width=\"24px\">\n",
              "    <g>\n",
              "        <path d=\"M19 3H5c-1.1 0-2 .9-2 2v14c0 1.1.9 2 2 2h14c1.1 0 2-.9 2-2V5c0-1.1-.9-2-2-2zM9 17H7v-7h2v7zm4 0h-2V7h2v10zm4 0h-2v-4h2v4z\"/>\n",
              "    </g>\n",
              "</svg>\n",
              "  </button>\n",
              "\n",
              "<style>\n",
              "  .colab-df-quickchart {\n",
              "      --bg-color: #E8F0FE;\n",
              "      --fill-color: #1967D2;\n",
              "      --hover-bg-color: #E2EBFA;\n",
              "      --hover-fill-color: #174EA6;\n",
              "      --disabled-fill-color: #AAA;\n",
              "      --disabled-bg-color: #DDD;\n",
              "  }\n",
              "\n",
              "  [theme=dark] .colab-df-quickchart {\n",
              "      --bg-color: #3B4455;\n",
              "      --fill-color: #D2E3FC;\n",
              "      --hover-bg-color: #434B5C;\n",
              "      --hover-fill-color: #FFFFFF;\n",
              "      --disabled-bg-color: #3B4455;\n",
              "      --disabled-fill-color: #666;\n",
              "  }\n",
              "\n",
              "  .colab-df-quickchart {\n",
              "    background-color: var(--bg-color);\n",
              "    border: none;\n",
              "    border-radius: 50%;\n",
              "    cursor: pointer;\n",
              "    display: none;\n",
              "    fill: var(--fill-color);\n",
              "    height: 32px;\n",
              "    padding: 0;\n",
              "    width: 32px;\n",
              "  }\n",
              "\n",
              "  .colab-df-quickchart:hover {\n",
              "    background-color: var(--hover-bg-color);\n",
              "    box-shadow: 0 1px 2px rgba(60, 64, 67, 0.3), 0 1px 3px 1px rgba(60, 64, 67, 0.15);\n",
              "    fill: var(--button-hover-fill-color);\n",
              "  }\n",
              "\n",
              "  .colab-df-quickchart-complete:disabled,\n",
              "  .colab-df-quickchart-complete:disabled:hover {\n",
              "    background-color: var(--disabled-bg-color);\n",
              "    fill: var(--disabled-fill-color);\n",
              "    box-shadow: none;\n",
              "  }\n",
              "\n",
              "  .colab-df-spinner {\n",
              "    border: 2px solid var(--fill-color);\n",
              "    border-color: transparent;\n",
              "    border-bottom-color: var(--fill-color);\n",
              "    animation:\n",
              "      spin 1s steps(1) infinite;\n",
              "  }\n",
              "\n",
              "  @keyframes spin {\n",
              "    0% {\n",
              "      border-color: transparent;\n",
              "      border-bottom-color: var(--fill-color);\n",
              "      border-left-color: var(--fill-color);\n",
              "    }\n",
              "    20% {\n",
              "      border-color: transparent;\n",
              "      border-left-color: var(--fill-color);\n",
              "      border-top-color: var(--fill-color);\n",
              "    }\n",
              "    30% {\n",
              "      border-color: transparent;\n",
              "      border-left-color: var(--fill-color);\n",
              "      border-top-color: var(--fill-color);\n",
              "      border-right-color: var(--fill-color);\n",
              "    }\n",
              "    40% {\n",
              "      border-color: transparent;\n",
              "      border-right-color: var(--fill-color);\n",
              "      border-top-color: var(--fill-color);\n",
              "    }\n",
              "    60% {\n",
              "      border-color: transparent;\n",
              "      border-right-color: var(--fill-color);\n",
              "    }\n",
              "    80% {\n",
              "      border-color: transparent;\n",
              "      border-right-color: var(--fill-color);\n",
              "      border-bottom-color: var(--fill-color);\n",
              "    }\n",
              "    90% {\n",
              "      border-color: transparent;\n",
              "      border-bottom-color: var(--fill-color);\n",
              "    }\n",
              "  }\n",
              "</style>\n",
              "\n",
              "  <script>\n",
              "    async function quickchart(key) {\n",
              "      const quickchartButtonEl =\n",
              "        document.querySelector('#' + key + ' button');\n",
              "      quickchartButtonEl.disabled = true;  // To prevent multiple clicks.\n",
              "      quickchartButtonEl.classList.add('colab-df-spinner');\n",
              "      try {\n",
              "        const charts = await google.colab.kernel.invokeFunction(\n",
              "            'suggestCharts', [key], {});\n",
              "      } catch (error) {\n",
              "        console.error('Error during call to suggestCharts:', error);\n",
              "      }\n",
              "      quickchartButtonEl.classList.remove('colab-df-spinner');\n",
              "      quickchartButtonEl.classList.add('colab-df-quickchart-complete');\n",
              "    }\n",
              "    (() => {\n",
              "      let quickchartButtonEl =\n",
              "        document.querySelector('#df-6cb296a6-335a-4439-89b2-716b5e6f56ef button');\n",
              "      quickchartButtonEl.style.display =\n",
              "        google.colab.kernel.accessAllowed ? 'block' : 'none';\n",
              "    })();\n",
              "  </script>\n",
              "</div>\n",
              "    </div>\n",
              "  </div>\n"
            ],
            "application/vnd.google.colaboratory.intrinsic+json": {
              "type": "dataframe",
              "variable_name": "WZ",
              "summary": "{\n  \"name\": \"WZ\",\n  \"rows\": 12363,\n  \"fields\": [\n    {\n      \"column\": \"totalWeight\",\n      \"properties\": {\n        \"dtype\": \"number\",\n        \"std\": 0.006151671321316558,\n        \"min\": -0.0940387248563345,\n        \"max\": 0.2074741601375256,\n        \"num_unique_values\": 12241,\n        \"samples\": [\n          0.001374921206544,\n          0.0010206663971527,\n          -0.0103202258048582\n        ],\n        \"semantic_type\": \"\",\n        \"description\": \"\"\n      }\n    },\n    {\n      \"column\": \"sum_lep_charge\",\n      \"properties\": {\n        \"dtype\": \"number\",\n        \"std\": 0,\n        \"min\": -2,\n        \"max\": 2,\n        \"num_unique_values\": 3,\n        \"samples\": [\n          0,\n          2,\n          -2\n        ],\n        \"semantic_type\": \"\",\n        \"description\": \"\"\n      }\n    },\n    {\n      \"column\": \"lead_lep_pt\",\n      \"properties\": {\n        \"dtype\": \"number\",\n        \"std\": 56.82077556689852,\n        \"min\": 30.2487890625,\n        \"max\": 881.758875,\n        \"num_unique_values\": 12357,\n        \"samples\": [\n          60.97516796875,\n          88.594015625,\n          127.8366484375\n        ],\n        \"semantic_type\": \"\",\n        \"description\": \"\"\n      }\n    },\n    {\n      \"column\": \"sublead_lep_pt\",\n      \"properties\": {\n        \"dtype\": \"number\",\n        \"std\": 24.207440184920685,\n        \"min\": 22.68056640625,\n        \"max\": 279.79825,\n        \"num_unique_values\": 12353,\n        \"samples\": [\n          24.454759765625,\n          58.54030078125,\n          35.89288671875\n        ],\n        \"semantic_type\": \"\",\n        \"description\": \"\"\n      }\n    },\n    {\n      \"column\": \"mll\",\n      \"properties\": {\n        \"dtype\": \"number\",\n        \"std\": 6.384043962037862,\n        \"min\": 61.12499846621571,\n        \"max\": 121.09976589782276,\n        \"num_unique_values\": 12363,\n        \"samples\": [\n          90.75332672143507,\n          93.15114685797444,\n          89.52354238631844\n        ],\n        \"semantic_type\": \"\",\n        \"description\": \"\"\n      }\n    },\n    {\n      \"column\": \"ETmiss\",\n      \"properties\": {\n        \"dtype\": \"number\",\n        \"std\": 87.44589530157309,\n        \"min\": 80.012328125,\n        \"max\": 1008.5045625,\n        \"num_unique_values\": 12360,\n        \"samples\": [\n          155.319859375,\n          110.7211640625,\n          387.698625\n        ],\n        \"semantic_type\": \"\",\n        \"description\": \"\"\n      }\n    },\n    {\n      \"column\": \"dRll\",\n      \"properties\": {\n        \"dtype\": \"number\",\n        \"std\": 0.37100549640686564,\n        \"min\": 0.3043715718215971,\n        \"max\": 1.99992805519509,\n        \"num_unique_values\": 12363,\n        \"samples\": [\n          1.4421325449024318,\n          1.709305369375832,\n          1.2851149482881166\n        ],\n        \"semantic_type\": \"\",\n        \"description\": \"\"\n      }\n    },\n    {\n      \"column\": \"dphi_pTll_ETmiss\",\n      \"properties\": {\n        \"dtype\": \"number\",\n        \"std\": 0.25671678585327395,\n        \"min\": 2.0004007816314697,\n        \"max\": 3.141577243804932,\n        \"num_unique_values\": 12334,\n        \"samples\": [\n          2.1691033840179443,\n          3.052294969558716,\n          3.043298482894897\n        ],\n        \"semantic_type\": \"\",\n        \"description\": \"\"\n      }\n    },\n    {\n      \"column\": \"fractional_pT_difference\",\n      \"properties\": {\n        \"dtype\": \"number\",\n        \"std\": 0.07757562123087186,\n        \"min\": 1.988743860728981e-08,\n        \"max\": 0.2997438911545372,\n        \"num_unique_values\": 12363,\n        \"samples\": [\n          0.0545200083174452,\n          0.0433729682504297,\n          0.2783975076689969\n        ],\n        \"semantic_type\": \"\",\n        \"description\": \"\"\n      }\n    },\n    {\n      \"column\": \"ETmiss_over_HT\",\n      \"properties\": {\n        \"dtype\": \"number\",\n        \"std\": 0.14588719535369865,\n        \"min\": 0.500008,\n        \"max\": 1.2859521,\n        \"num_unique_values\": 12355,\n        \"samples\": [\n          0.98503983,\n          0.9861779,\n          0.5857643\n        ],\n        \"semantic_type\": \"\",\n        \"description\": \"\"\n      }\n    },\n    {\n      \"column\": \"N_bjets\",\n      \"properties\": {\n        \"dtype\": \"number\",\n        \"std\": 0,\n        \"min\": 0,\n        \"max\": 1,\n        \"num_unique_values\": 2,\n        \"samples\": [\n          1,\n          0\n        ],\n        \"semantic_type\": \"\",\n        \"description\": \"\"\n      }\n    }\n  ]\n}"
            }
          },
          "metadata": {},
          "execution_count": 20
        }
      ]
    },
    {
      "cell_type": "markdown",
      "source": [
        "Now let's quickly break down what is going on in the dataframe. The number of rows is what we call the number of events in particle physics analysis. These refer to each reading the detector makes (i.e. each time a p-p collision produces particles which are \"seen\" by ATLAS). Each column is called a feature, and these refer to each bit of physical information we know about the events (such as the transverse momentum of the particles).\n",
        "<br>\n",
        "<br>\n",
        "<font color=\"red\">QUIZ:</font> Hit play below to check what you know about our files and processes (check sections 2.3.1. and 2.3.2.)!"
      ],
      "metadata": {
        "id": "VLA7Tsl4l40Y"
      }
    },
    {
      "cell_type": "code",
      "source": [
        "#@title Q1:\n",
        "print(\"           What type of data do our files contain?\")\n",
        "out = widgets.Dropdown(options=[('',9),('Dataframes.',0),('Recorded data from ATLAS.',1),('Simulated data from ATLAS.',2)],description='Answer:',disabled=False)\n",
        "def drop_check(guess):\n",
        "  if guess==9:\n",
        "    print('')\n",
        "  elif guess==0:\n",
        "    print(\"\\033[1;31;47m Incorrect.  \\n\")\n",
        "    print(\"\\033[0;30;107m They don't contain dataframes, but the information is stored as a dataframe. \\n\")\n",
        "  elif guess==2:\n",
        "    print(\"\\033[1;32;47m Correct!  \\n\")\n",
        "  elif guess==1:\n",
        "    print(\"\\033[1;31;47m Incorrect.  \\n\")\n",
        "    print(\"\\033[0;30;107m The data isn't recorded directly from ATLAS, but ATLAS data is used to make sure the simulation is accurate. \\n\")\n",
        "check = widgets.interactive_output(drop_check,{'guess':out})\n",
        "widgets.HBox([out,check])"
      ],
      "metadata": {
        "id": "W4eQTROojyaX",
        "cellView": "form",
        "colab": {
          "base_uri": "https://localhost:8080/",
          "height": 67,
          "referenced_widgets": [
            "b57f42f6bda84087a5db6e281ed193a6",
            "c79992264c164af8a8fa8e68a7ae282a",
            "64322179dd0147d5afa571434b6a8fc3",
            "0289e1188edf4b32a36f5bdcc2e54fc1",
            "1bf0ba8588c04ee1bada1ebf2ab86932",
            "eaa7e041fbfc4ceab36bf7ec35ff01b2",
            "0984f8f78ba04b2a9f70d805f00d9e10"
          ]
        },
        "outputId": "bc14350a-7d2f-4aee-fc3c-6111f32301ba"
      },
      "execution_count": null,
      "outputs": [
        {
          "output_type": "stream",
          "name": "stdout",
          "text": [
            "           What type of data do our files contain?\n"
          ]
        },
        {
          "output_type": "display_data",
          "data": {
            "text/plain": [
              "HBox(children=(Dropdown(description='Answer:', options=(('', 9), ('Dataframes.', 0), ('Recorded data from ATLA…"
            ],
            "application/vnd.jupyter.widget-view+json": {
              "version_major": 2,
              "version_minor": 0,
              "model_id": "b57f42f6bda84087a5db6e281ed193a6"
            }
          },
          "metadata": {}
        }
      ]
    },
    {
      "cell_type": "code",
      "source": [
        "#@title Q2:\n",
        "print(\"Which processes do not have a Z boson as part of their decay process?\")\n",
        "out = widgets.Dropdown(options=[('',9),('DM+Z-->ll',0),('Non-resonant ll',1),('Z+Jets',2)],description='Answer:',disabled=False)\n",
        "def drop_check(guess):\n",
        "  if guess==9:\n",
        "    print('')\n",
        "  elif guess==0:\n",
        "    print(\"\\033[1;31;47m Incorrect.  \\n\")\n",
        "    print(\"\\033[0;30;107m DM+Z-->ll is our signal process which produces dark matter. The process involves a Z-boson decaying into two leptons. \\n\")\n",
        "  elif guess==1:\n",
        "    print(\"\\033[1;32;47m Correct!  \\n\")\n",
        "  elif guess==2:\n",
        "    print(\"\\033[1;31;47m Incorrect.  \\n\")\n",
        "    print(\"\\033[0;30;107m Z+Jets is a background process involving a Z-boson decaying into two leptons, and a jet. \\n\")\n",
        "check = widgets.interactive_output(drop_check,{'guess':out})\n",
        "widgets.HBox([out,check])"
      ],
      "metadata": {
        "id": "9ZgiaO-hgZx5",
        "cellView": "form",
        "colab": {
          "base_uri": "https://localhost:8080/",
          "height": 67,
          "referenced_widgets": [
            "2759fa20b9c6410aa9ecf08e29f647bd",
            "9e523fc844e8414989aa03957901c4b5",
            "1c203858dd9841dba8d5f6f8e3201953",
            "f833951a411e4006bc25e877d67a1884",
            "5b039ca782e9473b8ba15ccafa82a773",
            "a38fe9613a4e4440b0f02b5cd6c628d1",
            "c83ffffda48d44e6a903b9cdccf6bca6"
          ]
        },
        "outputId": "44b4ee5a-64e1-429d-f9df-2d93346f2639"
      },
      "execution_count": null,
      "outputs": [
        {
          "output_type": "stream",
          "name": "stdout",
          "text": [
            "Which processes do not have a Z boson as part of their decay process?\n"
          ]
        },
        {
          "output_type": "display_data",
          "data": {
            "text/plain": [
              "HBox(children=(Dropdown(description='Answer:', options=(('', 9), ('DM+Z-->ll', 0), ('Non-resonant ll', 1), ('Z…"
            ],
            "application/vnd.jupyter.widget-view+json": {
              "version_major": 2,
              "version_minor": 0,
              "model_id": "2759fa20b9c6410aa9ecf08e29f647bd"
            }
          },
          "metadata": {}
        }
      ]
    },
    {
      "cell_type": "markdown",
      "source": [
        "## 3 - Initial analysis\n",
        "Now that we have created our dataframes, let's put them to use!\n"
      ],
      "metadata": {
        "id": "B-LbY9yjeAoM"
      }
    },
    {
      "cell_type": "markdown",
      "source": [
        "### 3.1 - What can we do with our data?\n",
        "\n",
        "Dataframes have an extremely wide array of applications. Two of the primary applications of dataframes is for data visualisation, and for performing calculations/analysis.\n",
        "<br>\n",
        "<br>\n",
        "First we'll perform some data visualisation. Let's start by using the code below to plot a histogram of the missing transverse momentum of our dark matter signal."
      ],
      "metadata": {
        "id": "PTdJtwgrt5QJ"
      }
    },
    {
      "cell_type": "code",
      "source": [
        "#code to plot a histogram of the ETmiss (missing transverse energy) of DM_300 (dark matter signal)\n",
        "plt.hist(DM_300['ETmiss'], weights=DM_300['totalWeight'],bins=60, range = (0,601)) #makes a histogram from the ETmiss up to 600 GeV with 60 bins (bins are just the number of 'bars' in the plot)\n",
        "plt.xlabel('Missing ET [GeV]') #x-axis label (with units)\n",
        "plt.ylabel('Number of Events') #y-axis\n",
        "plt.title('Dark Matter Signal') #plot title\n",
        "plt.savefig('MissingET_DM_300')\n",
        "plt.show() #creates the plot"
      ],
      "metadata": {
        "id": "s4OghTDNZK-p",
        "colab": {
          "base_uri": "https://localhost:8080/",
          "height": 472
        },
        "outputId": "3821cdb6-cb4b-4743-8987-25deb57e39bd"
      },
      "execution_count": null,
      "outputs": [
        {
          "output_type": "display_data",
          "data": {
            "text/plain": [
              "<Figure size 640x480 with 1 Axes>"
            ],
            "image/png": "[encoded data removed]"
          },
          "metadata": {}
        }
      ]
    },
    {
      "cell_type": "markdown",
      "source": [
        "This plot shows how the dark matter signal events are spread out, depending on the missing momentum. Specifically this histogram shows the missing transverse momentum: how much momentum the dark matter particles have when they leave the ATLAS detector.\n",
        "<br>\n",
        "<br>\n",
        "You can see that the events are cut off before 80 GeV. This is because when the files we are using were created, a pre-selection was done. A pre-selection is when events are removed before performing a search - part of the pre-selection done on our files was to remove events with missing $E_T$ below 80 GeV. This is because these events are unlikely to be genuine evidence of dark matter.\n",
        "<br>\n",
        "<br>\n",
        "<font color=\"red\">QUIZ:</font> Hit play below and answer the question to understand why histograms can be helpful!"
      ],
      "metadata": {
        "id": "1SOTB7uZXrVF"
      }
    },
    {
      "cell_type": "code",
      "source": [
        "#@title Q1:\n",
        "print(\"             Why are histograms useful?\")\n",
        "out = widgets.Dropdown(options=[('',9),('They\\'re not, they\\'re boring',0),('They help us visualise our data and see patterns in it',1),('They show us unrecorded data',2),('They show us if our data was recorded correctly',3)],description='Answer:',disabled=False)\n",
        "def drop_check(guess):\n",
        "  if guess==9:\n",
        "    print('Choose your answer')\n",
        "  elif guess==0:\n",
        "    print(\"\\033[1;31;47m Incorrect.  \\n\")\n",
        "    print(\"\\033[0;30;107m Ah come on, you knew this one was wrong \\n\")\n",
        "  elif guess==1:\n",
        "    print(\"\\033[1;32;47m Correct!  \\n\")\n",
        "  elif guess==2:\n",
        "    print(\"\\033[1;31;47m Incorrect.  \\n\")\n",
        "    print(\"\\033[0;30;107m Unfortunately a histogram can only show the data you input into it. \\n\")\n",
        "  elif guess==3:\n",
        "    print(\"\\033[1;31;47m Incorrect.  \\n\")\n",
        "    print(\"\\033[0;30;107m Though this could be true in some rare circumstances, most of the time they won't help you with this. \\n\")\n",
        "check = widgets.interactive_output(drop_check,{'guess':out})\n",
        "widgets.HBox([out,check])"
      ],
      "metadata": {
        "id": "w0lW0DgIXxdY",
        "cellView": "form",
        "colab": {
          "base_uri": "https://localhost:8080/",
          "height": 67,
          "referenced_widgets": [
            "de35b755ace940d5b10c13aa24c27ffe",
            "434f2958926741669fa2d468b656d667",
            "30e3d17bc66148ac8e748fc0d462c280",
            "765ea7623c28451b9eb87db6645de250",
            "775025c3f4ba46ea9921b87fcfae6dcb",
            "b190439b744f46208d97d5e2d42f2a5c",
            "f4c6a98b3dde44d3a5d03989d5d67f92"
          ]
        },
        "outputId": "a3f086ea-ba01-4ef3-aabd-70ecb6020712"
      },
      "execution_count": null,
      "outputs": [
        {
          "output_type": "stream",
          "name": "stdout",
          "text": [
            "             Why are histograms useful?\n"
          ]
        },
        {
          "output_type": "display_data",
          "data": {
            "text/plain": [
              "HBox(children=(Dropdown(description='Answer:', options=(('', 9), (\"They're not, they're boring\", 0), ('They he…"
            ],
            "application/vnd.jupyter.widget-view+json": {
              "version_major": 2,
              "version_minor": 0,
              "model_id": "de35b755ace940d5b10c13aa24c27ffe"
            }
          },
          "metadata": {}
        }
      ]
    },
    {
      "cell_type": "markdown",
      "source": [
        "\n",
        "We will now construct another plot of the missing transverse energy, this time using the data on the ZZ process rather than the DM_300 process.\n",
        "<br>\n",
        "<br>\n",
        "<font color = \"red\">TASK:</font> Fill out the gaps in the below code to create the ZZ plot:"
      ],
      "metadata": {
        "id": "0rcYoEkDZaGI"
      }
    },
    {
      "cell_type": "code",
      "source": [
        "#replace the \"...\" with what is appropriate to complete the code and fix the error\n",
        "plt.hist(ZZ['ETmiss'], weights=ZZ['totalWeight'],bins=60, range = (0,601)) #makes a histogram from the ETmiss up to 600 GeV with 60 bins (bins are just the number of 'bars' in the plot)\n",
        "plt.xlabel('Missing ET [GeV]') #x-axis label (with units)\n",
        "plt.ylabel('Number of Events') #y-axis\n",
        "plt.title('ZZ Background') #plot title\n",
        "plt.savefig('MissingET_ZZ')\n",
        "plt.show() #creates the plot"
      ],
      "metadata": {
        "id": "dk7gVQtNaUtm",
        "colab": {
          "base_uri": "https://localhost:8080/",
          "height": 472
        },
        "outputId": "f0ef9acd-a061-4d88-f86a-fdb46d2ed9ee"
      },
      "execution_count": null,
      "outputs": [
        {
          "output_type": "display_data",
          "data": {
            "text/plain": [
              "<Figure size 640x480 with 1 Axes>"
            ],
            "image/png": "[encoded data removed]"
          },
          "metadata": {}
        }
      ]
    },
    {
      "cell_type": "markdown",
      "source": [
        "Try to spot some differences between the plots, and then open the collapsed section below to see the differences that we could find.\n",
        "<details><summary>Open this once you've found a difference between the plots</summary>\n",
        "The two plots have a different shape. The peak number of ZZ process events happens at less than 100 missing GeV of momentum, whereas the peak number of DM-300 (DM+Z->ll) events happens at roughly 120 missing GeV of momentum. This suggests that ZZ events have much less missing momentum, which makes sense since they don't involve dark matter.\n",
        "\n",
        "<font size=\"2\">As you can see from the y-Axis, there are far more ZZ events than DM_300 events. This makes sense, because there is far more background than signal in our data.</font></details>\n",
        "<br>\n",
        "<font size=\"3\">Now we're going to make one more histogram plot - but this time you can try to write out the code yourself. We'll be using the ZZ background file for the plot, but instead of missing transverse energy (ETmiss) we want to plot transverse momentum of the leading lepton (lead_lep_pt), which has units of GeV.</font>\n",
        "<details>\n",
        "<summary style=\"color:orange; font-weight: bold;\"><font color=\"0000A1\">3.1.1 What does the transverse momentum of the leading lepton mean?</font></summary>\n",
        "As we discussed earlier, the signature we are looking for is that of two leptons and missing transverse momentum. Of these two leptons, one reaches the detector first, because it is faster and has more momentum. This is our leading lepton.\n",
        "</details>"
      ],
      "metadata": {
        "id": "V0xQWOnQafl1"
      }
    },
    {
      "cell_type": "markdown",
      "source": [
        "<font color = \"red\">TASK:</font> Write the code to make a plot of the lead_lep_pt variable using the ZZ file!"
      ],
      "metadata": {
        "id": "7DGNM67PlmnA"
      }
    },
    {
      "cell_type": "code",
      "source": [
        "#write code to plot a histogram of lead_lep_pt for the ZZ background file. Have a look at the code for other histograms to work it out.\n",
        "..."
      ],
      "metadata": {
        "id": "ShX_4bb9eu4i"
      },
      "execution_count": null,
      "outputs": []
    },
    {
      "cell_type": "markdown",
      "source": [
        "Great job on programming this plot yourself! :D\n",
        "<br>\n",
        "<br>\n",
        "We have quite a few columns of information for each file. If we plotted histograms for all these columns and for every file, we would have so many histograms that we would be confused about how to analyse them! So let's look at a way to make things clearer.\n",
        "<br>\n",
        "### 3.2 - Stacked histograms\n",
        "It's confusing to look from one plot to another constantly, so let's put our histograms together to make comparison easier. This is called a stacked histogram.\n",
        "<br>\n",
        "<br>\n",
        "Before we plot a stacked histogram, let's put our dataframes in a list. This will make it easier to write code for the stacked histogram. Hit play on the below code to initialise some variables that we'll be using."
      ],
      "metadata": {
        "id": "rINQB2P0fT36"
      }
    },
    {
      "cell_type": "code",
      "source": [
        "our_dataframes = [NR_ll, Z_jets, WZ, ZZ, DM_300] #we put our event information in a list, making it easier to look through all of it at once using a loop\n",
        "dataframe_names = ['NR_ll','Z_jets','WZ','ZZ','DM_300'] #this list just has the names of the dataframes so we can make labels"
      ],
      "metadata": {
        "id": "eKG8FySlX3NV"
      },
      "execution_count": null,
      "outputs": []
    },
    {
      "cell_type": "markdown",
      "source": [
        "Now let's run the below code to make a stacked histogram of the missing transverse momentum (ETmiss) using our dark matter signal and all of our backgrounds."
      ],
      "metadata": {
        "id": "Mf4Y5QbhfWgE"
      }
    },
    {
      "cell_type": "code",
      "source": [
        "stacked_variable = [] #list to hold the infromation from all the files that we will plot\n",
        "stacked_weights = [] #list to hold the weights from each file\n",
        "\n",
        "for i in our_dataframes: #goes through each item in the list (i.e. it goes through each of the files)\n",
        "    info = i['ETmiss'] #grabs the missing transverse energy information from each file\n",
        "    stacked_variable.append(info) #adds this information to stacked_variable, so it can be used for plotting\n",
        "    stacked_weights.append(i['totalWeight'])\n",
        "\n",
        "plt.hist(stacked_variable,weights=stacked_weights, label=dataframe_names, stacked=True, bins=50, range = (0,300)) #this plots our stacked histogram (see stacked=True) with labels from the list of our dataframes\n",
        "#note that there are events past 300, but we won't look at them as it's not super relevant to what we're doing\n",
        "plt.xlabel('Missing ET [GeV]') # x-axis label\n",
        "plt.ylabel('Events') # y-axis label\n",
        "plt.legend(reverse=True) # add legend to plot\n",
        "plt.show()"
      ],
      "metadata": {
        "id": "7-8h2prNgdcQ",
        "colab": {
          "base_uri": "https://localhost:8080/",
          "height": 449
        },
        "outputId": "077304ef-1166-42f8-f036-95b99afcfa24"
      },
      "execution_count": null,
      "outputs": [
        {
          "output_type": "display_data",
          "data": {
            "text/plain": [
              "<Figure size 640x480 with 1 Axes>"
            ],
            "image/png": "[encoded data removed]"
          },
          "metadata": {}
        }
      ]
    },
    {
      "cell_type": "markdown",
      "source": [
        "### 3.3 - Significance\n",
        "We are able to see that we have some dark matter signal in purple above, but there's a problem. Our problem is that there's a chance these results were a fluke - that the purple in the histogram appeared through pure coincidence. Imagine rolling 10 dice, and more than half of them are sixes. This could be evidence that the dice are unfair, but it could also be random chance.\n",
        "\n",
        "It's obviously very important to know how likely it is that our results are a fluke in our dark matter search. The way we do this is by checking what we call the [statistical significance](https://youtu.be/73JeQ2RZnwc) of the dark matter signal compared to the background.  \n",
        "\n",
        "As you know, our data should contain some signal, but it also contains a large amount of background that looks similar to the signal. Continuing with the dice analogy, the signal would be whenever a dice rolls a six because it's an unfair dice: the background would be whenever a fair dice rolls a six through pure chance. The statistical significance is a measure of how unlikely it is that the result is a fluke. If you roll 10 dice, and 4 of them are sixes, there's roughly a 5.5% chance that this happened randomly. But if 5 of them are sixes, you can be more certain the dice are weighted - there's only approximately a 1.3% chance that it happened randomly and if there are 6 sixes then the probability that this happened by chance drops to 0,2%!\n",
        "\n",
        "Since our search for dark matter is a scientific study, we need to be really certain that our results are good evidence of dark matter. We want there to be a less than 0.3% chance that the results are just a random fluke. If this was case, wewould say that our results would have a statistical significance of <b>three sigma</b>.\n",
        "\n",
        "Sigma is a scientific shorthand to describe how statistically significant a result is and comes from the symmetric normal distribution, where there is a probability of 0.997 that a random sample from this distribution lies within three standard deviaitons (which is donoted by the Greek letter 'sigma') of the mean  The diagram below shows the normal distribution in terms of its standard deviaiton, sigma.\n",
        "\n",
        "<img src=\"https://miro.medium.com/max/954/1*qbIWZyXxjkWt7dQLJX3Tsg.png\" width=\"800\" style=\"width:40%;\" align = \"centre\"></img>\n",
        "<br>\n",
        "\n",
        "\n",
        "In phyics, when we  calculate the significance of a result we express the probability that the result is a fluke by using the shorthand sigma. If a result has significance or 3 sigma, we are saying that there is a 0.3% chance that this reult occured by fluke and this is pretty good evidence that our dark matter signal is true dark matter.\n",
        "<br>\n",
        "<br>\n",
        "How we calcualte significane depends on the experiments we are considering. In the dice example above, the significance was affected by the number of dice rolled, and the amount that came up as six. In our case, we can calculate our significance using the total number of recorded collisions, and the amount of collisions that caused a DM+Z->ll process.\n",
        "\n",
        "To estimate our significance, we can use a popular estimator (although other more complicated and accurate estimators can be found):\n",
        "<br>\n",
        "<br>\n",
        "$\\frac{\\text{Total Signal Weight}}{\\sqrt{\\text{Total Background Weights}}}$\n",
        "<br>\n",
        "<br>\n",
        "\n",
        "\n",
        "<font color = \"red\">TASK:</font> Below, you can try to create Python code to calculate the significance! You need to input the significance using the formula above.\n",
        "\n",
        "<font color = \"red\">HINT: there are two ways you can find the square root of something</font>\n",
        "\n",
        "You can put it to the power of 0.5 using the '\\*\\*\\' operator, for example, 'square root of x' could be found by writing 'x\\*\\*0.5'.\n",
        "\n",
        "Or you can call the 'sqrt' function from NumPy: np.sqrt(x)"
      ],
      "metadata": {
        "id": "mSo2YJwBgliN"
      }
    },
    {
      "cell_type": "code",
      "source": [
        "signal_weight = 0\n",
        "background_weight = 0\n",
        "#we initialize these variables at zero\n",
        "\n",
        "for i in range(0,4):\n",
        "  background_weight += sum(our_dataframes[i]['totalWeight']) #Calculates the total background weight\n",
        "\n",
        "signal_weight += sum(our_dataframes[4]['totalWeight']) #Calculates the total signal weight\n",
        "\n",
        "#----------------Calculate the significance here, according to our equation above! ---------------------\n",
        "significance =\n",
        "#------------------------------------------------------------------------------------------------------\n",
        "\n",
        "sig_4decimal = '%.4f'%significance\n",
        "print(\"Our new significance is: \"+ sig_4decimal+\"σ\")\n",
        "def probability_analysis(significance):\n",
        "  return 100*st.norm.cdf(significance)\n",
        "\n",
        "prob_3decimal = '%.3f'%(probability_analysis(significance))\n",
        "print(\"The probability that our result is genuine evidence of dark matter is: \"+ prob_3decimal +\"%\")\n",
        "prob_3decimal_not = '%.3f'%(100-probability_analysis(significance))\n",
        "print(\"The probability that our result appeared out of pure chance is: \"+ prob_3decimal_not +\"%\")"
      ],
      "metadata": {
        "id": "gI0Hvatyi_SL",
        "colab": {
          "base_uri": "https://localhost:8080/"
        },
        "outputId": "1dc9b263-d7dc-4223-b345-7ea86274b5e7"
      },
      "execution_count": null,
      "outputs": [
        {
          "output_type": "stream",
          "name": "stdout",
          "text": [
            "Our new significance is: 1.9757σ\n",
            "The probability that our result is genuine evidence of dark matter is: 97.590%\n",
            "The probability that our result appeared out of pure chance is: 2.410%\n"
          ]
        }
      ]
    },
    {
      "cell_type": "markdown",
      "source": [
        "We can see that this number is quite far from the significance of 3 that we are aiming for, so right now we can't say that we have evidence for dark matter. At this significance, there is a 2.41% chance that our result is a complete fluke. It's unlikely, but we want to be nearly completely certain.\n",
        "<br>\n",
        "<br>\n",
        "So what do we do now? We try to get rid of as much background as possible from our data while keeping as much signal as possible. This will increase the significance of our result. This is done using a technique known as <b>cut-based analysis.</b>\n",
        "<br>\n",
        "<br>\n",
        "<font color = \"red\">TASK:</font> Press play to check your knowledge on significance!"
      ],
      "metadata": {
        "id": "yVs3g18xbulB"
      }
    },
    {
      "cell_type": "code",
      "source": [
        "#@title Q1:\n",
        "print(\"         Why is a high significance important?\")\n",
        "out = widgets.Dropdown(options=[('',9),('A high significance means we have more important results',0),('A large significance means we have lots of signal',2),('A high significance means it is unlikely that our theory is a fluke',1)],description='Answer:',disabled=False)\n",
        "def drop_check(guess):\n",
        "  if guess==9:\n",
        "    print('')\n",
        "  elif guess==0:\n",
        "    print(\"\\033[1;31;47m Incorrect.  \\n\")\n",
        "    print(\"\\033[0;30;107m The significance is a measure of how unlikely a result is to happen randomly, but it can't measure how important the results will be if they're accurate \\n\")\n",
        "  elif guess==1:\n",
        "    print(\"\\033[1;32;47m Correct!  \\n\")\n",
        "  elif guess==2:\n",
        "    print(\"\\033[1;31;47m Incorrect.  \\n\")\n",
        "    print(\"\\033[0;30;107m High significance doesn't always mean we have lots of signal, but it does always mean we have a greater proportion of signal to background \\n\")\n",
        "check = widgets.interactive_output(drop_check,{'guess':out})\n",
        "widgets.HBox([out,check])"
      ],
      "metadata": {
        "id": "B6EXSOmDbtWW",
        "cellView": "form",
        "colab": {
          "base_uri": "https://localhost:8080/",
          "height": 67,
          "referenced_widgets": [
            "70bd6d0efa5c45c5924f9a445fd8109f",
            "c0e401a079444b8e945f00434fde0083",
            "1e8529ffe2d04f6c848356b7b69ca629",
            "def4c330162b4a609fa1570e4cba6c51",
            "115f5a63a737463686d44019c288822e",
            "0b07b443a55d4837b189049b0c43c9dd",
            "10e67c4521d34f8d82769544c7cb7fd9"
          ]
        },
        "outputId": "da3fa685-cff6-4829-daa5-c2f636008aa5"
      },
      "execution_count": null,
      "outputs": [
        {
          "output_type": "stream",
          "name": "stdout",
          "text": [
            "         Why is a high significance important?\n"
          ]
        },
        {
          "output_type": "display_data",
          "data": {
            "text/plain": [
              "HBox(children=(Dropdown(description='Answer:', options=(('', 9), ('A high significance means we have more impo…"
            ],
            "application/vnd.jupyter.widget-view+json": {
              "version_major": 2,
              "version_minor": 0,
              "model_id": "70bd6d0efa5c45c5924f9a445fd8109f"
            }
          },
          "metadata": {}
        }
      ]
    },
    {
      "cell_type": "markdown",
      "source": [
        "## 4 - Cut-based analysis\n",
        "As we've just seen, our significance isn't good enough yet, because we have a very large quantity of background data and a very small amount of signal. Imagine that you've rolled a die thousands of times, and it rolls a six just a little bit more than you expect. We will try to solve this problem with cut-based analysis. This is the method that we will be using to improve our significance. Just like the name implies, this method cuts out parts of our data to try and get rid of as much background whilst keeping as much signal as possible.\n",
        "\n",
        "What is a cut? Put simply, a cut is just a condition - the data that satisfies a condition is kept, and the rest we get rid of. A real world example of a cut would be a height restriction at a theme park - if your height is not greater than the minimum, you can't get on. Essentially the theme park has \"cut out\" all the people below a certain height. We aim to \"cut out\" as much of our background data as we can, while keeping as much of our signal as we can.\n",
        "<br>\n",
        "<br>\n",
        "<br>\n",
        "<br>\n",
        "<img src=\"https://themeparkreview.com/forum/uploads/monthly_2011_03/SS4.jpg.fac76c1047781a89f79a59cb8dc018cc.jpg\" style=\"width:50%;\" align=\"right\">\n",
        "<!---man this really makes me want to go to thorpe park again T.T-->\n"
      ],
      "metadata": {
        "id": "2VfgDeh4jJii"
      }
    },
    {
      "cell_type": "markdown",
      "source": [
        "This is where the dice analogy breaks down. When rolling loaded dice, it's impossible to work out if you rolled a six randomly, or because the dice are loaded. There's no difference between the two outcomes. But as we've seen so many many times in this notebook, real life is complicated, and we can finally turn this to our advantage! In order to get rid of as much background as possible (while keeping our signal), we try to find differences in the data between background processes and the process we really want, DM+Z->ll. We then set up cuts to exploit those differences and get rid of as many background processes as possible, so that we're left with more actual DM+Z->ll in the data. The evidence for dark matter will then become much clearer!"
      ],
      "metadata": {
        "id": "Xv3tIKjPLqXI"
      }
    },
    {
      "cell_type": "markdown",
      "source": [
        "### 4.1 - Which cuts should we do?\n",
        "We have a lot of events (rows in our dataframes), so we need to cut down how many we have. How are we going to choose what cuts we will use to do that? Fortunately, we can look at a paper from ATLAS to help us. Page 6 from [this paper](https://arxiv.org/pdf/1708.09624.pdf) has a table describing cuts performed on very similar simulated data files, and we will be basing our cuts on what they did in their similar analysis. Almost all scientific studies are built on each other's shoulders - every discovery and new technique might later be used for more discoveries, used in more complicated techniques. So we can keep pushing further, using previous discoveries to keep going.\n",
        "\n",
        "<br>\n"
      ],
      "metadata": {
        "id": "7CBC_aENAtrP"
      }
    },
    {
      "cell_type": "markdown",
      "source": [
        "### 4.2 - Cut 1: Dilepton invariant mass ($m_{ll}$)\n",
        "\n",
        "Let's break down what this term means before we do anything.\n",
        "<br>\n",
        "Dilepton refers to the two leptons that are created in our collisions. Invariant mass is the mass of something when it is not moving from the observer's point of view (which we call the observer's [*frame of reference*](https://www.youtube.com/watch?v=3yaZ7lkQPUQ)).\n",
        "\n",
        "So the dilepton invariant mass, is the rest mass of the two leptons generated in the DM+Z->ll process. We know that in a DM+Z->ll process, these leptons come from a Z-Boson. Therefore, in a DM+Z->ll process, the total mass of the two leptons must equal the mass of the Z-Boson that created them in our process. In background processes, that's less likely. So cutting out events where $m_{ll}$ is too far from 90GeV will get rid of a lot of background events.\n",
        "<br>\n",
        "<br>\n",
        "The video below has a description of invariant mass (also called rest mass) from 3:24 to 3:42."
      ],
      "metadata": {
        "id": "ayNDSXcLAwoc"
      }
    },
    {
      "cell_type": "code",
      "source": [
        "#@title Video: Invariant Mass\n",
        "HTML('<iframe width=\"560\" height=\"315\" src=\"https://www.youtube.com/embed/XkPudRiWspc\" frameborder=\"0\" allowfullscreen></iframe>')"
      ],
      "metadata": {
        "id": "UBRYjEN69T2G",
        "cellView": "form",
        "colab": {
          "base_uri": "https://localhost:8080/",
          "height": 372
        },
        "outputId": "a8a16a83-5920-4c8b-d93b-2ee00fc1a6d6"
      },
      "execution_count": null,
      "outputs": [
        {
          "output_type": "stream",
          "name": "stderr",
          "text": [
            "/usr/local/lib/python3.10/dist-packages/IPython/core/display.py:724: UserWarning: Consider using IPython.display.IFrame instead\n",
            "  warnings.warn(\"Consider using IPython.display.IFrame instead\")\n"
          ]
        },
        {
          "output_type": "execute_result",
          "data": {
            "text/plain": [
              "<IPython.core.display.HTML object>"
            ],
            "text/html": [
              "<iframe width=\"560\" height=\"315\" src=\"https://www.youtube.com/embed/XkPudRiWspc\" frameborder=\"0\" allowfullscreen></iframe>"
            ]
          },
          "metadata": {},
          "execution_count": 33
        }
      ]
    },
    {
      "cell_type": "markdown",
      "source": [
        "Now that we understand dilepton invariant mass a bit better, let's make a plot of it below, which should help you choose what events to cut out. Remember the mass of the Z-Boson!\n"
      ],
      "metadata": {
        "id": "ejC4dNQ49jG8"
      }
    },
    {
      "cell_type": "code",
      "source": [
        "stacked_variable = [] # list to hold the infromation from all the files that we will plot\n",
        "stacked_weights = [] #list to hold the weights from each file\n",
        "\n",
        "for i in our_dataframes: #goes through each item in the list (i.e. it goes through each of the files)\n",
        "    info = i['mll'] #grabs the missing transverse energy information from each file\n",
        "    stacked_variable.append(info) #adds this information to stacked_variable, so it can be used for plotting\n",
        "    stacked_weights.append(i['totalWeight']) #grabs weight info to be applied\n",
        "\n",
        "plt.hist(stacked_variable,weights=stacked_weights, label=dataframe_names, stacked=True, bins=20, range = (60,121)) #this plots our stacked histogram (see stacked=True) with labels from the list of our dataframes\n",
        "plt.xlabel('Dilepton Invariant Mass [GeV]') # x-axis label\n",
        "plt.ylabel('Events') # y-axis label\n",
        "plt.legend(reverse=True) # add legend to plot\n",
        "plt.savefig(\"DileptonIM_NoCut\")\n",
        "plt.show()"
      ],
      "metadata": {
        "id": "9Fp6Q8U3b2vc",
        "colab": {
          "base_uri": "https://localhost:8080/",
          "height": 449
        },
        "outputId": "595be69d-1304-4e3c-f8ae-940ef6d18221"
      },
      "execution_count": null,
      "outputs": [
        {
          "output_type": "display_data",
          "data": {
            "text/plain": [
              "<Figure size 640x480 with 1 Axes>"
            ],
            "image/png": "[encoded data removed]"
          },
          "metadata": {}
        }
      ]
    },
    {
      "cell_type": "markdown",
      "source": [
        "You can see that most of our backgruond events, and almost all our signal events, happen at around 90GeV. But there are still some signal events that happen around 80 or 100GeV.\n",
        "\n",
        "Cutting out the data very close to 90GeV - perhaps getting rid of everything except 88-92GeV - will get rid of a lot of background, but it will also get rid of some signal. This is known as a \"tight\" cut.\n",
        "\n",
        "If you cut further away from 90GeV - perhaps keeping everything between 80-100GeV - you will get rid of less background, but you'll keep almost all the signal. This is known as a \"loose\" cut.\n",
        "<br>\n",
        "<br>\n",
        "Now let's make the cut. Press play on the cell below and use the slider to choose a range of values to keep in this plot. Do you want a tight cut, a loose cut, or somewhere in between?\n",
        "<br>\n",
        "<br>\n",
        "<font color=\"red\">TASK:</font> Press play below and use the sliders to choose the upper and lower limits for this cut."
      ],
      "metadata": {
        "id": "bvdUAprUv8nY"
      }
    },
    {
      "cell_type": "code",
      "source": [
        "#@title\n",
        "test = [] #this is a list that will hold the values shown on the slider\n",
        "def readable_output(x): #this function lets us show+use the numbers on the slider\n",
        "  test.append(x) #adds the values on the sliders to the above list\n",
        "  return x #shows the numbers on the slider in the form (x,y)\n",
        "widgets.interact(readable_output, x = widgets.IntRangeSlider(value=[50, 130],min=50,max=130,step=2,description='mll Cut:'))\n",
        "#above creates the slider and makes it interact with our function above"
      ],
      "metadata": {
        "id": "ojVw8VYV-FSW",
        "colab": {
          "base_uri": "https://localhost:8080/",
          "height": 154,
          "referenced_widgets": [
            "f8b342284c2d4c8ea22d7a264ac404f9",
            "43ce3d7a8fe94818932475cf8521419b",
            "b4c4d7c6b14e40c2978a11619663a2d7",
            "f1be0d5c027e44b5b910e13dcd0b1ac4",
            "03eee457ed4645c7a2b89b000a948c66",
            "740e33be57544f14880f463e0ed50cd9",
            "e072e6a6f56d4af2ab417f8c1448d1cf"
          ]
        },
        "outputId": "053f856d-a7d3-4956-c940-26231ece8637"
      },
      "execution_count": null,
      "outputs": [
        {
          "output_type": "display_data",
          "data": {
            "text/plain": [
              "interactive(children=(IntRangeSlider(value=(50, 130), description='mll Cut:', max=130, min=50, step=2), Output…"
            ],
            "application/vnd.jupyter.widget-view+json": {
              "version_major": 2,
              "version_minor": 0,
              "model_id": "f8b342284c2d4c8ea22d7a264ac404f9"
            }
          },
          "metadata": {}
        },
        {
          "output_type": "execute_result",
          "data": {
            "text/plain": [
              "<function __main__.readable_output(x)>"
            ],
            "text/html": [
              "<div style=\"max-width:800px; border: 1px solid var(--colab-border-color);\"><style>\n",
              "      pre.function-repr-contents {\n",
              "        overflow-x: auto;\n",
              "        padding: 8px 12px;\n",
              "        max-height: 500px;\n",
              "      }\n",
              "\n",
              "      pre.function-repr-contents.function-repr-contents-collapsed {\n",
              "        cursor: pointer;\n",
              "        max-height: 100px;\n",
              "      }\n",
              "    </style>\n",
              "    <pre style=\"white-space: initial; background:\n",
              "         var(--colab-secondary-surface-color); padding: 8px 12px;\n",
              "         border-bottom: 1px solid var(--colab-border-color);\"><b>readable_output</b><br/>def readable_output(x)</pre><pre class=\"function-repr-contents function-repr-contents-collapsed\" style=\"\"><a class=\"filepath\" style=\"display:none\" href=\"#\">/content/&lt;ipython-input-35-8b40aad1cb9b&gt;</a>&lt;no docstring&gt;</pre></div>"
            ]
          },
          "metadata": {},
          "execution_count": 35
        }
      ]
    },
    {
      "cell_type": "markdown",
      "source": [
        "\n",
        "Now that you've chosen a range of values to keep, we can move on to performing the cut with the values you've chosen."
      ],
      "metadata": {
        "id": "thV1JcQY8oYf"
      }
    },
    {
      "cell_type": "markdown",
      "source": [
        "#### 4.2.1 - Cut on $m_{ll}$\n",
        "The below code cell contains the code to cut out the data that lies outside the range of values that you chose above. Run this code and then continue to see what affect it has!\n",
        "<br>\n",
        "<br>\n",
        "<font color=\"red\">TASK:</font> Run the below code to perform your first cut!\n",
        "<br>\n",
        "<br>\n",
        "(Once you run this cell, you'll have to use the code hidden under 'Retry cut?' before you can change the cut values you've chosen.)"
      ],
      "metadata": {
        "id": "XG7vuOuSkQsj"
      }
    },
    {
      "cell_type": "code",
      "source": [
        "cut_lower,cut_upper = test[-1] #this grabs the numbers on the slider\n",
        "\n",
        "for i in our_dataframes: #goes over each dataframe\n",
        "    cut_lb = list(i.index[i['mll']<cut_lower]) #list of the events below lower cut value\n",
        "    cut_ub = list(i.index[i['mll']>cut_upper]) #list of the events above upper cut value\n",
        "    #print(cut_lb,cut_ub) #you can uncomment to show which rows will be removed\n",
        "    i.drop(cut_lb,inplace=True)\n",
        "    i.drop(cut_ub,inplace=True) #these two lines remove the events in the lists"
      ],
      "metadata": {
        "id": "94rmWqLLEjmy"
      },
      "execution_count": null,
      "outputs": []
    },
    {
      "cell_type": "markdown",
      "source": [
        "Just like that we've performed a cut!\n",
        "<br>\n",
        "Let's plot another histogram for the dilepton invariant mass to see what has changed as a result of our cut."
      ],
      "metadata": {
        "id": "b3ivXbd-6XiT"
      }
    },
    {
      "cell_type": "code",
      "source": [
        "stacked_variable = []\n",
        "stacked_weights = []\n",
        "bin_num = int((cut_upper-cut_lower)/5) #this calculates how many bins we need (as we want bins to only be 5 GeV wide)\n",
        "for i in our_dataframes:\n",
        "    info = i['mll']\n",
        "    stacked_variable.append(info)\n",
        "    stacked_weights.append(i['totalWeight'])\n",
        "\n",
        "plt.hist(stacked_variable, weights=stacked_weights, label=dataframe_names, stacked=True, bins=(cut_upper-cut_lower), range = (cut_lower,(cut_upper+1)))#note that we use cut_upper+1, this +1 makes our bins land on whole numbers\n",
        "plt.xlabel('Dilepton Invariant Mass [GeV]') # x-axis label\n",
        "plt.ylabel('Events') # y-axis label\n",
        "plt.legend(reverse=True) # add legend to plot\n",
        "plt.savefig('DileptonIM_Cut') #to save the plot to local files\n",
        "plt.close() #to stop MatPlotLib from showing the plot later\n",
        "\n",
        "#--------------------------------\n",
        "\n",
        "fig, axes = plt.subplots(1, 2) #to define that we want two columns and one row of subplots\n",
        "ax0, ax1 = axes.flatten()\n",
        "\n",
        "DileptonIM_NoCut = plt.imread('/content/DileptonIM_NoCut.png') #to read the NoCut file\n",
        "ax0.imshow(DileptonIM_NoCut) #to show the NoCut file\n",
        "ax0.set_title(\"Before the cut\")\n",
        "ax0.axis('off') #to get rid of extra axes\n",
        "\n",
        "DileptonIM_Cut = plt.imread('/content/DileptonIM_Cut.png') #to read the Cut file\n",
        "ax1.imshow(DileptonIM_Cut) #to show the Cut file\n",
        "ax1.set_title(\"After the cut\")\n",
        "ax1.axis('off') #to get rid of extra axes\n",
        "\n",
        "fig.set_figwidth(12)\n",
        "fig.set_figheight(6)\n",
        "fig.tight_layout()\n",
        "plt.show()\n",
        "\n",
        "print(\"Notice the difference in the range of data shown on the x-axis: the second plot is actually just a small subset of the first\")\n",
        "print(\"You can also see that the y-axis is different, because each individual bar is showing less events\")"
      ],
      "metadata": {
        "id": "gzMNFNtt65KX",
        "colab": {
          "base_uri": "https://localhost:8080/",
          "height": 528
        },
        "outputId": "eca01c99-76cb-48da-b93a-44f119b88b62"
      },
      "execution_count": null,
      "outputs": [
        {
          "output_type": "display_data",
          "data": {
            "text/plain": [
              "<Figure size 1200x600 with 2 Axes>"
            ],
            "image/png": "[encoded data removed]"
          },
          "metadata": {}
        },
        {
          "output_type": "stream",
          "name": "stdout",
          "text": [
            "Notice the difference in the range of data shown on the x-axis: the second plot is actually just a small subset of the first\n",
            "You can also see that the y-axis is different, because each individual bar is showing less events\n"
          ]
        }
      ]
    },
    {
      "cell_type": "markdown",
      "source": [
        "What we are able to see here is that we now only have the events that are within the boundaries of the cut we set before. We can think of this like we have 'zoomed in' on the part of the $m_{ll}$ we are interested in.\n",
        "<br>\n",
        "Now let's check the significance of the remaining events after the cut to see if we improved the valueby running the code below."
      ],
      "metadata": {
        "id": "fTqKak478fNv"
      }
    },
    {
      "cell_type": "code",
      "source": [
        "signal_weight = 0\n",
        "background_weight = 0\n",
        "\n",
        "for i in range(0,4):\n",
        "  background_weight += sum(our_dataframes[i]['totalWeight'])\n",
        "\n",
        "signal_weight += sum(our_dataframes[4]['totalWeight'])\n",
        "significance = signal_weight/(np.sqrt(background_weight))\n",
        "significance\n",
        "sig_3decimal = '%.3f'%significance\n",
        "print(\"Our new significance is: \"+ sig_3decimal+\"σ\")\n",
        "prob_2decimal = '%.2f'%probability_analysis(significance)\n",
        "print(\"The probability that our result is genuine evidence of dark matter is: \"+ prob_2decimal +\"%\")"
      ],
      "metadata": {
        "id": "jmDzQ59o9MCa",
        "colab": {
          "base_uri": "https://localhost:8080/"
        },
        "outputId": "32273b3b-f359-4a09-92b4-b5549a952e5f"
      },
      "execution_count": null,
      "outputs": [
        {
          "output_type": "stream",
          "name": "stdout",
          "text": [
            "Our new significance is: 2.183σ\n",
            "The probability that our result is genuine evidence of dark matter is: 98.55%\n"
          ]
        }
      ]
    },
    {
      "cell_type": "markdown",
      "source": [
        "How has the significance changed? Has it increased? Does it still fall short of our desired significance?\n",
        "<br>\n",
        "<br>\n",
        "<font color=\"red\">QUIZ:</font> Hit play below to check your knowledge!"
      ],
      "metadata": {
        "id": "3BMZYTjFe1r0"
      }
    },
    {
      "cell_type": "code",
      "source": [
        "#@title\n",
        "print(\"     What is the significance we want to reach?\")\n",
        "out = widgets.Dropdown(options=[('',9),('102',0),('5',1),('2',2),('3',3)],description='Answer:',disabled=False)\n",
        "def drop_check(guess):\n",
        "  if guess==9:\n",
        "    print('')\n",
        "  elif guess==0:\n",
        "    print(\"\\033[1;31;47m Incorrect.  \\n\")\n",
        "    print(\"\\033[0;30;107m This is extremely high! This would mean absolute certainty, which is very hard to achieve. \\n\")\n",
        "  elif guess==1:\n",
        "    print(\"\\033[1;31;47m Incorrect.  \\n\")\n",
        "    print(\"\\033[0;30;107m A significance of 5 is often used in particle physics, and it's necessary if you want to claim a \\\"discovery\\\". However we're just looking for evidence. \\n\")\n",
        "  elif guess==2:\n",
        "    print(\"\\033[1;31;47m Incorrect.  \\n\")\n",
        "    print(\"\\033[0;30;107m A significance of 2 is often used in science, such as the social sciences or psychology, where it's hard to get clear evidence of a phenomenon. We want slightly more evidence though. \\n\")\n",
        "  elif guess==3:\n",
        "    print(\"\\033[1;32;47m Correct!  \\n\")\n",
        "check = widgets.interactive_output(drop_check,{'guess':out})\n",
        "widgets.HBox([out,check])\n"
      ],
      "metadata": {
        "id": "tOXDiqr2e2Lf",
        "cellView": "form",
        "colab": {
          "base_uri": "https://localhost:8080/",
          "height": 67,
          "referenced_widgets": [
            "76ffc99870db44b9aeffabfcf3cddb5c",
            "d3a5128500f441b3a45faaabab53fc30",
            "5e3dc7e999e24c59a0d8f20d2161050e",
            "ba97c6af381f4e7da53f1734cd97f200",
            "b0d75bccde1d472295d0367eb172db8f",
            "32de2e53058b4b63b0a7fea45e174e26",
            "cd20231d21e74427a32c9cec09078a25"
          ]
        },
        "outputId": "1a5c88c9-b7b6-49c8-912f-1b218db2249e"
      },
      "execution_count": null,
      "outputs": [
        {
          "output_type": "stream",
          "name": "stdout",
          "text": [
            "     What is the significance we want to reach?\n"
          ]
        },
        {
          "output_type": "display_data",
          "data": {
            "text/plain": [
              "HBox(children=(Dropdown(description='Answer:', options=(('', 9), ('102', 0), ('5', 1), ('2', 2), ('3', 3)), va…"
            ],
            "application/vnd.jupyter.widget-view+json": {
              "version_major": 2,
              "version_minor": 0,
              "model_id": "76ffc99870db44b9aeffabfcf3cddb5c"
            }
          },
          "metadata": {}
        }
      ]
    },
    {
      "cell_type": "markdown",
      "source": [
        "Think you can change this cut to get a better significance? Go down to the \"Retry?\" drop-down to try make a different cut if you want to give it another go! This code reloads the original data, without any cuts. Just be aware that it will get rid of all your cuts, every time you use it."
      ],
      "metadata": {
        "id": "juzxIOIA9W6S"
      }
    },
    {
      "cell_type": "markdown",
      "source": [
        "###### Retry cut?"
      ],
      "metadata": {
        "id": "H_2ZD5TBkKX0"
      }
    },
    {
      "cell_type": "markdown",
      "source": [
        "Run the cell below to reload all of the files so that you can try your cut again"
      ],
      "metadata": {
        "id": "Jt6XeixZYZiQ"
      }
    },
    {
      "cell_type": "code",
      "source": [
        "#below reloads files to reset the changes. Run this whenever you want to retry an old cut\n",
        "Data_Collected = False\n",
        "for fn in [read_data_fileslocal, read_data_drivelocal, read_data_cernsite, read_data_newsite]:\n",
        "  fn()\n",
        "  if Data_Collected == True:\n",
        "    break\n",
        "  else:\n",
        "    continue\n",
        "\n",
        "DM_300 = our_dataframes[0]\n",
        "Z_jets = our_dataframes[1]\n",
        "WZ = our_dataframes[2]\n",
        "ZZ = our_dataframes[3]\n",
        "NR_ll = our_dataframes[4]"
      ],
      "metadata": {
        "id": "gRGvf7WWkK_i"
      },
      "execution_count": null,
      "outputs": []
    },
    {
      "cell_type": "markdown",
      "source": [
        "### 4.3 - Cut 2: Missing transverse momentum ($E_{Tmiss}$)\n",
        "Let's continue by making another cut to further improve our significance. This time we will do a cut on the missing transverse momentum, $E_{Tmiss}$.You can probably figure out why this is a useful cut to make: missing momentum can be caused by dark matter, so the more missing momentum there is, the more likely that there is dark matter.\n",
        "\n",
        "Therefore, we can cut out data with less missing momentum, and this will help us have a higher proportion of signal to background in our data.\n",
        "<br>\n",
        "<br>\n",
        "If we have a look at the paper we are basing our cuts on ([link](https://arxiv.org/pdf/1708.09624.pdf)), we see that the paper decides to keep all the events with missing $E_T$ above 90 GeV. This makes sense, considering that the peak of the dark matter signal occurs around that point (remember the $m_{ll}$ graph we made earlier?). So now we will replicate that cut.\n",
        "<br>\n",
        "<br>\n",
        "<font color=\"red\">TASK:</font> Hit play and use the checkboxes to choose a cut to use! This cut will exclude any events below the threshold you choose. The paper we're basing our cut on chose 90GeV, but you can choose others if you want. Use the graph to figure out where you want to cut: remember, you want the greatest proportion of dark matter (in purple) to all the background processes."
      ],
      "metadata": {
        "id": "jpwdh4Uy3Uza"
      }
    },
    {
      "cell_type": "code",
      "source": [
        "stacked_variable = [] # list to hold the infromation from all the files that we will plot\n",
        "stacked_weights = [] #list to hold the weights from each file\n",
        "\n",
        "for i in our_dataframes: #goes through each item in the list (i.e. it goes through each of the files)\n",
        "    info = i['ETmiss'] #grabs the missing transverse energy information from each file\n",
        "    stacked_variable.append(info) #adds this information to stacked_variable, so it can be used for plotting\n",
        "    stacked_weights.append(i['totalWeight']) #grabs weight info to be applied\n",
        "\n",
        "plt.hist(stacked_variable,weights=stacked_weights, label=dataframe_names, stacked=True, bins=40, range = (80, 200)) #this plots our stacked histogram (see stacked=True) with labels from the list of our dataframes\n",
        "plt.xlabel('ETmiss [GeV]') # x-axis label\n",
        "plt.ylabel('Events') # y-axis label\n",
        "plt.legend() # add legend to plot\n",
        "plt.savefig(\"ETmissAll_NoCut\")\n",
        "plt.show()"
      ],
      "metadata": {
        "colab": {
          "base_uri": "https://localhost:8080/",
          "height": 449
        },
        "id": "D1_Hkfl192G_",
        "outputId": "7a470d78-87e3-4259-9cd1-cd871bae446b"
      },
      "execution_count": null,
      "outputs": [
        {
          "output_type": "display_data",
          "data": {
            "text/plain": [
              "<Figure size 640x480 with 1 Axes>"
            ],
            "image/png": "[encoded data removed]"
          },
          "metadata": {}
        }
      ]
    },
    {
      "cell_type": "code",
      "source": [
        "#@title\n",
        "selection = [] #here we store info on what button is currently pressed\n",
        "def button_check(x):\n",
        "  selection.append(x) #adds the output of the buttons to the list\n",
        "widgets.interact(button_check, x = widgets.ToggleButtons(options=['80 GeV', '85 GeV', '90 GeV', '95 GeV', '100 GeV'], description='Missing Et:', button_style='info')) #creates buttons and lets them work with function"
      ],
      "metadata": {
        "id": "-SaogU0MBEB9",
        "colab": {
          "base_uri": "https://localhost:8080/",
          "height": 137,
          "referenced_widgets": [
            "38a30165562b4c5c8f2b178362e2f725",
            "31c3e375d2c04472a2e9e2a9e3c60d42",
            "416c12045fae4742ae6e71e77e465131",
            "2a4ad49da6f140c5a5cf6505759d649b",
            "a368bff5d16845bf8eecee0d9b63a6ac",
            "dd640d636bdb40948d140f8bfe73a139",
            "2206594556f448dd85aee596fc4466aa"
          ]
        },
        "outputId": "68db1f8d-bd9d-48bf-efee-54c99fd9722e"
      },
      "execution_count": null,
      "outputs": [
        {
          "output_type": "display_data",
          "data": {
            "text/plain": [
              "interactive(children=(ToggleButtons(button_style='info', description='Missing Et:', options=('80 GeV', '85 GeV…"
            ],
            "application/vnd.jupyter.widget-view+json": {
              "version_major": 2,
              "version_minor": 0,
              "model_id": "38a30165562b4c5c8f2b178362e2f725"
            }
          },
          "metadata": {}
        },
        {
          "output_type": "execute_result",
          "data": {
            "text/plain": [
              "<function __main__.button_check(x)>"
            ],
            "text/html": [
              "<div style=\"max-width:800px; border: 1px solid var(--colab-border-color);\"><style>\n",
              "      pre.function-repr-contents {\n",
              "        overflow-x: auto;\n",
              "        padding: 8px 12px;\n",
              "        max-height: 500px;\n",
              "      }\n",
              "\n",
              "      pre.function-repr-contents.function-repr-contents-collapsed {\n",
              "        cursor: pointer;\n",
              "        max-height: 100px;\n",
              "      }\n",
              "    </style>\n",
              "    <pre style=\"white-space: initial; background:\n",
              "         var(--colab-secondary-surface-color); padding: 8px 12px;\n",
              "         border-bottom: 1px solid var(--colab-border-color);\"><b>button_check</b><br/>def button_check(x)</pre><pre class=\"function-repr-contents function-repr-contents-collapsed\" style=\"\"><a class=\"filepath\" style=\"display:none\" href=\"#\">/content/&lt;ipython-input-45-965afe0f1607&gt;</a>&lt;no docstring&gt;</pre></div>"
            ]
          },
          "metadata": {},
          "execution_count": 45
        }
      ]
    },
    {
      "cell_type": "markdown",
      "source": [
        "###### If you want to retry your cuts, run this cell to reset all the cuts"
      ],
      "metadata": {
        "id": "piQdkJOKcsVG"
      }
    },
    {
      "cell_type": "markdown",
      "source": [
        "Run the below code cell to retry the cut. This will get rid of all the cuts. You'll have to redo the first cut as well."
      ],
      "metadata": {
        "id": "5quCWTXwcv9U"
      }
    },
    {
      "cell_type": "code",
      "source": [
        "Data_Collected = False\n",
        "for fn in [read_data_fileslocal, read_data_drivelocal, read_data_cernsite, read_data_newsite]:\n",
        "  fn()\n",
        "  if Data_Collected == True:\n",
        "    break\n",
        "  else:\n",
        "    continue\n",
        "\n",
        "DM_300 = our_dataframes[0]\n",
        "Z_jets = our_dataframes[1]\n",
        "WZ = our_dataframes[2]\n",
        "ZZ = our_dataframes[3]\n",
        "NR_ll = our_dataframes[4]"
      ],
      "metadata": {
        "id": "zw7QOWIwdP2u"
      },
      "execution_count": null,
      "outputs": []
    },
    {
      "cell_type": "markdown",
      "source": [
        "Now that you've selected your cut, we can now use it on the data, run the code cell below and see how the significance has changed."
      ],
      "metadata": {
        "id": "ZJdo0xrq2sCr"
      }
    },
    {
      "cell_type": "markdown",
      "source": [
        "#### 4.3.1 - Cut on $E_{Tmiss}$\n",
        "\n",
        "<font color=\"red\">TASK:</font> Run the code below to perform the cut on missing $E_T$ and calculate the significance after this cut!"
      ],
      "metadata": {
        "id": "8vXoRZ0qy2X1"
      }
    },
    {
      "cell_type": "code",
      "source": [
        "var = selection[-1]\n",
        "for i in our_dataframes: #goes over each dataframe (after it was cut earlier)\n",
        "    if var=='80 GeV': #checks if you chose the 80 GeV button\n",
        "        cut_val = list(i.index[i['ETmiss']<80]) #makes a list of events to drop accordingly\n",
        "    elif var=='85 GeV':\n",
        "        cut_val = list(i.index[i['ETmiss']<85])\n",
        "    elif var=='90 GeV':\n",
        "        cut_val = list(i.index[i['ETmiss']<90])\n",
        "    elif var=='95 GeV':\n",
        "        cut_val = list(i.index[i['ETmiss']<95])\n",
        "    elif var=='100 GeV':\n",
        "        cut_val = list(i.index[i['ETmiss']<100])\n",
        "    #print(cut_val) #you can uncomment to show which rows will be removed\n",
        "    i.drop(cut_val,inplace=True) #this line removes the events in the list\n",
        "\n",
        "stacked_variable = [] # list to hold the infromation from all the files that we will plot\n",
        "stacked_weights = [] #list to hold the weights from each file\n",
        "\n",
        "for i in our_dataframes: #goes through each item in the list (i.e. it goes through each of the files)\n",
        "    info = i['ETmiss'] #grabs the missing transverse energy information from each file\n",
        "    stacked_variable.append(info) #adds this information to stacked_variable, so it can be used for plotting\n",
        "    stacked_weights.append(i['totalWeight']) #grabs weight info to be applied"
      ],
      "metadata": {
        "id": "Bwz2Ob388CRd"
      },
      "execution_count": null,
      "outputs": []
    },
    {
      "cell_type": "code",
      "source": [
        "\n",
        "########################################Graph generation below#########################################\n",
        "stacked_variable = [] # list to hold the infromation from all the files that we will plot\n",
        "stacked_weights = [] #list to hold the weights from each file\n",
        "\n",
        "for i in our_dataframes: #goes through each item in the list (i.e. it goes through each of the files)\n",
        "    info = i['ETmiss'] #grabs the missing transverse energy information from each file\n",
        "    stacked_variable.append(info) #adds this information to stacked_variable, so it can be used for plotting\n",
        "    stacked_weights.append(i['totalWeight']) #grabs weight info to be applied\n",
        "\n",
        "plt.hist(stacked_variable,weights=stacked_weights, label=dataframe_names, stacked=True, bins=40, range = (80, 200)) #this plots our stacked histogram (see stacked=True) with labels from the list of our dataframes\n",
        "plt.xlabel('ETmiss [GeV]') # x-axis label\n",
        "plt.ylabel('Events') # y-axis label\n",
        "plt.legend() # add legend to plot\n",
        "plt.savefig(\"ETmissAll_Cut\")\n",
        "plt.close()\n",
        "\n",
        "fig, axes = plt.subplots(1, 2) #to define that we want two columns and one row of subplots\n",
        "ax0, ax1 = axes.flatten()\n",
        "\n",
        "DileptonIM_NoCut = plt.imread('/content/ETmissAll_NoCut.png') #to read the NoCut file\n",
        "ax0.imshow(DileptonIM_NoCut) #to show the NoCut file\n",
        "ax0.set_title(\"Before the cut\")\n",
        "ax0.axis('off') #to get rid of extra axes\n",
        "\n",
        "DileptonIM_Cut = plt.imread('/content/ETmissAll_Cut.png') #to read the Cut file\n",
        "ax1.imshow(DileptonIM_Cut) #to show the Cut file\n",
        "ax1.set_title(\"After the cut\")\n",
        "ax1.axis('off') #to get rid of extra axes\n",
        "\n",
        "fig.set_figwidth(12)\n",
        "fig.set_figheight(6)\n",
        "fig.tight_layout()\n",
        "plt.show()\n",
        "\n",
        "\n",
        "########################################Significance calculation below########################################\n",
        "\n",
        "\n",
        "signal_weight = 0\n",
        "background_weight = 0\n",
        "\n",
        "for i in range(0,4):\n",
        "  background_weight += sum(our_dataframes[i]['totalWeight'])\n",
        "\n",
        "signal_weight += sum(our_dataframes[4]['totalWeight'])\n",
        "significance = signal_weight/(np.sqrt(background_weight))\n",
        "significance\n",
        "sig_4decimal = '%.4f'%significance\n",
        "print(\"Our new significance is: \"+ sig_4decimal+\"σ\")\n",
        "def probability_analysis(significance):\n",
        "  return 100*st.norm.cdf(significance)\n",
        "\n",
        "prob_3decimal = '%.3f'%probability_analysis(significance)\n",
        "print(\"The probability that our result is genuine evidence of dark matter is: \"+ prob_3decimal +\"%\")"
      ],
      "metadata": {
        "colab": {
          "base_uri": "https://localhost:8080/",
          "height": 528
        },
        "id": "y3PiH4dcDsJW",
        "outputId": "4f25516b-fd1f-4705-c213-e427cd74fc31"
      },
      "execution_count": null,
      "outputs": [
        {
          "output_type": "display_data",
          "data": {
            "text/plain": [
              "<Figure size 1200x600 with 2 Axes>"
            ],
            "image/png": "[encoded data removed]"
          },
          "metadata": {}
        },
        {
          "output_type": "stream",
          "name": "stdout",
          "text": [
            "Our new significance is: 2.3738σ\n",
            "The probability that our result is genuine evidence of dark matter is: 99.120%\n"
          ]
        }
      ]
    },
    {
      "cell_type": "markdown",
      "source": [
        "We should be able to see that the significance has clearly been improved by performing this cut, but we're still a little bit off from the value of 3 that we want.\n",
        "<br>\n",
        "<br>\n",
        "<font color=\"red\">QUIZ:</font> Press play and check what you know about cuts!"
      ],
      "metadata": {
        "id": "xmCrdUAgLdf0"
      }
    },
    {
      "cell_type": "code",
      "source": [
        "#@title\n",
        "print(\"                Why are cuts useful?\")\n",
        "out = widgets.Dropdown(options=[('',9),('They manipulate data to make our statistical significance look bigger than it should be',0),('They cut out less useful parts of our data to increase our statistical significance',1),('They allow us to cut out all the background without getting rid of any signal',2)],description='Answer:',disabled=False)\n",
        "def drop_check(guess):\n",
        "  if guess==9:\n",
        "    print('')\n",
        "  elif guess==0:\n",
        "    print(\"\\033[1;31;47m Incorrect.  \\n\")\n",
        "    print(\"\\033[0;30;107m Though they do make the statistical significance bigger, this isn't some kind of trick - cutting genuinely makes the result less likely to be a fluke.\")\n",
        "  elif guess==1:\n",
        "    print(\"\\033[1;32;47m Correct!  \\n\")\n",
        "  else:\n",
        "    print(\"\\033[1;31;47m Incorrect.  \\n\")\n",
        "    print(\"\\033[0;30;107m Though they should cut out much more background than signal, it's generally impossible to cut out all the background, or to avoid cutting out a little bit of signal.\")\n",
        "check = widgets.interactive_output(drop_check,{'guess':out})\n",
        "widgets.HBox([out,check])"
      ],
      "metadata": {
        "id": "pCMcGk2TfdN9",
        "cellView": "form",
        "colab": {
          "base_uri": "https://localhost:8080/",
          "height": 67,
          "referenced_widgets": [
            "5a217e1218a14512a7c5a6b6d3357289",
            "6c4f52cda4a04281abeaaaeb278f4eb5",
            "52416a3f3e134388b878f3d0831337a6",
            "23da8844fc1e4d2da3420c8e38c26e07",
            "c4a723274d884c7bb53d327454543b62",
            "df509bc2c0484236a7bddc3bca3e74ea",
            "0fd30b50a2284bdfbc29ff1f3d4cbc27"
          ]
        },
        "outputId": "76372ca9-433d-4c18-aafd-0357c7de44d9"
      },
      "execution_count": null,
      "outputs": [
        {
          "output_type": "stream",
          "name": "stdout",
          "text": [
            "                Why are cuts useful?\n"
          ]
        },
        {
          "output_type": "display_data",
          "data": {
            "text/plain": [
              "HBox(children=(Dropdown(description='Answer:', options=(('', 9), ('They manipulate data to make our statistica…"
            ],
            "application/vnd.jupyter.widget-view+json": {
              "version_major": 2,
              "version_minor": 0,
              "model_id": "5a217e1218a14512a7c5a6b6d3357289"
            }
          },
          "metadata": {}
        }
      ]
    },
    {
      "cell_type": "markdown",
      "source": [
        "### 4.4 - Cut 3: $E_{Tmiss}/H_T$\n",
        "Now we will further improve our significance by taking the cut we just did a step further by making it more advanced. We will do this by making a cut on the variable $E_{Tmiss}/H_T$.\n",
        "<br>\n",
        "Let's break this down so we understand what this cut means. We already know that $E_{Tmiss}$ is the missing transverse momentum, but what is $H_T$?\n",
        "<br>\n",
        "<br>\n",
        "$H_T$ is the (scalar) sum of all the momentum resulting from a collision, except for the missing momentum, $E_T$. The ratio of the two, $E_{Tmiss}/H_T$,  helps us identify dark matter events: for a DM-300 dark matter event, this ratio will be larger than usual. Therefore we can cut out data where this ratio is small to get rid of some background while keeping as much signal as possible.\n",
        "<br>\n",
        "<br>\n",
        "According to the paper, events with an $E_{Tmiss}/H_T$ ratio above **0.6** are kept. Now, we'll work on recreating this cut. There's a few bits of code here - the second cell does the actual cut. The rest is dedicated to visualising the cut."
      ],
      "metadata": {
        "id": "AxgXk3q5N9DK"
      }
    },
    {
      "cell_type": "markdown",
      "source": [
        "Now, you can try to complete the code for this cut yourself!\n",
        "<br>\n",
        "<br>\n",
        "<font color=\"red\">TASK:</font> Fill in the spaces in the code below to complete this cut - you will need to write the name of the column of the $E_{Tmiss}/H_T$ that is used in the dataframes, and you will also have to write in the value of the ratio above which events are kept."
      ],
      "metadata": {
        "id": "TRbMpE2gQLdV"
      }
    },
    {
      "cell_type": "code",
      "source": [
        "###################### Visualising the data before the cut ##########################\n",
        "\n",
        "stacked_variable = []\n",
        "stacked_weights = []\n",
        "bin_num = 40\n",
        "\n",
        "for i in our_dataframes:\n",
        "    info = i['ETmiss_over_HT']\n",
        "    stacked_variable.append(info)\n",
        "    stacked_weights.append(i['totalWeight'])\n",
        "\n",
        "plt.hist(stacked_variable, weights=stacked_weights, label=dataframe_names, stacked=True, bins=bin_num, range = (0.4, 1.4))\n",
        "plt.xlabel('ETmiss over HT') # x-axis label\n",
        "plt.ylabel('Events') # y-axis label\n",
        "plt.legend() # add legend to plot\n",
        "plt.savefig('EToverHTNo_Cut.png')\n",
        "Image('EToverHTNo_cut.png')\n",
        "#plt.show\n",
        "plt.close()"
      ],
      "metadata": {
        "id": "_6YGzitk0PuR"
      },
      "execution_count": null,
      "outputs": []
    },
    {
      "cell_type": "code",
      "source": [
        "################# This simple code does the actual cut! #############################\n",
        "\n",
        "for i in our_dataframes: #goes through the remaining events in the files after 2nd cut\n",
        "    cut_val = list(i.index[i['ETmiss_over_HT']<0.6]) #finds all events with ETmiss/HT below our threshold\n",
        "    i.drop(cut_val,inplace=True) #and removes them\n",
        "#print(cut_val) #If you want to see what data we're removing, you can uncomment this bit of code"
      ],
      "metadata": {
        "id": "2cNQWb7SVWjD"
      },
      "execution_count": null,
      "outputs": []
    },
    {
      "cell_type": "code",
      "source": [
        "############################### Histogram generation ######################################\n",
        "stacked_variable = []\n",
        "stacked_weights = []\n",
        "bin_num = 40\n",
        "\n",
        "for i in our_dataframes:\n",
        "    info = i['ETmiss_over_HT']\n",
        "    stacked_variable.append(info)\n",
        "    stacked_weights.append(i['totalWeight'])\n",
        "\n",
        "plt.hist(stacked_variable, weights=stacked_weights, label=dataframe_names, stacked=True, bins=bin_num, range = (0.5, 1.4))\n",
        "plt.xlabel('ETmiss over HT') # x-axis label\n",
        "plt.ylabel('Events') # y-axis label\n",
        "plt.legend() # add legend to plot\n",
        "plt.savefig('EToverHTCut.png')\n",
        "plt.close()\n",
        "\n",
        "fig, axes = plt.subplots(1, 2) #to define that we want two columns and one row of subplots\n",
        "ax0, ax1 = axes.flatten()\n",
        "\n",
        "DileptonIM_NoCut = plt.imread('/content/EToverHTNo_Cut.png') #to read the NoCut file\n",
        "ax0.imshow(DileptonIM_NoCut) #to show the NoCut file\n",
        "ax0.set_title(\"Before the cut\")\n",
        "ax0.axis('off') #to get rid of extra axes\n",
        "\n",
        "DileptonIM_Cut = plt.imread('/content/EToverHTCut.png') #to read the Cut file\n",
        "ax1.imshow(DileptonIM_Cut) #to show the Cut file\n",
        "ax1.set_title(\"After the cut\")\n",
        "ax1.axis('off') #to get rid of extra axes\n",
        "\n",
        "fig.set_figwidth(12)\n",
        "fig.set_figheight(6)\n",
        "fig.tight_layout()\n",
        "plt.show()\n",
        "\n",
        "\n",
        "########################################Significance calculation ########################################\n",
        "signal_weight = 0\n",
        "background_weight = 0\n",
        "\n",
        "for i in range(0,4):\n",
        "  background_weight += sum(our_dataframes[i]['totalWeight'])\n",
        "\n",
        "signal_weight += sum(our_dataframes[4]['totalWeight'])\n",
        "significance = signal_weight/(np.sqrt(background_weight))\n",
        "sig_3decimal = '%.3f'%significance\n",
        "print(\"Our new significance is: \"+ sig_3decimal+\"σ\")\n",
        "def probability_analysis(significance):\n",
        "  return 100*st.norm.cdf(significance)\n",
        "\n",
        "prob_2decimal = '%.2f'%probability_analysis(significance)\n",
        "print(\"The probability that our result is genuine evidence of dark matter is: \"+ prob_2decimal +\"%\")"
      ],
      "metadata": {
        "colab": {
          "base_uri": "https://localhost:8080/",
          "height": 528
        },
        "id": "z77eNYSK3uPd",
        "outputId": "8b308143-10fb-4da0-c374-227aa479d21f"
      },
      "execution_count": null,
      "outputs": [
        {
          "output_type": "display_data",
          "data": {
            "text/plain": [
              "<Figure size 1200x600 with 2 Axes>"
            ],
            "image/png": "[encoded data removed]"
          },
          "metadata": {}
        },
        {
          "output_type": "stream",
          "name": "stdout",
          "text": [
            "Our new significance is: 2.487σ\n",
            "The probability that our result is genuine evidence of dark matter is: 99.36%\n"
          ]
        }
      ]
    },
    {
      "cell_type": "markdown",
      "source": [
        "We've increased the significance even further now - we're getting closer to our goal. With a significance of greater than 2σ, there's a less than 2% chance that our results are a fluke.\n",
        "<br>\n",
        "<br>\n",
        "In many fields of research this would be enough to prove what we are looking for, but in particle physics, we want to achieve a significance of 3σ to prove we have evidence. At that point, there's a less than 0.14% chance our results were generated by random statistical fluctuations in the data.\n",
        "<br>\n",
        "<br>\n",
        "<font color=\"red\">QUIZ:</font> Press play below to learn a bit more about performing cuts!"
      ],
      "metadata": {
        "id": "s7rlbmMS-Rtm"
      }
    },
    {
      "cell_type": "code",
      "source": [
        "#@title\n",
        "print(\"     Is it useful to do cuts on multiple variables?\")\n",
        "out = widgets.Dropdown(options=[('',9),('Yes - hopefully one of the cuts will get rid of all our background',0),('No, it removes too much signal',1),('Yes, different bits of the background can be cut out by different types of cut',2)],description='Answer:',disabled=False)\n",
        "def drop_check(guess):\n",
        "  if guess==9:\n",
        "    print('')\n",
        "  elif guess==0:\n",
        "    print(\"\\033[1;31;47m Incorrect.  \\n\")\n",
        "    print(\"\\033[0;30;107m Repeatedly cutting is a gradual process, getting rid of different parts of the background over time with each cut \\n\")\n",
        "  elif guess==2:\n",
        "    print(\"\\033[1;32;47m Correct!  \\n\")\n",
        "  elif guess==1:\n",
        "    print(\"\\033[1;31;47m Incorrect.  \\n\")\n",
        "    print(\"\\033[0;30;107m Though it can remove too much signal if you do it wrong, if done correctly it can instead help to increase the statistical significance\")\n",
        "check = widgets.interactive_output(drop_check,{'guess':out})\n",
        "widgets.HBox([out,check])"
      ],
      "metadata": {
        "id": "-iCoqd5UHSWY",
        "colab": {
          "base_uri": "https://localhost:8080/",
          "height": 67,
          "referenced_widgets": [
            "35468a6e265a4db48ce2e3d780af4c34",
            "2e8b371bcac64eb389bfac4d5852fee6",
            "f06b814ba01d4f9c986b5c9ce24f53c7",
            "272dfe07df92459c8589b4f12ce24997",
            "286fc32f4321418cb7a732fd64dc0daa",
            "bd99ff89fc41480daba61d171611a1d5",
            "6ef3f3e14b984349a558ccfde0ee37ee"
          ]
        },
        "outputId": "620483b5-669e-4750-c285-f49e3d56d751",
        "cellView": "form"
      },
      "execution_count": null,
      "outputs": [
        {
          "output_type": "stream",
          "name": "stdout",
          "text": [
            "     Is it useful to do cuts on multiple variables?\n"
          ]
        },
        {
          "output_type": "display_data",
          "data": {
            "text/plain": [
              "HBox(children=(Dropdown(description='Answer:', options=(('', 9), ('Yes - hopefully one of the cuts will get ri…"
            ],
            "application/vnd.jupyter.widget-view+json": {
              "version_major": 2,
              "version_minor": 0,
              "model_id": "35468a6e265a4db48ce2e3d780af4c34"
            }
          },
          "metadata": {}
        }
      ]
    },
    {
      "cell_type": "code",
      "source": [
        "#@title\n",
        "print(\"     Why do cuts help increase the significance?\")\n",
        "out = widgets.Dropdown(options=[('',9),('Because they only remove background events so that the proportion of background to signal increases',0),('Because they cut out much more background than signal so that the proportion of signal to background increases',1),('Because they analyse the data for us so that we can identify all the signal events',2)],description='Answer:',disabled=False)\n",
        "def drop_check(guess):\n",
        "  if guess==9:\n",
        "    print('')\n",
        "  elif guess==0:\n",
        "    print(\"\\033[1;31;47m Incorrect.  \\n\")\n",
        "    print(\"\\033[0;30;107m This could be true for very loose cuts, but most of the time, it's impossible to avoid getting rid of some signal with a cut \\n\")\n",
        "  elif guess==1:\n",
        "    print(\"\\033[1;32;47m Correct!  \\n\")\n",
        "  elif guess==2:\n",
        "    print(\"\\033[1;31;47m Incorrect.  \\n\")\n",
        "    print(\"\\033[0;30;107m Cuts can make the data easier to analyse so that humans can later identify the signal, but they can\\'t identify the signal for us\")\n",
        "check = widgets.interactive_output(drop_check,{'guess':out})\n",
        "widgets.HBox([out,check])"
      ],
      "metadata": {
        "id": "DFSFtfVTAvAZ",
        "colab": {
          "base_uri": "https://localhost:8080/",
          "height": 67,
          "referenced_widgets": [
            "f696f1d5a43349358ec24160ffc410d8",
            "1dfe5955d05b4c27845d860d02848805",
            "4aee718a95a840f5a7115fc06e96e987",
            "17c503e772534cf4baa12ccba38793b6",
            "032a8b146aee464bb8e7ac44e39fe8f6",
            "882d5b647d7e47f3bc972af4e6d77c01",
            "5efd4e2414354293b2a3296347d6f2c0"
          ]
        },
        "outputId": "299f19c1-788a-40e7-83b7-22080778f0e8",
        "cellView": "form"
      },
      "execution_count": null,
      "outputs": [
        {
          "output_type": "stream",
          "name": "stdout",
          "text": [
            "     Why do cuts help increase the significance?\n"
          ]
        },
        {
          "output_type": "display_data",
          "data": {
            "text/plain": [
              "HBox(children=(Dropdown(description='Answer:', options=(('', 9), ('Because they only remove background events …"
            ],
            "application/vnd.jupyter.widget-view+json": {
              "version_major": 2,
              "version_minor": 0,
              "model_id": "f696f1d5a43349358ec24160ffc410d8"
            }
          },
          "metadata": {}
        }
      ]
    },
    {
      "cell_type": "markdown",
      "source": [
        "### 5 - Conclusion\n",
        "\n",
        "After a very long time determining what were the optimal cuts to make, we managed to increase our statistical significance from slightly less than 2σ to near 2.5σ. For a lot of research, cut-based analysis is powerful enough to cut out almost all the background, and achieve a very high statistical significance.\n",
        "\n",
        "However, we're trying to study dark matter, which comes with a lot of challenges. Due to these challenges, we have not yet reached our goal of 3σ, and there's still a >0.5% chance that our results are illusory, caused by a statistical fluctuation. As unlikely as that is, we need to be certain! So what can we do next?\n",
        "\n",
        "Unfortunately, more cuts simply won't be enough. DM+Z->ll processes are incredibly rare, and there is so much background to sift through that it's humanly impossible to get a good enough signal to background ratio with this data. In fact, there is a large amount of \"irreducible background\", which is background that is completely identical to the signal. This makes manual analysis of this data extremely difficult.\n",
        "\n",
        "But in the modern day, we have other avenues open to us. Even if it's humanly impossible, maybe we'll be able to solve this problem with artificial intelligence. We can construct neural networks and similar machine learning structures to be able to analyse many different variables at the same time, in ways that humans would find impossible.\n",
        "\n",
        "In the next notebook we will explore these possibilities, using powerful machine learning techniques to separate our signal from the background even further, once more aiming for a statistical significance of 3σ.\n",
        "<br>\n",
        "<br>\n",
        "The next notebook, on the use of machine learning to search for dark matter, is located [here.](https://colab.research.google.com/drive/1zm7BHUlwZu3iDrpOFSGRfC3Z30iXE1p3?usp=sharing)\n",
        "<br>\n",
        "<br>\n",
        "We would also appreciate if you could fill out our evaluation form and quiz on this notebook using the link [here.](https://docs.google.com/forms/d/e/1FAIpQLSfVMxkU0OTahESUkA3ENLN6iBli9gAm6vmpmDvMjtQaoik3Sw/viewform?usp=sf_link)"
      ],
      "metadata": {
        "id": "xzWRemNoGphl"
      }
    },
    {
      "cell_type": "markdown",
      "source": [
        "### 6 - Glossary\n",
        "#### *A list of the various key words and phrases you'll become familiar with over the course of this notebook!*\n",
        "Fundamental Particles - The most fundamental (smallest) indivisible structures in the universe, from which all matter is comprised.\n",
        "\n",
        "Standard Model (SM) - Contains the fundamental particles (SM is broken into three parts: the quarks, leptons, and bosons)\n",
        "\n",
        " - The SM is read left to right, with each adjacent particle representing a heavier cousin of its original form ie. up quark is lighter than the heavier charm, and even heavier top.\n",
        "<img src=\"https://upload.wikimedia.org/wikipedia/commons/0/00/Standard_Model_of_Elementary_Particles.svg\" style=\"width:400%;\"  height=\"400\" width=\"600\" align=\"centre\">\n",
        "\n",
        "Hadrons - Contains various quark combinations (held together by gluons)\n",
        "\n",
        "Bosons - Force carrier particles with integer spin values.\n",
        "\n",
        "Fermions - All physical matter, with half-integer spin values.\n",
        "\n",
        " - Quarks make up the physical matter, held together by gluons.\n",
        "\n",
        " - Leptons are either the Electron, with its heavier counterparts, and the Neutrinos, having each a corresponding lepton.\n",
        "\n",
        " - Bosons are particles who are also force carriers. For example, the photon is a boson, as it is the Electromagnetic(EM) force carrier.\n",
        "\n",
        "<img src=\"https://upload.wikimedia.org/wikipedia/commons/5/5d/Bosons-Hadrons-Fermions-RGB-png2.png\" style=\"width:100%;\"  height=\"200\" width=\"600\" align=\"centre\">\n",
        "\n",
        "\n",
        "LHC - Large Hadron Collider.\n",
        "\n",
        "ATLAS - A Toroidal LHC ApparatuS, is one of four detectors in the LHC. It can detect the widest variety of particles of the four detectors.\n",
        "\n",
        "<img src=\"https://atlas.cern/sites/default/files/inline-images/Detector%20reduce.png\" style=\"width:100%;\"  height=\"200\" width=\"500\" align=\"centre\">\n",
        "\n",
        "\n",
        "Event - Where the proton beams collide, we call said collision an event.\n",
        "\n",
        "Signal - The detections left by the fundamental particles in the detectors.\n",
        "\n",
        "Missing transverse momentum/energy - The fancy way of saying we’ve “lost” energy. This may be to particles that no longer exist (new particles) or particles that escape the detectors, like neutrinos.\n",
        "\n",
        "Significance - How sure we are that a certain data point lies outside of acceptable limitations (for more, go to Section 3.3).\n",
        "\n",
        "Final state - The end-state of the event, after all energy has been accounted for (a bit like having the products of a chemical reaction).\n",
        "\n",
        "Luminosity - The number of events over a given time period.\n",
        "\n",
        "Pseudorapidity - The angle of the particles detected relative to the proton beam.\n",
        "\n",
        "Branching ratios - Otherwise known as branching fractions, BR’s offer the same principal as exponential decay.\n",
        "\n",
        "Dark matter (DM) - [This is what we are looking for!] A type of matter invisible to the human eye (does not reflect photons in the visible spectrum). As we understand, DM is responsible for the reason why the light from stars in distant galaxies behave differently to how we predict. This is what we are looking for as part of this project. We can detect its existence by measuring the way that the light is manipulated by its gravitational attraction in deep space.\n",
        "\n",
        "\n",
        "Weakly interacting Massive Particle (WIMP) - A proposed model for the DM particle. This hypothesised particle is nearly invisible to detectors.\n",
        "\n",
        "\n"
      ],
      "metadata": {
        "id": "nUyfqp91GndQ"
      }
    },
    {
      "cell_type": "markdown",
      "source": [
        "### 7 - Extension Tasks\n",
        "<br>\n",
        "\n",
        "1. In this notebook the dark matter file we used was called DM_300, but what does the 300 refer to? This is an estimate of the hypothesised mass of the dark matter particle, and we have a range where this estimate can lie within.\n",
        "<br><br>\n",
        "Look at the website where we got our files from ([here](https://atlas-opendata.web.cern.ch/atlas-opendata/samples/2020/csv/DM_ML_notebook)) and choose a different DM file to DM_300. Rewrite the code in section 2.3 to import that file instead. Now rerun the code in this notebook.\n",
        "<br><br>\n",
        "How do the cuts affect that file differently? Why do they have a different effect?<br><br>\n",
        "2. If you had a look at the cuts performed in the ATLAS paper we are basing our cuts on ([page 6 here](https://arxiv.org/pdf/1708.09624.pdf)), you would have noticed we are only doing three of the cuts they have done.\n",
        "<br><br>\n",
        "Select another cut from the paper (you may need to read earlier in the paper if you don't understand the variable) and use the empty code cell below to perform that cut. You should also plot histograms before and after performing that cut.\n",
        "<br><br>\n",
        "Does this improve the significance? By how much? Can you see any differences between the histogram before and after making your cut?\n",
        "<br><br>\n",
        "3. The cuts we have are not in any specific order - but should they be in an order? Have another look at the histogram analyser ([here](http://opendata.atlas.cern/visualisations/analyser-js.php)). With each cut you make, you will notice that the following cut has less impact on the significance - the effect of cuts are not independent of one another.\n",
        "<br><br>\n",
        "Use the empty code cell below to rewrite the cuts that you have made so far in the notebook, but in a different order.\n",
        "<br><br>\n",
        "Which order has the biggest impact on the significance when done first? What is the best order to do the cuts?\n",
        "<br><br>\n",
        "Having to work out things like this is another reason why machine learning is a useful technique as we would not have to do this!\n"
      ],
      "metadata": {
        "id": "pt8XWy75X0Hc"
      }
    },
    {
      "cell_type": "code",
      "source": [
        "#use this code cell to perform the extension tasks"
      ],
      "metadata": {
        "id": "6KxStIRaD7u0"
      },
      "execution_count": null,
      "outputs": []
    },
    {
      "cell_type": "markdown",
      "source": [
        "###8 - Credits and Licensing"
      ],
      "metadata": {
        "id": "-QrXC-OJHFTM"
      }
    },
    {
      "cell_type": "markdown",
      "source": [
        "Project Lead: \t\tKate Shaw\n",
        "\n",
        "Project Supervisors: \tMeirin Oan Evans, Zöe Earnshaw, Thomas Stevenson\n",
        "\n",
        "Developers: \t\tChristopher Comiskey-Erazo, Iago Rosetto, Oscar Jackson, Isaac Dalziel\n",
        "<br>\n",
        "<br>\n",
        "Copyright:\n",
        "The notebook is released under the [Creative Commons CC0 waiver](https://creativecommons.org/publicdomain/zero/1.0/).\n",
        "<img src=\"https://mirrors.creativecommons.org/presskit/buttons/88x31/png/cc-zero.png\" style=\"width:100%;\"  height=\"40\" width=\"120\" align=\"right\">"
      ],
      "metadata": {
        "id": "9lfYaDByPUdv"
      }
    }
  ]
}